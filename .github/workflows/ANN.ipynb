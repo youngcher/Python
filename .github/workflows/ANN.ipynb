{
 "cells": [
  {
   "cell_type": "code",
   "execution_count": 1,
   "id": "c2fe28c6-5387-4418-89ed-26f1942a06ed",
   "metadata": {},
   "outputs": [],
   "source": [
    "import tensorflow as tf\n",
    "from tensorflow import keras\n",
    "from tensorflow.keras.layers import Dense"
   ]
  },
  {
   "cell_type": "code",
   "execution_count": 2,
   "id": "6e51d7ce-c1ce-4168-b83b-073505bf201d",
   "metadata": {},
   "outputs": [],
   "source": [
    "import numpy as np\n",
    "import matplotlib.pyplot as plt\n",
    "from sklearn.model_selection import train_test_split"
   ]
  },
  {
   "cell_type": "code",
   "execution_count": 3,
   "id": "dbab0500-5613-4e2b-b00d-a688c8acce60",
   "metadata": {},
   "outputs": [],
   "source": [
    "x, y = (np.arange(100), np.arange(100, dtype='float'))\n",
    "y += np.random.normal(0,5,100)"
   ]
  },
  {
   "cell_type": "code",
   "execution_count": 4,
   "id": "0d1b8eee-54e9-43fb-9227-9accb29f34b8",
   "metadata": {},
   "outputs": [
    {
     "data": {
      "image/png": "[encoded data removed]",
      "text/plain": [
       "<Figure size 432x288 with 1 Axes>"
      ]
     },
     "metadata": {
      "needs_background": "light"
     },
     "output_type": "display_data"
    }
   ],
   "source": [
    "plt.scatter(x,y)\n",
    "plt.show()"
   ]
  },
  {
   "cell_type": "code",
   "execution_count": 5,
   "id": "c2f1f407-4eae-4d0d-aa19-f99616ab58ec",
   "metadata": {},
   "outputs": [],
   "source": [
    "X_train, X_test, y_train, y_test = train_test_split(x,y, test_size=0.2)"
   ]
  },
  {
   "cell_type": "code",
   "execution_count": 6,
   "id": "7125262e-a611-4104-b272-69d8b108d302",
   "metadata": {},
   "outputs": [],
   "source": [
    "#신경망, sequential를 사용한 신경망을 추가한다\n",
    "model = tf.keras.models.Sequential()\n",
    "model.add(Dense(8, input_shape=(1,), activation='linear')) #뉴련의 수, 입력데이터의 형태, #입력층(input Layer)\n",
    "model.add(Dense(4, input_shape=(1,), activation='linear')) # Hidden Layer\n",
    "model.add(Dense(2, input_shape=(1,), activation='linear')) # Hidden Layer\n",
    "model.add(Dense(1, input_shape=(1,), activation='linear')) # Output Layer"
   ]
  },
  {
   "cell_type": "code",
   "execution_count": null,
   "id": "9e141854-c4b0-44aa-9261-25d1560184f5",
   "metadata": {},
   "outputs": [],
   "source": []
  },
  {
   "cell_type": "code",
   "execution_count": 7,
   "id": "5e5e0884-1fa6-4aab-9033-d864e8c7e876",
   "metadata": {},
   "outputs": [],
   "source": [
    "model.compile(loss='mse', optimizer='adam')"
   ]
  },
  {
   "cell_type": "code",
   "execution_count": 8,
   "id": "266197f9-4755-49ae-a48d-5f8ecb5882d8",
   "metadata": {},
   "outputs": [
    {
     "name": "stdout",
     "output_type": "stream",
     "text": [
      "Epoch 1/100\n",
      "64/64 [==============================] - 1s 4ms/step - loss: 1731.9288 - val_loss: 768.4790\n",
      "Epoch 2/100\n",
      "64/64 [==============================] - 0s 2ms/step - loss: 380.3478 - val_loss: 59.0636\n",
      "Epoch 3/100\n",
      "64/64 [==============================] - 0s 2ms/step - loss: 40.0595 - val_loss: 33.8145\n",
      "Epoch 4/100\n",
      "64/64 [==============================] - 0s 2ms/step - loss: 25.3091 - val_loss: 40.2243\n",
      "Epoch 5/100\n",
      "64/64 [==============================] - 0s 2ms/step - loss: 25.7848 - val_loss: 38.7102\n",
      "Epoch 6/100\n",
      "64/64 [==============================] - 0s 2ms/step - loss: 25.9191 - val_loss: 35.4903\n",
      "Epoch 7/100\n",
      "64/64 [==============================] - 0s 2ms/step - loss: 25.4862 - val_loss: 39.5025\n",
      "Epoch 8/100\n",
      "64/64 [==============================] - 0s 2ms/step - loss: 25.4289 - val_loss: 37.6734\n",
      "Epoch 9/100\n",
      "64/64 [==============================] - 0s 2ms/step - loss: 25.3559 - val_loss: 37.8275\n",
      "Epoch 10/100\n",
      "64/64 [==============================] - 0s 2ms/step - loss: 26.1594 - val_loss: 39.0759\n",
      "Epoch 11/100\n",
      "64/64 [==============================] - 0s 2ms/step - loss: 24.9853 - val_loss: 32.4480\n",
      "Epoch 12/100\n",
      "64/64 [==============================] - 0s 2ms/step - loss: 26.4255 - val_loss: 36.6268\n",
      "Epoch 13/100\n",
      "64/64 [==============================] - 0s 2ms/step - loss: 25.6833 - val_loss: 32.3741\n",
      "Epoch 14/100\n",
      "64/64 [==============================] - 0s 2ms/step - loss: 25.9360 - val_loss: 36.0636\n",
      "Epoch 15/100\n",
      "64/64 [==============================] - 0s 2ms/step - loss: 25.6869 - val_loss: 37.1296\n",
      "Epoch 16/100\n",
      "64/64 [==============================] - 0s 2ms/step - loss: 26.1502 - val_loss: 35.7828\n",
      "Epoch 17/100\n",
      "64/64 [==============================] - 0s 3ms/step - loss: 25.8139 - val_loss: 38.0385\n",
      "Epoch 18/100\n",
      "64/64 [==============================] - 0s 2ms/step - loss: 26.1558 - val_loss: 32.5872\n",
      "Epoch 19/100\n",
      "64/64 [==============================] - 0s 3ms/step - loss: 26.1550 - val_loss: 43.3852\n",
      "Epoch 20/100\n",
      "64/64 [==============================] - 0s 3ms/step - loss: 26.7291 - val_loss: 36.5308\n",
      "Epoch 21/100\n",
      "64/64 [==============================] - 0s 3ms/step - loss: 25.6809 - val_loss: 39.7091\n",
      "Epoch 22/100\n",
      "64/64 [==============================] - 0s 3ms/step - loss: 25.5211 - val_loss: 32.3308\n",
      "Epoch 23/100\n",
      "64/64 [==============================] - 0s 3ms/step - loss: 26.8723 - val_loss: 33.9628\n",
      "Epoch 24/100\n",
      "64/64 [==============================] - 0s 2ms/step - loss: 27.6421 - val_loss: 39.7082\n",
      "Epoch 25/100\n",
      "64/64 [==============================] - 0s 2ms/step - loss: 27.3111 - val_loss: 30.7124\n",
      "Epoch 26/100\n",
      "64/64 [==============================] - 0s 2ms/step - loss: 25.2036 - val_loss: 40.6286\n",
      "Epoch 27/100\n",
      "64/64 [==============================] - 0s 3ms/step - loss: 26.4153 - val_loss: 34.1802\n",
      "Epoch 28/100\n",
      "64/64 [==============================] - 0s 3ms/step - loss: 25.6626 - val_loss: 32.9132\n",
      "Epoch 29/100\n",
      "64/64 [==============================] - 0s 3ms/step - loss: 26.3652 - val_loss: 34.9785\n",
      "Epoch 30/100\n",
      "64/64 [==============================] - 0s 3ms/step - loss: 26.1154 - val_loss: 41.4720\n",
      "Epoch 31/100\n",
      "64/64 [==============================] - 0s 2ms/step - loss: 25.3094 - val_loss: 35.2528\n",
      "Epoch 32/100\n",
      "64/64 [==============================] - 0s 2ms/step - loss: 25.0554 - val_loss: 51.8920\n",
      "Epoch 33/100\n",
      "64/64 [==============================] - 0s 3ms/step - loss: 28.2700 - val_loss: 36.9237\n",
      "Epoch 34/100\n",
      "64/64 [==============================] - 0s 3ms/step - loss: 25.9821 - val_loss: 49.7755\n",
      "Epoch 35/100\n",
      "64/64 [==============================] - 0s 3ms/step - loss: 27.4330 - val_loss: 37.8536\n",
      "Epoch 36/100\n",
      "64/64 [==============================] - 0s 4ms/step - loss: 25.3518 - val_loss: 41.0348\n",
      "Epoch 37/100\n",
      "64/64 [==============================] - 0s 3ms/step - loss: 25.3921 - val_loss: 32.3162\n",
      "Epoch 38/100\n",
      "64/64 [==============================] - 0s 3ms/step - loss: 28.2057 - val_loss: 30.2747\n",
      "Epoch 39/100\n",
      "64/64 [==============================] - 0s 3ms/step - loss: 26.5393 - val_loss: 38.2782\n",
      "Epoch 40/100\n",
      "64/64 [==============================] - 0s 4ms/step - loss: 25.7256 - val_loss: 30.1160\n",
      "Epoch 41/100\n",
      "64/64 [==============================] - 0s 4ms/step - loss: 27.1111 - val_loss: 38.6542\n",
      "Epoch 42/100\n",
      "64/64 [==============================] - 0s 5ms/step - loss: 26.4958 - val_loss: 31.3560\n",
      "Epoch 43/100\n",
      "64/64 [==============================] - 0s 4ms/step - loss: 27.1967 - val_loss: 40.5008\n",
      "Epoch 44/100\n",
      "64/64 [==============================] - 0s 5ms/step - loss: 24.9836 - val_loss: 40.3648\n",
      "Epoch 45/100\n",
      "64/64 [==============================] - 0s 4ms/step - loss: 28.4041 - val_loss: 33.3885\n",
      "Epoch 46/100\n",
      "64/64 [==============================] - 0s 4ms/step - loss: 24.7690 - val_loss: 49.0585\n",
      "Epoch 47/100\n",
      "64/64 [==============================] - 0s 5ms/step - loss: 26.6221 - val_loss: 44.2341\n",
      "Epoch 48/100\n",
      "64/64 [==============================] - 0s 5ms/step - loss: 25.7365 - val_loss: 37.6713\n",
      "Epoch 49/100\n",
      "64/64 [==============================] - 0s 4ms/step - loss: 27.1670 - val_loss: 39.4901\n",
      "Epoch 50/100\n",
      "64/64 [==============================] - 0s 5ms/step - loss: 26.7449 - val_loss: 40.8695\n",
      "Epoch 51/100\n",
      "64/64 [==============================] - 0s 5ms/step - loss: 25.9009 - val_loss: 44.2945\n",
      "Epoch 52/100\n",
      "64/64 [==============================] - 0s 5ms/step - loss: 26.8164 - val_loss: 31.9656\n",
      "Epoch 53/100\n",
      "64/64 [==============================] - 0s 4ms/step - loss: 27.7484 - val_loss: 30.5942\n",
      "Epoch 54/100\n",
      "64/64 [==============================] - 0s 4ms/step - loss: 26.2936 - val_loss: 40.6967\n",
      "Epoch 55/100\n",
      "64/64 [==============================] - 0s 4ms/step - loss: 25.7516 - val_loss: 35.3772\n",
      "Epoch 56/100\n",
      "64/64 [==============================] - 0s 5ms/step - loss: 25.9777 - val_loss: 49.8534\n",
      "Epoch 57/100\n",
      "64/64 [==============================] - 0s 5ms/step - loss: 26.8863 - val_loss: 34.7821\n",
      "Epoch 58/100\n",
      "64/64 [==============================] - 0s 4ms/step - loss: 26.0098 - val_loss: 40.2819\n",
      "Epoch 59/100\n",
      "64/64 [==============================] - 0s 4ms/step - loss: 27.7207 - val_loss: 48.8496\n",
      "Epoch 60/100\n",
      "64/64 [==============================] - 0s 4ms/step - loss: 24.7816 - val_loss: 29.4767\n",
      "Epoch 61/100\n",
      "64/64 [==============================] - 0s 5ms/step - loss: 27.1855 - val_loss: 38.3503\n",
      "Epoch 62/100\n",
      "64/64 [==============================] - 0s 5ms/step - loss: 27.0941 - val_loss: 42.1890\n",
      "Epoch 63/100\n",
      "64/64 [==============================] - 0s 4ms/step - loss: 25.9782 - val_loss: 35.1564\n",
      "Epoch 64/100\n",
      "64/64 [==============================] - 0s 4ms/step - loss: 25.9670 - val_loss: 35.5846\n",
      "Epoch 65/100\n",
      "64/64 [==============================] - 0s 4ms/step - loss: 25.9720 - val_loss: 36.1195\n",
      "Epoch 66/100\n",
      "64/64 [==============================] - 0s 5ms/step - loss: 25.5381 - val_loss: 35.2384\n",
      "Epoch 67/100\n",
      "64/64 [==============================] - 0s 5ms/step - loss: 26.2694 - val_loss: 30.9727\n",
      "Epoch 68/100\n",
      "64/64 [==============================] - 0s 5ms/step - loss: 28.5603 - val_loss: 30.0577\n",
      "Epoch 69/100\n",
      "64/64 [==============================] - 0s 5ms/step - loss: 26.3423 - val_loss: 31.1922\n",
      "Epoch 70/100\n",
      "64/64 [==============================] - 1s 8ms/step - loss: 25.8882 - val_loss: 29.2469\n",
      "Epoch 71/100\n",
      "64/64 [==============================] - 0s 5ms/step - loss: 26.5793 - val_loss: 35.1944\n",
      "Epoch 72/100\n",
      "64/64 [==============================] - 0s 3ms/step - loss: 25.3075 - val_loss: 29.2016\n",
      "Epoch 73/100\n",
      "64/64 [==============================] - 0s 3ms/step - loss: 27.0826 - val_loss: 34.8643\n",
      "Epoch 74/100\n",
      "64/64 [==============================] - 0s 3ms/step - loss: 25.6479 - val_loss: 35.0369\n",
      "Epoch 75/100\n",
      "64/64 [==============================] - 0s 3ms/step - loss: 26.0112 - val_loss: 29.9721\n",
      "Epoch 76/100\n",
      "64/64 [==============================] - 0s 3ms/step - loss: 25.8383 - val_loss: 51.2179\n",
      "Epoch 77/100\n",
      "64/64 [==============================] - 0s 3ms/step - loss: 27.1794 - val_loss: 32.9314\n",
      "Epoch 78/100\n",
      "64/64 [==============================] - 0s 4ms/step - loss: 26.3475 - val_loss: 34.4500\n",
      "Epoch 79/100\n",
      "64/64 [==============================] - 0s 3ms/step - loss: 25.9019 - val_loss: 48.9300\n",
      "Epoch 80/100\n",
      "64/64 [==============================] - 0s 3ms/step - loss: 25.4409 - val_loss: 39.8548\n",
      "Epoch 81/100\n",
      "64/64 [==============================] - 0s 5ms/step - loss: 27.4369 - val_loss: 34.6504\n",
      "Epoch 82/100\n",
      "64/64 [==============================] - 0s 3ms/step - loss: 25.8255 - val_loss: 34.6114\n",
      "Epoch 83/100\n",
      "64/64 [==============================] - 0s 3ms/step - loss: 25.8988 - val_loss: 34.9214\n",
      "Epoch 84/100\n",
      "64/64 [==============================] - 0s 3ms/step - loss: 23.4654 - val_loss: 29.5634\n",
      "Epoch 85/100\n",
      "64/64 [==============================] - 0s 3ms/step - loss: 27.3539 - val_loss: 42.0326\n",
      "Epoch 86/100\n",
      "64/64 [==============================] - 0s 4ms/step - loss: 25.2991 - val_loss: 40.7802\n",
      "Epoch 87/100\n",
      "64/64 [==============================] - 0s 4ms/step - loss: 26.7159 - val_loss: 31.7708\n",
      "Epoch 88/100\n",
      "64/64 [==============================] - 0s 3ms/step - loss: 26.3160 - val_loss: 37.6901\n",
      "Epoch 89/100\n",
      "64/64 [==============================] - 0s 3ms/step - loss: 26.7260 - val_loss: 38.3373\n",
      "Epoch 90/100\n",
      "64/64 [==============================] - 0s 3ms/step - loss: 26.7129 - val_loss: 35.8909\n",
      "Epoch 91/100\n",
      "64/64 [==============================] - 0s 3ms/step - loss: 25.8277 - val_loss: 29.2997\n",
      "Epoch 92/100\n",
      "64/64 [==============================] - 0s 3ms/step - loss: 25.1088 - val_loss: 37.7134\n",
      "Epoch 93/100\n",
      "64/64 [==============================] - 0s 3ms/step - loss: 27.6764 - val_loss: 34.3182\n",
      "Epoch 94/100\n",
      "64/64 [==============================] - 0s 3ms/step - loss: 25.0019 - val_loss: 31.6079\n",
      "Epoch 95/100\n",
      "64/64 [==============================] - 0s 3ms/step - loss: 27.7152 - val_loss: 42.9389\n",
      "Epoch 96/100\n",
      "64/64 [==============================] - 0s 3ms/step - loss: 27.8175 - val_loss: 30.5439\n",
      "Epoch 97/100\n",
      "64/64 [==============================] - 0s 3ms/step - loss: 25.1187 - val_loss: 36.0614\n",
      "Epoch 98/100\n",
      "64/64 [==============================] - 0s 3ms/step - loss: 25.3818 - val_loss: 39.5107\n",
      "Epoch 99/100\n",
      "64/64 [==============================] - 0s 3ms/step - loss: 27.0782 - val_loss: 35.7551\n",
      "Epoch 100/100\n",
      "64/64 [==============================] - 0s 3ms/step - loss: 25.0590 - val_loss: 41.0825\n"
     ]
    }
   ],
   "source": [
    "hist = model.fit(X_train, y_train, batch_size=1, validation_split=0.2, epochs=100)  #1번 학습한다. , 학습할 때 0.2 분할해 검증한다. 학습에 사용안함\n"
   ]
  },
  {
   "cell_type": "code",
   "execution_count": 9,
   "id": "34aab65d-0f01-4bf4-867f-dc6947feb0e6",
   "metadata": {},
   "outputs": [
    {
     "data": {
      "text/plain": [
       "dict"
      ]
     },
     "execution_count": 9,
     "metadata": {},
     "output_type": "execute_result"
    }
   ],
   "source": [
    "dir(hist.history)\n",
    "type(hist.history)"
   ]
  },
  {
   "cell_type": "code",
   "execution_count": 10,
   "id": "f686d3c5-c26c-493c-aff9-80cbc9ecf1ff",
   "metadata": {},
   "outputs": [
    {
     "data": {
      "text/plain": [
       "[768.47900390625,\n",
       " 59.0635986328125,\n",
       " 33.8144645690918,\n",
       " 40.22432327270508,\n",
       " 38.71017837524414,\n",
       " 35.490264892578125,\n",
       " 39.50251770019531,\n",
       " 37.67344284057617,\n",
       " 37.8275146484375,\n",
       " 39.07589340209961,\n",
       " 32.44802474975586,\n",
       " 36.62678527832031,\n",
       " 32.374149322509766,\n",
       " 36.06364059448242,\n",
       " 37.12956237792969,\n",
       " 35.78278350830078,\n",
       " 38.03853225708008,\n",
       " 32.58717346191406,\n",
       " 43.385169982910156,\n",
       " 36.530799865722656,\n",
       " 39.709102630615234,\n",
       " 32.330806732177734,\n",
       " 33.962833404541016,\n",
       " 39.708221435546875,\n",
       " 30.71240997314453,\n",
       " 40.62862777709961,\n",
       " 34.18021011352539,\n",
       " 32.91319274902344,\n",
       " 34.97854995727539,\n",
       " 41.471961975097656,\n",
       " 35.2528076171875,\n",
       " 51.89199447631836,\n",
       " 36.92367935180664,\n",
       " 49.77552032470703,\n",
       " 37.853641510009766,\n",
       " 41.034812927246094,\n",
       " 32.31618118286133,\n",
       " 30.27466583251953,\n",
       " 38.27824020385742,\n",
       " 30.116024017333984,\n",
       " 38.654170989990234,\n",
       " 31.35599136352539,\n",
       " 40.500755310058594,\n",
       " 40.364803314208984,\n",
       " 33.388511657714844,\n",
       " 49.05845260620117,\n",
       " 44.234073638916016,\n",
       " 37.671295166015625,\n",
       " 39.490135192871094,\n",
       " 40.86946105957031,\n",
       " 44.29452896118164,\n",
       " 31.96561622619629,\n",
       " 30.59415626525879,\n",
       " 40.69666290283203,\n",
       " 35.377166748046875,\n",
       " 49.85337448120117,\n",
       " 34.78207778930664,\n",
       " 40.28194808959961,\n",
       " 48.8496208190918,\n",
       " 29.476703643798828,\n",
       " 38.350257873535156,\n",
       " 42.189029693603516,\n",
       " 35.15643310546875,\n",
       " 35.58455276489258,\n",
       " 36.119537353515625,\n",
       " 35.23836135864258,\n",
       " 30.972686767578125,\n",
       " 30.05771827697754,\n",
       " 31.192161560058594,\n",
       " 29.246923446655273,\n",
       " 35.19442367553711,\n",
       " 29.201618194580078,\n",
       " 34.86433792114258,\n",
       " 35.036903381347656,\n",
       " 29.972064971923828,\n",
       " 51.21788024902344,\n",
       " 32.93138885498047,\n",
       " 34.44998550415039,\n",
       " 48.93000793457031,\n",
       " 39.85478591918945,\n",
       " 34.65043258666992,\n",
       " 34.61142349243164,\n",
       " 34.92144012451172,\n",
       " 29.563350677490234,\n",
       " 42.03258514404297,\n",
       " 40.78024673461914,\n",
       " 31.77083396911621,\n",
       " 37.69005584716797,\n",
       " 38.337284088134766,\n",
       " 35.89089584350586,\n",
       " 29.299707412719727,\n",
       " 37.713409423828125,\n",
       " 34.318199157714844,\n",
       " 31.607934951782227,\n",
       " 42.93894958496094,\n",
       " 30.54387664794922,\n",
       " 36.06136703491211,\n",
       " 39.51066207885742,\n",
       " 35.75508117675781,\n",
       " 41.08246994018555]"
      ]
     },
     "execution_count": 10,
     "metadata": {},
     "output_type": "execute_result"
    }
   ],
   "source": [
    "hist.history['loss'] #학습용 데이터로 측정한 손실\n",
    "hist.history['val_loss'] #검증용 데이터로 측정한 손실"
   ]
  },
  {
   "cell_type": "code",
   "execution_count": 11,
   "id": "42e94684-8f21-40a2-bfbf-a499f41a1b1e",
   "metadata": {},
   "outputs": [],
   "source": [
    "loss = hist.history['loss']\n",
    "val_loss = hist.history['val_loss']"
   ]
  },
  {
   "cell_type": "code",
   "execution_count": 12,
   "id": "6b9bc263-5d61-49ed-8a78-6b3f28dc91b0",
   "metadata": {},
   "outputs": [
    {
     "data": {
      "image/png": "[encoded data removed]",
      "text/plain": [
       "<Figure size 432x288 with 1 Axes>"
      ]
     },
     "metadata": {
      "needs_background": "light"
     },
     "output_type": "display_data"
    }
   ],
   "source": [
    "plt.plot(loss, label='loss')\n",
    "plt.plot(val_loss, label='val_loss')\n",
    "plt.legend()\n",
    "\n",
    "plt.xlabel('Epoch')\n",
    "plt.ylabel('Loss')\n",
    "plt.show()"
   ]
  },
  {
   "cell_type": "code",
   "execution_count": 14,
   "id": "58d85802-68d1-483a-a28e-53bbc927f108",
   "metadata": {},
   "outputs": [
    {
     "name": "stdout",
     "output_type": "stream",
     "text": [
      "310/310 [==============================] - 0s 1ms/step\n"
     ]
    },
    {
     "data": {
      "image/png": "[encoded data removed]",
      "text/plain": [
       "<Figure size 432x288 with 1 Axes>"
      ]
     },
     "metadata": {
      "needs_background": "light"
     },
     "output_type": "display_data"
    }
   ],
   "source": [
    "line_x = np.arange(min(X_train), max(X_train), 0.01)\n",
    "line_y = model.predict(line_x)\n",
    "\n",
    "plt.scatter(x,y)\n",
    "plt.plot(line_x, line_y, 'r')\n",
    "\n",
    "plt.show()"
   ]
  },
  {
   "cell_type": "code",
   "execution_count": null,
   "id": "fe7919b4-334e-48d8-a88a-12f078ed71c5",
   "metadata": {},
   "outputs": [],
   "source": []
  }
 ],
 "metadata": {
  "kernelspec": {
   "display_name": "Python 3 (ipykernel)",
   "language": "python",
   "name": "python3"
  },
  "language_info": {
   "codemirror_mode": {
    "name": "ipython",
    "version": 3
   },
   "file_extension": ".py",
   "mimetype": "text/x-python",
   "name": "python",
   "nbconvert_exporter": "python",
   "pygments_lexer": "ipython3",
   "version": "3.8.12"
  }
 },
 "nbformat": 4,
 "nbformat_minor": 5
}
