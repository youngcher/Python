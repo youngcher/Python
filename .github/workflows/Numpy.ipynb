{
 "cells": [
  {
   "cell_type": "code",
   "execution_count": 1,
   "id": "90f38ca9-0914-4684-88ca-50a1203f6619",
   "metadata": {},
   "outputs": [],
   "source": [
    "import numpy as np"
   ]
  },
  {
   "cell_type": "code",
   "execution_count": 8,
   "id": "26477a71-86d7-4ae4-bc70-1167d3472323",
   "metadata": {},
   "outputs": [
    {
     "data": {
      "text/plain": [
       "array([1, 2, 3, 4, 5])"
      ]
     },
     "execution_count": 8,
     "metadata": {},
     "output_type": "execute_result"
    }
   ],
   "source": [
    "# ndarry(다차원 배열) \n",
    "a = np.array([1,2,3,4,5])\n",
    "a"
   ]
  },
  {
   "cell_type": "code",
   "execution_count": 9,
   "id": "48112118-0bd5-47c2-b345-b986858ad679",
   "metadata": {},
   "outputs": [
    {
     "data": {
      "text/plain": [
       "'int32'"
      ]
     },
     "execution_count": 9,
     "metadata": {},
     "output_type": "execute_result"
    }
   ],
   "source": [
    "type(a)\n",
    "# 한가지 자료형만 들어갈 수 있다.\n",
    "a.dtype.name"
   ]
  },
  {
   "cell_type": "code",
   "execution_count": 7,
   "id": "b4f92dce-05f0-4dd7-b165-08845cef26f3",
   "metadata": {},
   "outputs": [
    {
     "data": {
      "text/plain": [
       "['a', 2, 'b', 'c', True, 3.14]"
      ]
     },
     "execution_count": 7,
     "metadata": {},
     "output_type": "execute_result"
    }
   ],
   "source": [
    "nums = ['a', 2, 'b', 'c', True, 3.14]\n",
    "nums"
   ]
  },
  {
   "cell_type": "code",
   "execution_count": 12,
   "id": "1ee7f95c-4cc5-4548-8454-0c5178e99d18",
   "metadata": {},
   "outputs": [
    {
     "data": {
      "text/plain": [
       "array(['a', '2', 'b', 'c', 'True', '3.14'], dtype='<U32')"
      ]
     },
     "execution_count": 12,
     "metadata": {},
     "output_type": "execute_result"
    }
   ],
   "source": [
    "#자료형이 하나로(문자열) 바뀜\n",
    "b = np.array(nums)\n",
    "b"
   ]
  },
  {
   "cell_type": "code",
   "execution_count": 16,
   "id": "42cf7789-b146-4a05-934e-f93822bdeb63",
   "metadata": {},
   "outputs": [
    {
     "data": {
      "text/plain": [
       "(5,)"
      ]
     },
     "execution_count": 16,
     "metadata": {},
     "output_type": "execute_result"
    }
   ],
   "source": [
    "a = np.array([1,2,3,4,5])\n",
    "#원소갯수\n",
    "a.size\n",
    "#차원\n",
    "a.ndim\n",
    "#헹,열\n",
    "a.shape"
   ]
  },
  {
   "cell_type": "code",
   "execution_count": 21,
   "id": "86b4d03d-77dd-45a1-abea-90cc163c2f17",
   "metadata": {},
   "outputs": [
    {
     "data": {
      "text/plain": [
       "<memory at 0x0000020D55E97380>"
      ]
     },
     "execution_count": 21,
     "metadata": {},
     "output_type": "execute_result"
    }
   ],
   "source": [
    "a = np.array([\n",
    "            [1,2,3],\n",
    "            [4,5,6]\n",
    "            ])\n",
    "a.size\n",
    "a.ndim\n",
    "a.shape\n",
    "a.itemsize\n",
    "a.data"
   ]
  },
  {
   "cell_type": "code",
   "execution_count": 24,
   "id": "cdba7122-4c6f-4ca1-ba3e-77f072e63a17",
   "metadata": {},
   "outputs": [
    {
     "data": {
      "text/plain": [
       "array([[1, 2, 3],\n",
       "       [4, 5, 6]])"
      ]
     },
     "execution_count": 24,
     "metadata": {},
     "output_type": "execute_result"
    }
   ],
   "source": [
    "a = np.array((\n",
    "            [1,2,3],\n",
    "            (4,5,6)\n",
    "            ))\n",
    "a"
   ]
  },
  {
   "cell_type": "code",
   "execution_count": 25,
   "id": "0b13df5f-a243-465d-9e32-68bc83f54d0d",
   "metadata": {},
   "outputs": [
    {
     "data": {
      "text/plain": [
       "array([ True, False, False])"
      ]
     },
     "execution_count": 25,
     "metadata": {},
     "output_type": "execute_result"
    }
   ],
   "source": [
    "bool_array = np.array([True, False, False])\n",
    "bool_array"
   ]
  },
  {
   "cell_type": "code",
   "execution_count": 27,
   "id": "44e96a22-8893-46ab-92e4-649c296f3abc",
   "metadata": {},
   "outputs": [
    {
     "data": {
      "text/plain": [
       "'float64'"
      ]
     },
     "execution_count": 27,
     "metadata": {},
     "output_type": "execute_result"
    }
   ],
   "source": [
    "float_array = np.array([1.2, 3.4, 5.6])\n",
    "float_array\n",
    "float_array.dtype.name"
   ]
  },
  {
   "cell_type": "code",
   "execution_count": 31,
   "id": "27af3235-6353-4a23-83a1-6ddfef669cfb",
   "metadata": {},
   "outputs": [
    {
     "data": {
      "text/plain": [
       "'complex128'"
      ]
     },
     "execution_count": 31,
     "metadata": {},
     "output_type": "execute_result"
    }
   ],
   "source": [
    "complex_array = np.array([1+2j, 3+4j, 5+2j], dtype=complex)\n",
    "complex_array\n",
    "complex_array.dtype.name"
   ]
  },
  {
   "cell_type": "code",
   "execution_count": 32,
   "id": "43c4ad39-0902-4cc6-a461-2e978dd40da9",
   "metadata": {},
   "outputs": [
    {
     "data": {
      "text/plain": [
       "array([[0., 0., 0.],\n",
       "       [0., 0., 0.],\n",
       "       [0., 0., 0.]])"
      ]
     },
     "execution_count": 32,
     "metadata": {},
     "output_type": "execute_result"
    }
   ],
   "source": [
    "np.zeros((3,3))"
   ]
  },
  {
   "cell_type": "markdown",
   "id": "5d217724-bab3-4991-9755-52ecd70868d8",
   "metadata": {},
   "source": [
    "# 함수형 프로그래밍 (Functional Programming)\n",
    "* map(): 컬랙션 원소에 대해 특정 계산을 적용함\n",
    "* filter(): 컬렉션 원소에 대해 특정 원소만 필터링하여 새 집합 생성\n",
    "* reduce(): 컬렉션 원소에 대해 계산을 수행하여 한개의 스칼라 값을 생성\n",
    "* lamda(): 위의 함수에서 사용하는 첫번째 아규먼트인 함수(익명함수)"
   ]
  },
  {
   "cell_type": "code",
   "execution_count": 44,
   "id": "3a46ec5e-2a79-4c48-afd0-e2ab5a0d2c2b",
   "metadata": {},
   "outputs": [
    {
     "data": {
      "text/plain": [
       "[2, 3, 4, 5, 6]"
      ]
     },
     "execution_count": 44,
     "metadata": {},
     "output_type": "execute_result"
    }
   ],
   "source": [
    "nums = [1,2,3,4,5]\n",
    "\n",
    "def add(x): return x+1\n",
    "list(map(add, nums))"
   ]
  },
  {
   "cell_type": "code",
   "execution_count": 49,
   "id": "21b62756-3ea1-4a10-800b-68a908bddcd8",
   "metadata": {},
   "outputs": [
    {
     "data": {
      "text/plain": [
       "[1, 3, 5]"
      ]
     },
     "execution_count": 49,
     "metadata": {},
     "output_type": "execute_result"
    }
   ],
   "source": [
    "def odd(x): return x%2==1\n",
    "list(filter(odd, nums))"
   ]
  },
  {
   "cell_type": "code",
   "execution_count": 46,
   "id": "5b0c02a0-d347-4e1c-bdb3-61a62acd8ee9",
   "metadata": {},
   "outputs": [
    {
     "data": {
      "text/plain": [
       "15"
      ]
     },
     "execution_count": 46,
     "metadata": {},
     "output_type": "execute_result"
    }
   ],
   "source": [
    "from functools import reduce\n",
    "\n",
    "def sub(x, y): return x+y\n",
    "reduce(sub, nums)"
   ]
  },
  {
   "cell_type": "code",
   "execution_count": 52,
   "id": "83d8703a-e317-4b51-882a-223b3972f365",
   "metadata": {},
   "outputs": [
    {
     "data": {
      "text/plain": [
       "[2, 3, 4, 5, 6]"
      ]
     },
     "execution_count": 52,
     "metadata": {},
     "output_type": "execute_result"
    }
   ],
   "source": [
    "list(map(lambda x : x+1, nums))"
   ]
  },
  {
   "cell_type": "code",
   "execution_count": 53,
   "id": "3ee5d61c-7eb5-435a-9979-8f1cde4c1d09",
   "metadata": {},
   "outputs": [
    {
     "data": {
      "text/plain": [
       "array([[0., 0., 0.],\n",
       "       [0., 0., 0.],\n",
       "       [0., 0., 0.]])"
      ]
     },
     "execution_count": 53,
     "metadata": {},
     "output_type": "execute_result"
    }
   ],
   "source": [
    "np.zeros((3,3))"
   ]
  },
  {
   "cell_type": "code",
   "execution_count": 65,
   "id": "6c426da9-1788-42b1-a73c-800c0adcf26a",
   "metadata": {},
   "outputs": [
    {
     "data": {
      "text/plain": [
       "array([[9., 9., 4.],\n",
       "       [8., 2., 9.]])"
      ]
     },
     "execution_count": 65,
     "metadata": {},
     "output_type": "execute_result"
    }
   ],
   "source": [
    "import random\n",
    "\n",
    "dataframe = np.zeros([2,3])\n",
    "\n",
    "for i in range(2):\n",
    "      for j in range(3):\n",
    "            dataframe[i,j] = random.randint(1,9)\n",
    "dataframe"
   ]
  },
  {
   "cell_type": "code",
   "execution_count": null,
   "id": "a9286eb8-2fb7-4295-b247-8fe7d7d1acb3",
   "metadata": {},
   "outputs": [],
   "source": []
  }
 ],
 "metadata": {
  "kernelspec": {
   "display_name": "Python 3 (ipykernel)",
   "language": "python",
   "name": "python3"
  },
  "language_info": {
   "codemirror_mode": {
    "name": "ipython",
    "version": 3
   },
   "file_extension": ".py",
   "mimetype": "text/x-python",
   "name": "python",
   "nbconvert_exporter": "python",
   "pygments_lexer": "ipython3",
   "version": "3.9.12"
  }
 },
 "nbformat": 4,
 "nbformat_minor": 5
}
