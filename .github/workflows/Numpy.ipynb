{
 "cells": [
  {
   "cell_type": "code",
   "execution_count": 5,
   "id": "90f38ca9-0914-4684-88ca-50a1203f6619",
   "metadata": {},
   "outputs": [],
   "source": [
    "import numpy as np"
   ]
  },
  {
   "cell_type": "code",
   "execution_count": 8,
   "id": "26477a71-86d7-4ae4-bc70-1167d3472323",
   "metadata": {},
   "outputs": [
    {
     "data": {
      "text/plain": [
       "array([1, 2, 3, 4, 5])"
      ]
     },
     "execution_count": 8,
     "metadata": {},
     "output_type": "execute_result"
    }
   ],
   "source": [
    "# ndarry(다차원 배열) \n",
    "a = np.array([1,2,3,4,5])\n",
    "a"
   ]
  },
  {
   "cell_type": "code",
   "execution_count": 9,
   "id": "48112118-0bd5-47c2-b345-b986858ad679",
   "metadata": {},
   "outputs": [
    {
     "data": {
      "text/plain": [
       "'int32'"
      ]
     },
     "execution_count": 9,
     "metadata": {},
     "output_type": "execute_result"
    }
   ],
   "source": [
    "type(a)\n",
    "# 한가지 자료형만 들어갈 수 있다.\n",
    "a.dtype.name"
   ]
  },
  {
   "cell_type": "code",
   "execution_count": 7,
   "id": "b4f92dce-05f0-4dd7-b165-08845cef26f3",
   "metadata": {},
   "outputs": [
    {
     "data": {
      "text/plain": [
       "['a', 2, 'b', 'c', True, 3.14]"
      ]
     },
     "execution_count": 7,
     "metadata": {},
     "output_type": "execute_result"
    }
   ],
   "source": [
    "nums = ['a', 2, 'b', 'c', True, 3.14]\n",
    "nums"
   ]
  },
  {
   "cell_type": "code",
   "execution_count": 12,
   "id": "1ee7f95c-4cc5-4548-8454-0c5178e99d18",
   "metadata": {},
   "outputs": [
    {
     "data": {
      "text/plain": [
       "array(['a', '2', 'b', 'c', 'True', '3.14'], dtype='<U32')"
      ]
     },
     "execution_count": 12,
     "metadata": {},
     "output_type": "execute_result"
    }
   ],
   "source": [
    "#자료형이 하나로(문자열) 바뀜\n",
    "b = np.array(nums)\n",
    "b"
   ]
  },
  {
   "cell_type": "code",
   "execution_count": 16,
   "id": "42cf7789-b146-4a05-934e-f93822bdeb63",
   "metadata": {},
   "outputs": [
    {
     "data": {
      "text/plain": [
       "(5,)"
      ]
     },
     "execution_count": 16,
     "metadata": {},
     "output_type": "execute_result"
    }
   ],
   "source": [
    "a = np.array([1,2,3,4,5])\n",
    "#원소갯수\n",
    "a.size\n",
    "#차원\n",
    "a.ndim\n",
    "#헹,열\n",
    "a.shape"
   ]
  },
  {
   "cell_type": "code",
   "execution_count": 21,
   "id": "86b4d03d-77dd-45a1-abea-90cc163c2f17",
   "metadata": {},
   "outputs": [
    {
     "data": {
      "text/plain": [
       "<memory at 0x0000020D55E97380>"
      ]
     },
     "execution_count": 21,
     "metadata": {},
     "output_type": "execute_result"
    }
   ],
   "source": [
    "a = np.array([\n",
    "            [1,2,3],\n",
    "            [4,5,6]\n",
    "            ])\n",
    "a.size\n",
    "a.ndim\n",
    "a.shape\n",
    "a.itemsize\n",
    "a.data"
   ]
  },
  {
   "cell_type": "code",
   "execution_count": 24,
   "id": "cdba7122-4c6f-4ca1-ba3e-77f072e63a17",
   "metadata": {},
   "outputs": [
    {
     "data": {
      "text/plain": [
       "array([[1, 2, 3],\n",
       "       [4, 5, 6]])"
      ]
     },
     "execution_count": 24,
     "metadata": {},
     "output_type": "execute_result"
    }
   ],
   "source": [
    "a = np.array((\n",
    "            [1,2,3],\n",
    "            (4,5,6)\n",
    "            ))\n",
    "a"
   ]
  },
  {
   "cell_type": "code",
   "execution_count": 25,
   "id": "0b13df5f-a243-465d-9e32-68bc83f54d0d",
   "metadata": {},
   "outputs": [
    {
     "data": {
      "text/plain": [
       "array([ True, False, False])"
      ]
     },
     "execution_count": 25,
     "metadata": {},
     "output_type": "execute_result"
    }
   ],
   "source": [
    "bool_array = np.array([True, False, False])\n",
    "bool_array"
   ]
  },
  {
   "cell_type": "code",
   "execution_count": 27,
   "id": "44e96a22-8893-46ab-92e4-649c296f3abc",
   "metadata": {},
   "outputs": [
    {
     "data": {
      "text/plain": [
       "'float64'"
      ]
     },
     "execution_count": 27,
     "metadata": {},
     "output_type": "execute_result"
    }
   ],
   "source": [
    "float_array = np.array([1.2, 3.4, 5.6])\n",
    "float_array\n",
    "float_array.dtype.name"
   ]
  },
  {
   "cell_type": "code",
   "execution_count": 31,
   "id": "27af3235-6353-4a23-83a1-6ddfef669cfb",
   "metadata": {},
   "outputs": [
    {
     "data": {
      "text/plain": [
       "'complex128'"
      ]
     },
     "execution_count": 31,
     "metadata": {},
     "output_type": "execute_result"
    }
   ],
   "source": [
    "complex_array = np.array([1+2j, 3+4j, 5+2j], dtype=complex)\n",
    "complex_array\n",
    "complex_array.dtype.name"
   ]
  },
  {
   "cell_type": "code",
   "execution_count": 32,
   "id": "43c4ad39-0902-4cc6-a461-2e978dd40da9",
   "metadata": {},
   "outputs": [
    {
     "data": {
      "text/plain": [
       "array([[0., 0., 0.],\n",
       "       [0., 0., 0.],\n",
       "       [0., 0., 0.]])"
      ]
     },
     "execution_count": 32,
     "metadata": {},
     "output_type": "execute_result"
    }
   ],
   "source": [
    "np.zeros((3,3))"
   ]
  },
  {
   "cell_type": "markdown",
   "id": "5d217724-bab3-4991-9755-52ecd70868d8",
   "metadata": {},
   "source": [
    "# 함수형 프로그래밍 (Functional Programming)\n",
    "* map(): 컬랙션 원소에 대해 특정 계산을 적용함\n",
    "* filter(): 컬렉션 원소에 대해 특정 원소만 필터링하여 새 집합 생성\n",
    "* reduce(): 컬렉션 원소에 대해 계산을 수행하여 한개의 스칼라 값을 생성\n",
    "* lamda(): 위의 함수에서 사용하는 첫번째 아규먼트인 함수(익명함수)"
   ]
  },
  {
   "cell_type": "code",
   "execution_count": 44,
   "id": "3a46ec5e-2a79-4c48-afd0-e2ab5a0d2c2b",
   "metadata": {},
   "outputs": [
    {
     "data": {
      "text/plain": [
       "[2, 3, 4, 5, 6]"
      ]
     },
     "execution_count": 44,
     "metadata": {},
     "output_type": "execute_result"
    }
   ],
   "source": [
    "nums = [1,2,3,4,5]\n",
    "\n",
    "def add(x): return x+1\n",
    "list(map(add, nums))"
   ]
  },
  {
   "cell_type": "code",
   "execution_count": 49,
   "id": "21b62756-3ea1-4a10-800b-68a908bddcd8",
   "metadata": {},
   "outputs": [
    {
     "data": {
      "text/plain": [
       "[1, 3, 5]"
      ]
     },
     "execution_count": 49,
     "metadata": {},
     "output_type": "execute_result"
    }
   ],
   "source": [
    "def odd(x): return x%2==1\n",
    "list(filter(odd, nums))"
   ]
  },
  {
   "cell_type": "code",
   "execution_count": 46,
   "id": "5b0c02a0-d347-4e1c-bdb3-61a62acd8ee9",
   "metadata": {},
   "outputs": [
    {
     "data": {
      "text/plain": [
       "15"
      ]
     },
     "execution_count": 46,
     "metadata": {},
     "output_type": "execute_result"
    }
   ],
   "source": [
    "from functools import reduce\n",
    "\n",
    "def sub(x, y): return x+y\n",
    "reduce(sub, nums)"
   ]
  },
  {
   "cell_type": "code",
   "execution_count": 52,
   "id": "83d8703a-e317-4b51-882a-223b3972f365",
   "metadata": {},
   "outputs": [
    {
     "data": {
      "text/plain": [
       "[2, 3, 4, 5, 6]"
      ]
     },
     "execution_count": 52,
     "metadata": {},
     "output_type": "execute_result"
    }
   ],
   "source": [
    "list(map(lambda x : x+1, nums))"
   ]
  },
  {
   "cell_type": "code",
   "execution_count": 53,
   "id": "3ee5d61c-7eb5-435a-9979-8f1cde4c1d09",
   "metadata": {},
   "outputs": [
    {
     "data": {
      "text/plain": [
       "array([[0., 0., 0.],\n",
       "       [0., 0., 0.],\n",
       "       [0., 0., 0.]])"
      ]
     },
     "execution_count": 53,
     "metadata": {},
     "output_type": "execute_result"
    }
   ],
   "source": [
    "np.zeros((3,3))"
   ]
  },
  {
   "cell_type": "code",
   "execution_count": 65,
   "id": "6c426da9-1788-42b1-a73c-800c0adcf26a",
   "metadata": {},
   "outputs": [
    {
     "data": {
      "text/plain": [
       "array([[9., 9., 4.],\n",
       "       [8., 2., 9.]])"
      ]
     },
     "execution_count": 65,
     "metadata": {},
     "output_type": "execute_result"
    }
   ],
   "source": [
    "import random\n",
    "\n",
    "dataframe = np.zeros([2,3])\n",
    "\n",
    "for i in range(2):\n",
    "      for j in range(3):\n",
    "            dataframe[i,j] = random.randint(1,9)\n",
    "dataframe"
   ]
  },
  {
   "cell_type": "code",
   "execution_count": 3,
   "id": "a9286eb8-2fb7-4295-b247-8fe7d7d1acb3",
   "metadata": {},
   "outputs": [
    {
     "name": "stdout",
     "output_type": "stream",
     "text": [
      "0,1,2,3,4,"
     ]
    },
    {
     "data": {
      "text/plain": [
       "list"
      ]
     },
     "execution_count": 3,
     "metadata": {},
     "output_type": "execute_result"
    }
   ],
   "source": [
    "rg = range(5) #range object란\n",
    "for _ in rg:\n",
    "      print(_, end=\",\")\n",
    "\n",
    "lst = list(rg)\n",
    "type(lst)"
   ]
  },
  {
   "cell_type": "code",
   "execution_count": 7,
   "id": "771c74c1-eeeb-4fc4-87f9-173d778f0d03",
   "metadata": {},
   "outputs": [
    {
     "data": {
      "text/plain": [
       "array([3, 4, 5])"
      ]
     },
     "execution_count": 7,
     "metadata": {},
     "output_type": "execute_result"
    }
   ],
   "source": [
    "np.arange(3,6) #ndarry의 원소 범위"
   ]
  },
  {
   "cell_type": "code",
   "execution_count": 9,
   "id": "a56bbfce-b293-486b-91b0-f77c496c77f8",
   "metadata": {},
   "outputs": [
    {
     "data": {
      "text/plain": [
       "array([3, 5, 7, 9])"
      ]
     },
     "execution_count": 9,
     "metadata": {},
     "output_type": "execute_result"
    }
   ],
   "source": [
    "a = np.arange(3, 10, 2)\n",
    "a"
   ]
  },
  {
   "cell_type": "code",
   "execution_count": 10,
   "id": "0daad108-c834-4ae8-a47b-2bbd861ed2ad",
   "metadata": {},
   "outputs": [
    {
     "data": {
      "text/plain": [
       "array([1. , 1.5, 2. , 2.5, 3. , 3.5, 4. , 4.5, 5. , 5.5, 6. , 6.5, 7. ,\n",
       "       7.5, 8. , 8.5, 9. , 9.5])"
      ]
     },
     "execution_count": 10,
     "metadata": {},
     "output_type": "execute_result"
    }
   ],
   "source": [
    "np.arange(1, 10, 0.5)"
   ]
  },
  {
   "cell_type": "code",
   "execution_count": 14,
   "id": "353c961c-3a24-4531-8fa8-00ed223dc6e9",
   "metadata": {},
   "outputs": [
    {
     "data": {
      "text/plain": [
       "array([ 0,  1,  2,  3,  4,  5,  6,  7,  8,  9, 10, 11])"
      ]
     },
     "execution_count": 14,
     "metadata": {},
     "output_type": "execute_result"
    }
   ],
   "source": [
    "a = np.arange(0, 12)\n",
    "a"
   ]
  },
  {
   "cell_type": "code",
   "execution_count": 15,
   "id": "77e75325-f078-47f3-aff5-39a0b9111ba2",
   "metadata": {},
   "outputs": [
    {
     "data": {
      "text/plain": [
       "(12,)"
      ]
     },
     "execution_count": 15,
     "metadata": {},
     "output_type": "execute_result"
    }
   ],
   "source": [
    "a.shape"
   ]
  },
  {
   "cell_type": "code",
   "execution_count": 16,
   "id": "d3339d89-5891-4e0c-88b7-0180b0f64047",
   "metadata": {},
   "outputs": [],
   "source": [
    "b=a.reshape(3,4)"
   ]
  },
  {
   "cell_type": "code",
   "execution_count": 17,
   "id": "78bf0de0-d024-4175-aadc-35e025cf476b",
   "metadata": {},
   "outputs": [
    {
     "data": {
      "text/plain": [
       "(3, 4)"
      ]
     },
     "execution_count": 17,
     "metadata": {},
     "output_type": "execute_result"
    }
   ],
   "source": [
    "b.shape"
   ]
  },
  {
   "cell_type": "code",
   "execution_count": 18,
   "id": "89d969e4-f48d-4c13-b954-9e653b75de1e",
   "metadata": {},
   "outputs": [
    {
     "data": {
      "text/plain": [
       "array([[ 0,  1,  2,  3,  4,  5],\n",
       "       [ 6,  7,  8,  9, 10, 11]])"
      ]
     },
     "execution_count": 18,
     "metadata": {},
     "output_type": "execute_result"
    }
   ],
   "source": [
    "a.reshape(2, -1)"
   ]
  },
  {
   "cell_type": "code",
   "execution_count": 19,
   "id": "8edfb4f3-5a34-4ac5-9833-846545132d89",
   "metadata": {},
   "outputs": [
    {
     "data": {
      "text/plain": [
       "array([ 0.        ,  1.66666667,  3.33333333,  5.        ,  6.66666667,\n",
       "        8.33333333, 10.        ])"
      ]
     },
     "execution_count": 19,
     "metadata": {},
     "output_type": "execute_result"
    }
   ],
   "source": [
    "np.linspace(0, 10, 7)"
   ]
  },
  {
   "cell_type": "code",
   "execution_count": 20,
   "id": "088f54af-e9d5-4067-b967-703270350e95",
   "metadata": {},
   "outputs": [
    {
     "data": {
      "text/plain": [
       "array([ 0. ,  2.5,  5. ,  7.5, 10. ])"
      ]
     },
     "execution_count": 20,
     "metadata": {},
     "output_type": "execute_result"
    }
   ],
   "source": [
    "np.linspace(0, 10, 5, endpoint=True)"
   ]
  },
  {
   "cell_type": "code",
   "execution_count": 22,
   "id": "6d33d364-754a-4a0c-8c9b-a78b8b7c09a2",
   "metadata": {},
   "outputs": [
    {
     "data": {
      "text/plain": [
       "array([[0.24387188, 0.07604587, 0.69673442, 0.20400895],\n",
       "       [0.49078358, 0.57079051, 0.38149143, 0.35612561],\n",
       "       [0.72173139, 0.65417448, 0.53884645, 0.17162582],\n",
       "       [0.55985262, 0.54790809, 0.24236224, 0.71630387]])"
      ]
     },
     "execution_count": 22,
     "metadata": {},
     "output_type": "execute_result"
    }
   ],
   "source": [
    "a = np.random.random(16).reshape((4,4))\n",
    "a"
   ]
  },
  {
   "cell_type": "code",
   "execution_count": 26,
   "id": "54cfeb67-7538-45de-8ae8-f18da3159778",
   "metadata": {},
   "outputs": [
    {
     "data": {
      "text/plain": [
       "array([[0.98113162, 0.25215713, 0.95611457, 0.15409948, 0.40051184,\n",
       "        0.32808972, 0.39998962, 0.83927836],\n",
       "       [0.7268405 , 0.06647424, 0.13775801, 0.09340984, 0.31842996,\n",
       "        0.66482999, 0.03565542, 0.67810608]])"
      ]
     },
     "execution_count": 26,
     "metadata": {},
     "output_type": "execute_result"
    }
   ],
   "source": [
    "a = np.random.random(16).reshape((2,-1))\n",
    "a"
   ]
  },
  {
   "cell_type": "code",
   "execution_count": 27,
   "id": "19a01e10-03c2-431e-be01-4a4c3b202ffe",
   "metadata": {},
   "outputs": [
    {
     "data": {
      "text/plain": [
       "<memory at 0x000001A2B7222110>"
      ]
     },
     "execution_count": 27,
     "metadata": {},
     "output_type": "execute_result"
    }
   ],
   "source": [
    "a.data"
   ]
  },
  {
   "cell_type": "code",
   "execution_count": 28,
   "id": "3a822a2b-03e5-4be0-b53c-6191bb07e779",
   "metadata": {},
   "outputs": [
    {
     "data": {
      "text/plain": [
       "array([0.98113162, 0.25215713, 0.95611457, 0.15409948, 0.40051184,\n",
       "       0.32808972, 0.39998962, 0.83927836, 0.7268405 , 0.06647424,\n",
       "       0.13775801, 0.09340984, 0.31842996, 0.66482999, 0.03565542,\n",
       "       0.67810608])"
      ]
     },
     "execution_count": 28,
     "metadata": {},
     "output_type": "execute_result"
    }
   ],
   "source": [
    "a1 = a.flatten()\n",
    "a1"
   ]
  },
  {
   "cell_type": "code",
   "execution_count": 29,
   "id": "63b72135-5d43-4eb6-9d82-e818ece60ec0",
   "metadata": {},
   "outputs": [
    {
     "data": {
      "text/plain": [
       "<memory at 0x000001A2B7240D00>"
      ]
     },
     "execution_count": 29,
     "metadata": {},
     "output_type": "execute_result"
    }
   ],
   "source": [
    "a1.data"
   ]
  },
  {
   "cell_type": "code",
   "execution_count": 30,
   "id": "0b53b175-0536-4979-8b1b-6fedbd0da3b2",
   "metadata": {},
   "outputs": [
    {
     "data": {
      "text/plain": [
       "array([[0.98113162, 0.25215713, 0.95611457, 0.15409948, 0.40051184,\n",
       "        0.32808972, 0.39998962, 0.83927836, 0.7268405 , 0.06647424,\n",
       "        0.13775801, 0.09340984, 0.31842996, 0.66482999, 0.03565542,\n",
       "        0.67810608]])"
      ]
     },
     "execution_count": 30,
     "metadata": {},
     "output_type": "execute_result"
    }
   ],
   "source": [
    "b = a.reshape(-1,16)\n",
    "b"
   ]
  },
  {
   "cell_type": "code",
   "execution_count": 31,
   "id": "a0e3ae4c-b70c-4fa7-919e-0008a4d7c55a",
   "metadata": {},
   "outputs": [
    {
     "data": {
      "text/plain": [
       "<memory at 0x000001A2B7222380>"
      ]
     },
     "execution_count": 31,
     "metadata": {},
     "output_type": "execute_result"
    }
   ],
   "source": [
    "b.data"
   ]
  },
  {
   "cell_type": "code",
   "execution_count": 32,
   "id": "e40340ff-10a3-4319-a680-c91d6c00b7fb",
   "metadata": {},
   "outputs": [
    {
     "data": {
      "text/plain": [
       "array([0, 1, 2, 3])"
      ]
     },
     "execution_count": 32,
     "metadata": {},
     "output_type": "execute_result"
    }
   ],
   "source": [
    "a = np.arange(4)\n",
    "a"
   ]
  },
  {
   "cell_type": "code",
   "execution_count": 33,
   "id": "97d42c91-9bb5-436e-a79c-814a4e192e67",
   "metadata": {},
   "outputs": [
    {
     "data": {
      "text/plain": [
       "array([0, 1, 2, 3, 4])"
      ]
     },
     "execution_count": 33,
     "metadata": {},
     "output_type": "execute_result"
    }
   ],
   "source": [
    "a = np.arange(5)\n",
    "a"
   ]
  },
  {
   "cell_type": "code",
   "execution_count": 34,
   "id": "46f6f7e0-5230-4202-8d11-9ee7e823073b",
   "metadata": {},
   "outputs": [
    {
     "data": {
      "text/plain": [
       "10"
      ]
     },
     "execution_count": 34,
     "metadata": {},
     "output_type": "execute_result"
    }
   ],
   "source": [
    "a.sum()"
   ]
  },
  {
   "cell_type": "code",
   "execution_count": 35,
   "id": "b9f8071d-65a7-4950-9ddf-03af3f5d5d36",
   "metadata": {},
   "outputs": [
    {
     "data": {
      "text/plain": [
       "(4, 0, 2.0, 1.4142135623730951)"
      ]
     },
     "execution_count": 35,
     "metadata": {},
     "output_type": "execute_result"
    }
   ],
   "source": [
    "a.max(), a.min(), a.mean(), a.std()"
   ]
  },
  {
   "cell_type": "code",
   "execution_count": 36,
   "id": "a1033707-022a-4d61-a282-8505b1927018",
   "metadata": {},
   "outputs": [],
   "source": [
    "# 평균(mean)\n",
    "# 분산(Variance): 각원소와 평균의 차이의 제곱, 이들을 모두 합산, 그 값을 원소의 갯수로 나눔\n",
    "# 표준편차(std) : 분산의 제곱근"
   ]
  },
  {
   "cell_type": "code",
   "execution_count": 79,
   "id": "0df921aa-ee67-47ac-9167-a3545a7a3646",
   "metadata": {},
   "outputs": [
    {
     "data": {
      "text/plain": [
       "array([0.72278733, 0.82821895, 0.6831296 , 0.76333992, 0.91865439,\n",
       "       0.85036498, 0.37858144, 0.83392073, 0.29303086, 0.18952472,\n",
       "       0.53995875, 0.57728531, 0.90754187, 0.3173    , 0.65527255,\n",
       "       0.8467376 ])"
      ]
     },
     "execution_count": 79,
     "metadata": {},
     "output_type": "execute_result"
    }
   ],
   "source": [
    "a = np.random.random(16)\n",
    "a"
   ]
  },
  {
   "cell_type": "code",
   "execution_count": 80,
   "id": "9c30783f-cf98-47f1-a06a-05a3a13476a4",
   "metadata": {},
   "outputs": [
    {
     "data": {
      "text/plain": [
       "0.6441030629056325"
      ]
     },
     "execution_count": 80,
     "metadata": {},
     "output_type": "execute_result"
    }
   ],
   "source": [
    "#평균\n",
    "mean = a.mean()\n",
    "mean"
   ]
  },
  {
   "cell_type": "code",
   "execution_count": 84,
   "id": "e13c8319-f825-4330-b723-0e20e082f9c9",
   "metadata": {},
   "outputs": [
    {
     "data": {
      "text/plain": [
       "0.05267967680175431"
      ]
     },
     "execution_count": 84,
     "metadata": {},
     "output_type": "execute_result"
    }
   ],
   "source": [
    "#분산\n",
    "variance = ((a - a.mean())**2).sum()/a.size\n",
    "variance"
   ]
  },
  {
   "cell_type": "code",
   "execution_count": 82,
   "id": "5db344b8-67e3-470e-a576-85822465e196",
   "metadata": {},
   "outputs": [
    {
     "data": {
      "text/plain": [
       "8.33000234328132e-09"
      ]
     },
     "execution_count": 82,
     "metadata": {},
     "output_type": "execute_result"
    }
   ],
   "source": [
    "#표준편차\n",
    "std = variance**(1/2)\n",
    "std"
   ]
  },
  {
   "cell_type": "code",
   "execution_count": 83,
   "id": "38b1671a-4020-4d05-ab51-50758f912ced",
   "metadata": {},
   "outputs": [
    {
     "data": {
      "text/plain": [
       "(0.2295205367755886, 0.2295205367755886)"
      ]
     },
     "execution_count": 83,
     "metadata": {},
     "output_type": "execute_result"
    }
   ],
   "source": [
    "np.sqrt(np.mean((a-a.mean())**2)), np.std(a)"
   ]
  },
  {
   "cell_type": "code",
   "execution_count": 85,
   "id": "6a54c5dc-c644-4348-a11a-05d3466957b6",
   "metadata": {},
   "outputs": [],
   "source": [
    "a = np.arange(10,16)"
   ]
  },
  {
   "cell_type": "code",
   "execution_count": 86,
   "id": "f1081fa2-2786-44b7-a5f7-fe6afb491fae",
   "metadata": {},
   "outputs": [
    {
     "data": {
      "text/plain": [
       "array([10, 11, 12, 13, 14, 15])"
      ]
     },
     "execution_count": 86,
     "metadata": {},
     "output_type": "execute_result"
    }
   ],
   "source": [
    "a"
   ]
  },
  {
   "cell_type": "code",
   "execution_count": 87,
   "id": "222832ee-365a-4be3-8be7-767ff7baaddc",
   "metadata": {},
   "outputs": [
    {
     "data": {
      "text/plain": [
       "(12, 15, 10, 10)"
      ]
     },
     "execution_count": 87,
     "metadata": {},
     "output_type": "execute_result"
    }
   ],
   "source": [
    "a[2], a[-1], a[0], a[-6]"
   ]
  },
  {
   "cell_type": "code",
   "execution_count": 88,
   "id": "94fe9e16-8f8a-4a1a-8aa9-b436d76e0984",
   "metadata": {},
   "outputs": [
    {
     "data": {
      "text/plain": [
       "15"
      ]
     },
     "execution_count": 88,
     "metadata": {},
     "output_type": "execute_result"
    }
   ],
   "source": [
    "a[a.size-1]"
   ]
  },
  {
   "cell_type": "code",
   "execution_count": 89,
   "id": "de0d3db9-386d-4c6c-8fdc-e62b345776a6",
   "metadata": {},
   "outputs": [
    {
     "data": {
      "text/plain": [
       "array([11, 12, 13])"
      ]
     },
     "execution_count": 89,
     "metadata": {},
     "output_type": "execute_result"
    }
   ],
   "source": [
    "a[[1,2,3]]"
   ]
  },
  {
   "cell_type": "code",
   "execution_count": 94,
   "id": "b4d5baae-68ff-4ac7-80ca-0a0ea7472d71",
   "metadata": {},
   "outputs": [
    {
     "data": {
      "text/plain": [
       "array([[ 1,  2,  3,  4],\n",
       "       [ 5,  6,  7,  8],\n",
       "       [ 9, 10, 11, 12],\n",
       "       [13, 14, 15, 16]])"
      ]
     },
     "execution_count": 94,
     "metadata": {},
     "output_type": "execute_result"
    }
   ],
   "source": [
    "a = np.arange(1,17).reshape(4,-1)\n",
    "a"
   ]
  },
  {
   "cell_type": "code",
   "execution_count": 95,
   "id": "977c6bf0-6671-4f31-8cb0-3c6af2b4a0fa",
   "metadata": {},
   "outputs": [
    {
     "name": "stdout",
     "output_type": "stream",
     "text": [
      "[1 2 3 4]\n",
      "[5 6 7 8]\n",
      "[ 9 10 11 12]\n",
      "[13 14 15 16]\n"
     ]
    }
   ],
   "source": [
    "for e in a:\n",
    "      print(e)"
   ]
  },
  {
   "cell_type": "code",
   "execution_count": 96,
   "id": "c7fbcdd0-bdb6-4d30-b95b-ba0c1e532180",
   "metadata": {},
   "outputs": [
    {
     "name": "stdout",
     "output_type": "stream",
     "text": [
      "1 2 3 4 5 6 7 8 9 10 11 12 13 14 15 16 "
     ]
    }
   ],
   "source": [
    "for e in a:\n",
    "      for i in e:\n",
    "            print(i, end=' ')"
   ]
  },
  {
   "cell_type": "code",
   "execution_count": 97,
   "id": "d686778d-180a-44be-a039-97324c6e5f25",
   "metadata": {},
   "outputs": [
    {
     "data": {
      "text/plain": [
       "(7,\n",
       " 7,\n",
       " array([[ 5,  6,  7,  8],\n",
       "        [ 9, 10, 11, 12]]))"
      ]
     },
     "execution_count": 97,
     "metadata": {},
     "output_type": "execute_result"
    }
   ],
   "source": [
    "a[1][2], a[1,2], a[[1,2]]"
   ]
  },
  {
   "cell_type": "code",
   "execution_count": 108,
   "id": "0d203188-70ba-45a6-8a0d-17326e34191e",
   "metadata": {},
   "outputs": [
    {
     "data": {
      "text/plain": [
       "14"
      ]
     },
     "execution_count": 108,
     "metadata": {},
     "output_type": "execute_result"
    }
   ],
   "source": [
    "a[3,1]"
   ]
  },
  {
   "cell_type": "code",
   "execution_count": 110,
   "id": "18cbda6c-4662-4826-b1d9-8c1666363806",
   "metadata": {},
   "outputs": [
    {
     "data": {
      "text/plain": [
       "array([15, 16])"
      ]
     },
     "execution_count": 110,
     "metadata": {},
     "output_type": "execute_result"
    }
   ],
   "source": [
    "a[3,2:4]"
   ]
  },
  {
   "cell_type": "code",
   "execution_count": 115,
   "id": "472de569-ffd0-472b-9cc1-0aeba34698a1",
   "metadata": {},
   "outputs": [
    {
     "data": {
      "text/plain": [
       "array([[ True, False,  True, False],\n",
       "       [False,  True, False, False],\n",
       "       [ True, False, False,  True],\n",
       "       [False,  True, False,  True]])"
      ]
     },
     "execution_count": 115,
     "metadata": {},
     "output_type": "execute_result"
    }
   ],
   "source": [
    "#Fancy indexing : 인덱서 안에 정수나 불리언 배열을 사용하여 배열의 값을 추출하는 방법\n",
    "ba = np.array([True,False,True,False,False,True,False,False,True,False,False,True,False,True,False,True])\n",
    "ba = ba.reshape(4,-1)\n",
    "ba"
   ]
  },
  {
   "cell_type": "code",
   "execution_count": 116,
   "id": "b74688d6-818a-4a8b-b371-5a9681f6d571",
   "metadata": {},
   "outputs": [
    {
     "data": {
      "text/plain": [
       "array([ 1,  3,  6,  9, 12, 14, 16])"
      ]
     },
     "execution_count": 116,
     "metadata": {},
     "output_type": "execute_result"
    }
   ],
   "source": [
    "a[ba]"
   ]
  },
  {
   "cell_type": "code",
   "execution_count": 117,
   "id": "06e71e46-5b69-498a-b4a5-cdfa4efffbe8",
   "metadata": {},
   "outputs": [
    {
     "data": {
      "text/plain": [
       "array([[ True, False, False, False],\n",
       "       [False, False, False, False],\n",
       "       [False, False, False, False],\n",
       "       [False, False, False, False]])"
      ]
     },
     "execution_count": 117,
     "metadata": {},
     "output_type": "execute_result"
    }
   ],
   "source": [
    "a<2"
   ]
  },
  {
   "cell_type": "code",
   "execution_count": 118,
   "id": "3924a78f-9310-40d7-b408-cfcce7fafd62",
   "metadata": {},
   "outputs": [
    {
     "data": {
      "text/plain": [
       "array([[ 1,  2,  3,  4],\n",
       "       [ 5,  6,  7,  8],\n",
       "       [ 9, 10, 11, 12],\n",
       "       [13, 14, 15, 16]])"
      ]
     },
     "execution_count": 118,
     "metadata": {},
     "output_type": "execute_result"
    }
   ],
   "source": [
    "a"
   ]
  },
  {
   "cell_type": "code",
   "execution_count": 119,
   "id": "77f8af14-75ac-4a1c-bc1f-a8b8561f0c13",
   "metadata": {},
   "outputs": [
    {
     "data": {
      "text/plain": [
       "array([[5, 6, 7, 8]])"
      ]
     },
     "execution_count": 119,
     "metadata": {},
     "output_type": "execute_result"
    }
   ],
   "source": [
    "a[1:2]"
   ]
  },
  {
   "cell_type": "code",
   "execution_count": 120,
   "id": "f472ec6f-c304-4123-904a-40e9122f99bc",
   "metadata": {},
   "outputs": [
    {
     "data": {
      "text/plain": [
       "array([[10, 11, 12],\n",
       "       [13, 14, 15],\n",
       "       [16, 17, 18]])"
      ]
     },
     "execution_count": 120,
     "metadata": {},
     "output_type": "execute_result"
    }
   ],
   "source": [
    "A = np.arange(10, 19).reshape(3,-1)\n",
    "A"
   ]
  },
  {
   "cell_type": "code",
   "execution_count": 122,
   "id": "8993d669-3d2c-4598-b838-c8b98cd11bce",
   "metadata": {},
   "outputs": [
    {
     "data": {
      "text/plain": [
       "array([10, 11, 12])"
      ]
     },
     "execution_count": 122,
     "metadata": {},
     "output_type": "execute_result"
    }
   ],
   "source": [
    "A[0,:]"
   ]
  },
  {
   "cell_type": "code",
   "execution_count": 139,
   "id": "3a4fc0b2-f457-4038-aa20-b052024f6679",
   "metadata": {},
   "outputs": [
    {
     "data": {
      "text/plain": [
       "array([[11, 12],\n",
       "       [17, 18]])"
      ]
     },
     "execution_count": 139,
     "metadata": {},
     "output_type": "execute_result"
    }
   ],
   "source": [
    "A[[0,2],1:3]"
   ]
  },
  {
   "cell_type": "code",
   "execution_count": 140,
   "id": "f2af2660-474e-48d4-a51f-9000e781626d",
   "metadata": {},
   "outputs": [
    {
     "name": "stdout",
     "output_type": "stream",
     "text": [
      "10 11 12 13 14 15 16 17 18 "
     ]
    }
   ],
   "source": [
    "for n  in A.flatten():\n",
    "      print(n, end =\" \")"
   ]
  },
  {
   "cell_type": "code",
   "execution_count": 141,
   "id": "25b1d645-43d0-4384-87f5-fb34f3dbbeea",
   "metadata": {},
   "outputs": [
    {
     "name": "stdout",
     "output_type": "stream",
     "text": [
      "10 11 12 13 14 15 16 17 18 "
     ]
    }
   ],
   "source": [
    "for n in A.ravel():\n",
    "      print(n, end=' ')"
   ]
  },
  {
   "cell_type": "code",
   "execution_count": 142,
   "id": "37228231-cdfe-4d77-95b9-e74ba074b8ec",
   "metadata": {},
   "outputs": [
    {
     "data": {
      "text/plain": [
       "array([39, 42, 45])"
      ]
     },
     "execution_count": 142,
     "metadata": {},
     "output_type": "execute_result"
    }
   ],
   "source": [
    "np.apply_along_axis(np.sum, axis=0, arr=A)"
   ]
  },
  {
   "cell_type": "code",
   "execution_count": 144,
   "id": "d97a82a5-5b05-49ff-aded-688e0e269edc",
   "metadata": {},
   "outputs": [
    {
     "data": {
      "text/plain": [
       "array([[ 1,  2,  3,  4],\n",
       "       [ 5,  6,  7,  8],\n",
       "       [ 9, 10, 11, 12],\n",
       "       [13, 14, 15, 16]])"
      ]
     },
     "execution_count": 144,
     "metadata": {},
     "output_type": "execute_result"
    }
   ],
   "source": [
    "ndarry = np.arange(1,17).reshape(4, -1)\n",
    "ndarry"
   ]
  },
  {
   "cell_type": "code",
   "execution_count": 149,
   "id": "14fb374b-efa7-4902-b84f-fc17deced409",
   "metadata": {},
   "outputs": [
    {
     "data": {
      "text/plain": [
       "array([ 4,  8, 12, 16])"
      ]
     },
     "execution_count": 149,
     "metadata": {},
     "output_type": "execute_result"
    }
   ],
   "source": [
    "#axis=0 세로축, axis=1 가로축\n",
    "np.apply_along_axis(np.max, axis=1, arr=ndarry)"
   ]
  },
  {
   "cell_type": "code",
   "execution_count": 154,
   "id": "43c17920-20d1-4de6-b64b-864b301a8cc7",
   "metadata": {},
   "outputs": [
    {
     "data": {
      "text/plain": [
       "56"
      ]
     },
     "execution_count": 154,
     "metadata": {},
     "output_type": "execute_result"
    }
   ],
   "source": [
    "#홀수 합 더하기\n",
    "A[A%2==1].sum()"
   ]
  },
  {
   "cell_type": "code",
   "execution_count": 155,
   "id": "da685b2f-784d-49f7-992d-90f4ba8333f4",
   "metadata": {},
   "outputs": [
    {
     "data": {
      "text/plain": [
       "<memory at 0x000001A2B7B72EE0>"
      ]
     },
     "execution_count": 155,
     "metadata": {},
     "output_type": "execute_result"
    }
   ],
   "source": [
    "A.data"
   ]
  },
  {
   "cell_type": "code",
   "execution_count": 156,
   "id": "8483a4f5-492c-4800-8a6b-e37b1acd1a60",
   "metadata": {},
   "outputs": [
    {
     "data": {
      "text/plain": [
       "array([[10, 11, 12, 13, 14, 15, 16, 17, 18]])"
      ]
     },
     "execution_count": 156,
     "metadata": {},
     "output_type": "execute_result"
    }
   ],
   "source": [
    "A1 = A.reshape(1, -1)\n",
    "A1"
   ]
  },
  {
   "cell_type": "code",
   "execution_count": 157,
   "id": "53981b99-83f5-4331-baa3-5c42e9ed2a2e",
   "metadata": {},
   "outputs": [
    {
     "data": {
      "text/plain": [
       "<memory at 0x000001A2B7AF3040>"
      ]
     },
     "execution_count": 157,
     "metadata": {},
     "output_type": "execute_result"
    }
   ],
   "source": [
    "A1.data"
   ]
  },
  {
   "cell_type": "code",
   "execution_count": 159,
   "id": "c1fa51f4-e99e-4e14-a0a1-3958e8997448",
   "metadata": {},
   "outputs": [
    {
     "data": {
      "text/plain": [
       "array([10, 11, 12, 13, 14, 15, 16, 17, 18])"
      ]
     },
     "execution_count": 159,
     "metadata": {},
     "output_type": "execute_result"
    }
   ],
   "source": [
    "A1.shape=(9,)\n",
    "A1"
   ]
  },
  {
   "cell_type": "code",
   "execution_count": 160,
   "id": "513669c0-472b-40e5-9c77-3a88bdcc8b38",
   "metadata": {},
   "outputs": [
    {
     "data": {
      "text/plain": [
       "array([[10, 11, 12],\n",
       "       [13, 14, 15],\n",
       "       [16, 17, 18]])"
      ]
     },
     "execution_count": 160,
     "metadata": {},
     "output_type": "execute_result"
    }
   ],
   "source": [
    "A1.shape = (3,-1)\n",
    "A1"
   ]
  },
  {
   "cell_type": "code",
   "execution_count": 161,
   "id": "11bae3ee-216d-4526-868b-3307182449d2",
   "metadata": {},
   "outputs": [
    {
     "data": {
      "text/plain": [
       "array([[10, 11, 12],\n",
       "       [13, 14, 15],\n",
       "       [16, 17, 18]])"
      ]
     },
     "execution_count": 161,
     "metadata": {},
     "output_type": "execute_result"
    }
   ],
   "source": [
    "A"
   ]
  },
  {
   "cell_type": "code",
   "execution_count": 162,
   "id": "c8b3db42-1956-4467-b786-c341249f8273",
   "metadata": {},
   "outputs": [
    {
     "data": {
      "text/plain": [
       "array([[10, 13, 16],\n",
       "       [11, 14, 17],\n",
       "       [12, 15, 18]])"
      ]
     },
     "execution_count": 162,
     "metadata": {},
     "output_type": "execute_result"
    }
   ],
   "source": [
    "A.transpose()"
   ]
  },
  {
   "cell_type": "code",
   "execution_count": 163,
   "id": "c72a05b5-5c25-4f44-adf5-3649b66fd2d6",
   "metadata": {},
   "outputs": [],
   "source": [
    "A = np.ones((3,3))\n",
    "B = np.zeros((3,3))"
   ]
  },
  {
   "cell_type": "code",
   "execution_count": 164,
   "id": "76869adb-88ab-4c4b-bafa-3d67d8563ce5",
   "metadata": {},
   "outputs": [
    {
     "data": {
      "text/plain": [
       "array([[1., 1., 1.],\n",
       "       [1., 1., 1.],\n",
       "       [1., 1., 1.],\n",
       "       [0., 0., 0.],\n",
       "       [0., 0., 0.],\n",
       "       [0., 0., 0.]])"
      ]
     },
     "execution_count": 164,
     "metadata": {},
     "output_type": "execute_result"
    }
   ],
   "source": [
    "np.vstack([A,B])"
   ]
  },
  {
   "cell_type": "code",
   "execution_count": 165,
   "id": "b61ada87-baf3-46e3-865f-7280dfe5260f",
   "metadata": {},
   "outputs": [
    {
     "data": {
      "text/plain": [
       "array([[1., 1., 1., 0., 0., 0.],\n",
       "       [1., 1., 1., 0., 0., 0.],\n",
       "       [1., 1., 1., 0., 0., 0.]])"
      ]
     },
     "execution_count": 165,
     "metadata": {},
     "output_type": "execute_result"
    }
   ],
   "source": [
    "np.hstack([A,B])"
   ]
  },
  {
   "cell_type": "code",
   "execution_count": 167,
   "id": "38e16e90-2181-4cb1-99c9-9261203df26d",
   "metadata": {},
   "outputs": [
    {
     "data": {
      "text/plain": [
       "array([[1, 4, 7],\n",
       "       [2, 5, 8],\n",
       "       [3, 6, 9]])"
      ]
     },
     "execution_count": 167,
     "metadata": {},
     "output_type": "execute_result"
    }
   ],
   "source": [
    "np.column_stack([[1,2,3],[4,5,6],[7,8,9]])"
   ]
  },
  {
   "cell_type": "code",
   "execution_count": 168,
   "id": "28c920a0-8dbd-462d-a0fb-a27ce35d8e97",
   "metadata": {},
   "outputs": [
    {
     "data": {
      "text/plain": [
       "array([[1, 2, 3],\n",
       "       [4, 5, 6],\n",
       "       [7, 8, 9]])"
      ]
     },
     "execution_count": 168,
     "metadata": {},
     "output_type": "execute_result"
    }
   ],
   "source": [
    "np.row_stack([[1,2,3],[4,5,6],[7,8,9]])"
   ]
  },
  {
   "cell_type": "code",
   "execution_count": 170,
   "id": "7641eff3-dec1-4329-8644-eff1bab47372",
   "metadata": {},
   "outputs": [
    {
     "data": {
      "text/plain": [
       "array([[ 0,  1,  2,  3],\n",
       "       [ 4,  5,  6,  7],\n",
       "       [ 8,  9, 10, 11],\n",
       "       [12, 13, 14, 15]])"
      ]
     },
     "execution_count": 170,
     "metadata": {},
     "output_type": "execute_result"
    }
   ],
   "source": [
    "A = np.arange(16).reshape(4,-1)\n",
    "A"
   ]
  },
  {
   "cell_type": "code",
   "execution_count": 173,
   "id": "7331fc03-b5c9-43e8-9e31-327b315a869f",
   "metadata": {},
   "outputs": [
    {
     "data": {
      "text/plain": [
       "[array([[ 0,  1],\n",
       "        [ 4,  5],\n",
       "        [ 8,  9],\n",
       "        [12, 13]]),\n",
       " array([[ 2,  3],\n",
       "        [ 6,  7],\n",
       "        [10, 11],\n",
       "        [14, 15]])]"
      ]
     },
     "execution_count": 173,
     "metadata": {},
     "output_type": "execute_result"
    }
   ],
   "source": [
    "#수평분리\n",
    "np.hsplit(A,2)"
   ]
  },
  {
   "cell_type": "code",
   "execution_count": 175,
   "id": "d3febba1-13b9-4cd4-a666-ded37645a347",
   "metadata": {},
   "outputs": [
    {
     "data": {
      "text/plain": [
       "[array([[0, 1, 2, 3],\n",
       "        [4, 5, 6, 7]]),\n",
       " array([[ 8,  9, 10, 11],\n",
       "        [12, 13, 14, 15]])]"
      ]
     },
     "execution_count": 175,
     "metadata": {},
     "output_type": "execute_result"
    }
   ],
   "source": [
    "#수직분리\n",
    "np.vsplit(A,2)"
   ]
  },
  {
   "cell_type": "code",
   "execution_count": 181,
   "id": "4ae7556d-5289-4411-b357-77c652b0ff34",
   "metadata": {},
   "outputs": [
    {
     "data": {
      "text/plain": [
       "[array([[0, 1, 2, 3],\n",
       "        [4, 5, 6, 7]]),\n",
       " array([[ 8,  9, 10, 11]]),\n",
       " array([[12, 13, 14, 15]])]"
      ]
     },
     "execution_count": 181,
     "metadata": {},
     "output_type": "execute_result"
    }
   ],
   "source": [
    "np.split(A, [2,3], axis=0)"
   ]
  },
  {
   "cell_type": "code",
   "execution_count": 180,
   "id": "2ee2c7b0-24f5-4ac2-baf6-3159e4219dc4",
   "metadata": {},
   "outputs": [
    {
     "data": {
      "text/plain": [
       "[array([[ 0],\n",
       "        [ 4],\n",
       "        [ 8],\n",
       "        [12]]),\n",
       " array([[ 1,  2],\n",
       "        [ 5,  6],\n",
       "        [ 9, 10],\n",
       "        [13, 14]]),\n",
       " array([[ 3],\n",
       "        [ 7],\n",
       "        [11],\n",
       "        [15]])]"
      ]
     },
     "execution_count": 180,
     "metadata": {},
     "output_type": "execute_result"
    }
   ],
   "source": [
    "np.split(A, [1,3], axis=1)"
   ]
  },
  {
   "cell_type": "markdown",
   "id": "8c2f7c5c-26a4-437a-8b03-f37da41072c1",
   "metadata": {},
   "source": [
    "# Views, Copies"
   ]
  },
  {
   "cell_type": "code",
   "execution_count": 182,
   "id": "4aa87299-c173-453d-8d46-50fc986ecdbb",
   "metadata": {},
   "outputs": [
    {
     "data": {
      "text/plain": [
       "array([1, 2, 3, 4])"
      ]
     },
     "execution_count": 182,
     "metadata": {},
     "output_type": "execute_result"
    }
   ],
   "source": [
    "a= np.arange(1,5)\n",
    "a"
   ]
  },
  {
   "cell_type": "code",
   "execution_count": 184,
   "id": "f48f4504-e9db-44f5-ad17-54d5888ee8a3",
   "metadata": {},
   "outputs": [
    {
     "data": {
      "text/plain": [
       "array([1, 2, 3, 4])"
      ]
     },
     "execution_count": 184,
     "metadata": {},
     "output_type": "execute_result"
    }
   ],
   "source": [
    "a"
   ]
  },
  {
   "cell_type": "code",
   "execution_count": 188,
   "id": "b28bb466-f84e-4258-936a-799a632ae285",
   "metadata": {},
   "outputs": [],
   "source": [
    "b = a.copy()"
   ]
  },
  {
   "cell_type": "code",
   "execution_count": 189,
   "id": "d4103c86-d095-4cae-910d-7bc7cf455556",
   "metadata": {},
   "outputs": [
    {
     "data": {
      "text/plain": [
       "array([1, 2, 3, 4])"
      ]
     },
     "execution_count": 189,
     "metadata": {},
     "output_type": "execute_result"
    }
   ],
   "source": [
    "b"
   ]
  },
  {
   "cell_type": "code",
   "execution_count": 192,
   "id": "ff50bd88-bf10-4058-b9fd-e4f352ab34c7",
   "metadata": {},
   "outputs": [],
   "source": [
    "b[0] = 5"
   ]
  },
  {
   "cell_type": "code",
   "execution_count": 193,
   "id": "24244506-0977-415a-ba01-1bbade10a842",
   "metadata": {},
   "outputs": [
    {
     "data": {
      "text/plain": [
       "array([5, 2, 3, 4])"
      ]
     },
     "execution_count": 193,
     "metadata": {},
     "output_type": "execute_result"
    }
   ],
   "source": [
    "b"
   ]
  },
  {
   "cell_type": "code",
   "execution_count": 194,
   "id": "f7e6a95a-5c05-452e-93e7-44a8c2b2320d",
   "metadata": {},
   "outputs": [
    {
     "data": {
      "text/plain": [
       "array([1, 2, 3, 4])"
      ]
     },
     "execution_count": 194,
     "metadata": {},
     "output_type": "execute_result"
    }
   ],
   "source": [
    "a"
   ]
  },
  {
   "cell_type": "code",
   "execution_count": 195,
   "id": "56c7037b-a285-48d3-857a-c9fe09b6e656",
   "metadata": {},
   "outputs": [
    {
     "data": {
      "text/plain": [
       "array([3, 8])"
      ]
     },
     "execution_count": 195,
     "metadata": {},
     "output_type": "execute_result"
    }
   ],
   "source": [
    "v2 = np.array([1,2]) * np.array([3,4])\n",
    "v2"
   ]
  },
  {
   "cell_type": "code",
   "execution_count": 196,
   "id": "c1b9e54d-f144-45a0-b966-004b6e67f52d",
   "metadata": {},
   "outputs": [
    {
     "data": {
      "text/plain": [
       "array([2, 4, 6, 8])"
      ]
     },
     "execution_count": 196,
     "metadata": {},
     "output_type": "execute_result"
    }
   ],
   "source": [
    "a*2"
   ]
  },
  {
   "cell_type": "code",
   "execution_count": 197,
   "id": "4538d6f6-742f-4ee8-ba13-40cd38c3e028",
   "metadata": {},
   "outputs": [
    {
     "data": {
      "text/plain": [
       "array([2, 4, 6, 8])"
      ]
     },
     "execution_count": 197,
     "metadata": {},
     "output_type": "execute_result"
    }
   ],
   "source": [
    "a*[2,2,2,2]"
   ]
  },
  {
   "cell_type": "code",
   "execution_count": 198,
   "id": "72b274ff-eaec-4e46-9642-75cb0574f675",
   "metadata": {},
   "outputs": [
    {
     "name": "stdout",
     "output_type": "stream",
     "text": [
      "파일 저장 성공\n"
     ]
    }
   ],
   "source": [
    "np.save('saved_ndarray', a)\n",
    "print('파일 저장 성공')"
   ]
  },
  {
   "cell_type": "code",
   "execution_count": 200,
   "id": "4165e488-2468-4e56-b1a2-6ad70d66b158",
   "metadata": {},
   "outputs": [
    {
     "data": {
      "text/plain": [
       "array([1, 2, 3, 4])"
      ]
     },
     "execution_count": 200,
     "metadata": {},
     "output_type": "execute_result"
    }
   ],
   "source": [
    "fa = np.load('saved_ndarray.npy')\n",
    "fa"
   ]
  },
  {
   "cell_type": "code",
   "execution_count": null,
   "id": "c288368c-eb88-45d1-9e88-1eb5dbad1303",
   "metadata": {},
   "outputs": [],
   "source": []
  }
 ],
 "metadata": {
  "kernelspec": {
   "display_name": "Python 3 (ipykernel)",
   "language": "python",
   "name": "python3"
  },
  "language_info": {
   "codemirror_mode": {
    "name": "ipython",
    "version": 3
   },
   "file_extension": ".py",
   "mimetype": "text/x-python",
   "name": "python",
   "nbconvert_exporter": "python",
   "pygments_lexer": "ipython3",
   "version": "3.9.12"
  }
 },
 "nbformat": 4,
 "nbformat_minor": 5
}
