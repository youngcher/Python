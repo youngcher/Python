{
 "cells": [
  {
   "cell_type": "code",
   "execution_count": null,
   "id": "6d38f16e",
   "metadata": {},
   "outputs": [],
   "source": [
    "!pip show pandas"
   ]
  },
  {
   "cell_type": "code",
   "execution_count": null,
   "id": "3184c3f5",
   "metadata": {},
   "outputs": [],
   "source": [
    "import pandas as pd\n",
    "import numpy as np"
   ]
  },
  {
   "cell_type": "code",
   "execution_count": null,
   "id": "dd593d12",
   "metadata": {},
   "outputs": [],
   "source": [
    "s = pd.Series([12, -4, 7, 9])\n",
    "s"
   ]
  },
  {
   "cell_type": "code",
   "execution_count": null,
   "id": "a87dcb32",
   "metadata": {},
   "outputs": [],
   "source": [
    "s = pd.Series([12, -4, 7, 9], index=['a','b','c','d'])\n",
    "s"
   ]
  },
  {
   "cell_type": "code",
   "execution_count": null,
   "id": "e01b0961",
   "metadata": {},
   "outputs": [],
   "source": [
    "s.index"
   ]
  },
  {
   "cell_type": "code",
   "execution_count": null,
   "id": "8ab0716c",
   "metadata": {
    "scrolled": true
   },
   "outputs": [],
   "source": [
    "s.values"
   ]
  },
  {
   "cell_type": "code",
   "execution_count": null,
   "id": "270b7258",
   "metadata": {},
   "outputs": [],
   "source": [
    "type(s.values)   # numpy.ndarray"
   ]
  },
  {
   "cell_type": "code",
   "execution_count": null,
   "id": "70d9a97b",
   "metadata": {},
   "outputs": [],
   "source": [
    "tmp = s.values[s<0]\n",
    "type(tmp)   # numpy.ndarray\n",
    "tmp[0]"
   ]
  },
  {
   "cell_type": "code",
   "execution_count": null,
   "id": "dda7b292",
   "metadata": {},
   "outputs": [],
   "source": [
    "s<0"
   ]
  },
  {
   "cell_type": "code",
   "execution_count": null,
   "id": "009591b9",
   "metadata": {},
   "outputs": [],
   "source": [
    "type(s<0)   # pandas.core.series.Series"
   ]
  },
  {
   "cell_type": "code",
   "execution_count": null,
   "id": "e475df5d",
   "metadata": {},
   "outputs": [],
   "source": [
    "s"
   ]
  },
  {
   "cell_type": "code",
   "execution_count": null,
   "id": "0eba9bb5",
   "metadata": {},
   "outputs": [],
   "source": [
    "s[0]         # 12\n",
    "s[[0,1]]\n",
    "\n",
    "s[s>0]\n",
    "s[[False,True,False,False]]\n",
    "type(s[[False,True,False,False]])   # Series\n",
    "s[[False,True,False,False]][0]      # Scala\n",
    "\n",
    "s[0:2]\n",
    "\n",
    "s['a']         # Scala\n",
    "s[['a','b']]   # Series"
   ]
  },
  {
   "cell_type": "code",
   "execution_count": null,
   "id": "b817819a",
   "metadata": {},
   "outputs": [],
   "source": [
    "s[0] = 100\n",
    "s"
   ]
  },
  {
   "cell_type": "code",
   "execution_count": null,
   "id": "db02a600",
   "metadata": {
    "scrolled": true
   },
   "outputs": [],
   "source": [
    "s[[0,1]] = -4\n",
    "s"
   ]
  },
  {
   "cell_type": "code",
   "execution_count": null,
   "id": "75dce090",
   "metadata": {
    "scrolled": true
   },
   "outputs": [],
   "source": [
    "s['a'] = 12\n",
    "s"
   ]
  },
  {
   "cell_type": "code",
   "execution_count": null,
   "id": "e1f0ac4e",
   "metadata": {
    "scrolled": true
   },
   "outputs": [],
   "source": [
    "s[['a','b']] = -4\n",
    "s"
   ]
  },
  {
   "cell_type": "code",
   "execution_count": null,
   "id": "0710ca85",
   "metadata": {},
   "outputs": [],
   "source": [
    "s = pd.Series({'a':12, 'b':-4, 'c':7, 'd':9})\n",
    "s"
   ]
  },
  {
   "cell_type": "code",
   "execution_count": null,
   "id": "26df7eda",
   "metadata": {},
   "outputs": [],
   "source": [
    "s = pd.Series(np.array([12,-4, 7, 9]), index=['a','b','c','d'])\n",
    "s"
   ]
  },
  {
   "cell_type": "code",
   "execution_count": null,
   "id": "c5c9d9c2",
   "metadata": {},
   "outputs": [],
   "source": [
    "s = pd.Series([12,-4, 7, 9], index=['a','b','c','d'])\n",
    "s"
   ]
  },
  {
   "cell_type": "code",
   "execution_count": null,
   "id": "54e5f336",
   "metadata": {
    "scrolled": true
   },
   "outputs": [],
   "source": [
    "s2 = pd.Series(s)\n",
    "s2"
   ]
  },
  {
   "cell_type": "code",
   "execution_count": null,
   "id": "0ab445a4",
   "metadata": {
    "scrolled": true
   },
   "outputs": [],
   "source": [
    "s2[0], s[0]"
   ]
  },
  {
   "cell_type": "code",
   "execution_count": null,
   "id": "46303e1b",
   "metadata": {
    "scrolled": true
   },
   "outputs": [],
   "source": [
    "s2[0] = -4\n",
    "s2, s"
   ]
  },
  {
   "cell_type": "code",
   "execution_count": null,
   "id": "2c0d6bc7",
   "metadata": {
    "scrolled": true
   },
   "outputs": [],
   "source": [
    "s[s>0]"
   ]
  },
  {
   "cell_type": "code",
   "execution_count": null,
   "id": "00151ee3",
   "metadata": {
    "scrolled": true
   },
   "outputs": [],
   "source": [
    "nums = [12, -4, 7, 9]\n",
    "s = pd.Series(nums)\n",
    "s[1] = 4\n",
    "s\n",
    "nums\n",
    "s2 = pd.Series(s)\n",
    "s2[0] = 100\n",
    "s, s2, nums"
   ]
  },
  {
   "cell_type": "code",
   "execution_count": null,
   "id": "8eb8b17e",
   "metadata": {},
   "outputs": [],
   "source": [
    "s3 = s\n",
    "s3"
   ]
  },
  {
   "cell_type": "code",
   "execution_count": null,
   "id": "4f7f4ed4",
   "metadata": {},
   "outputs": [],
   "source": [
    "s3[0] = 0\n",
    "s, s2, s3"
   ]
  },
  {
   "cell_type": "code",
   "execution_count": null,
   "id": "844c1eeb",
   "metadata": {},
   "outputs": [],
   "source": [
    "#  Indexer (loc[], iloc[])\n",
    "# loc[] : labels, boolean\n",
    "# iloc[] : position integer, boolean"
   ]
  },
  {
   "cell_type": "code",
   "execution_count": null,
   "id": "0164d9e2",
   "metadata": {
    "scrolled": true
   },
   "outputs": [],
   "source": [
    "s"
   ]
  },
  {
   "cell_type": "code",
   "execution_count": null,
   "id": "9cb1dead",
   "metadata": {
    "scrolled": true
   },
   "outputs": [],
   "source": [
    "s.index = ['a','b','c','d']\n",
    "s"
   ]
  },
  {
   "cell_type": "code",
   "execution_count": null,
   "id": "f8982fc7",
   "metadata": {},
   "outputs": [],
   "source": [
    "# loc[] : Labels, Boolean\n",
    "s.loc['a']\n",
    "s.loc[['a','b']]\n",
    "s.loc[[True,False,False,False]]\n",
    "s.loc[s>5][1]"
   ]
  },
  {
   "cell_type": "code",
   "execution_count": null,
   "id": "3d595cef",
   "metadata": {
    "scrolled": true
   },
   "outputs": [],
   "source": [
    "# iloc[] : Position integer, Boolean\n",
    "s.iloc[0]\n",
    "s.iloc[[0,1]]\n",
    "s.iloc[[True,False,False,False]]\n",
    "# s.iloc[s>5]   # ValueError\n",
    "s.iloc[(s>5).to_list()]\n",
    "s.iloc[(s>5).to_numpy()]"
   ]
  },
  {
   "cell_type": "code",
   "execution_count": null,
   "id": "24b5d5e0",
   "metadata": {},
   "outputs": [],
   "source": [
    "type(s.values)  # numpy.ndarray\n",
    "s.values\n",
    "s.to_numpy()\n",
    "s.to_list()"
   ]
  },
  {
   "cell_type": "code",
   "execution_count": null,
   "id": "f1c2e194",
   "metadata": {},
   "outputs": [],
   "source": [
    "arr = np.arange(5)\n",
    "type(arr)\n",
    "type(arr/2)"
   ]
  },
  {
   "cell_type": "code",
   "execution_count": null,
   "id": "8b10bd12",
   "metadata": {
    "scrolled": true
   },
   "outputs": [],
   "source": [
    "s = pd.Series(arr*2)\n",
    "s"
   ]
  },
  {
   "cell_type": "code",
   "execution_count": null,
   "id": "db19bbc4",
   "metadata": {
    "scrolled": true
   },
   "outputs": [],
   "source": [
    "s/2"
   ]
  },
  {
   "cell_type": "code",
   "execution_count": null,
   "id": "f09ac208",
   "metadata": {
    "scrolled": true
   },
   "outputs": [],
   "source": [
    "type(np.sin(arr))"
   ]
  },
  {
   "cell_type": "code",
   "execution_count": null,
   "id": "89063513",
   "metadata": {
    "scrolled": true
   },
   "outputs": [],
   "source": [
    "np.sin(s)"
   ]
  },
  {
   "cell_type": "code",
   "execution_count": null,
   "id": "bf355bd7",
   "metadata": {
    "scrolled": true
   },
   "outputs": [],
   "source": [
    "np.log(arr)\n",
    "np.log(s)"
   ]
  },
  {
   "cell_type": "code",
   "execution_count": null,
   "id": "d114e6d4",
   "metadata": {},
   "outputs": [],
   "source": [
    "s1 = pd.Series([1,2,3,4])\n",
    "s2 = pd.Series([3,4,5,6])\n",
    "\n",
    "s1 + s2"
   ]
  },
  {
   "cell_type": "code",
   "execution_count": null,
   "id": "e8ef6111",
   "metadata": {
    "scrolled": true
   },
   "outputs": [],
   "source": [
    "s1.index = ['a','b','c','d']\n",
    "s1"
   ]
  },
  {
   "cell_type": "code",
   "execution_count": null,
   "id": "178a7c14",
   "metadata": {},
   "outputs": [],
   "source": [
    "s2.index = ['c','d','e','f']\n",
    "s2"
   ]
  },
  {
   "cell_type": "code",
   "execution_count": null,
   "id": "308d02a3",
   "metadata": {},
   "outputs": [],
   "source": [
    "s1 + s2"
   ]
  },
  {
   "cell_type": "code",
   "execution_count": null,
   "id": "4e278b12",
   "metadata": {},
   "outputs": [],
   "source": [
    "s = pd.Series({'a':1, 'b':2, 'b':3, 'c':4, 'c':5})\n",
    "s"
   ]
  },
  {
   "cell_type": "code",
   "execution_count": null,
   "id": "9d243a68",
   "metadata": {
    "scrolled": true
   },
   "outputs": [],
   "source": [
    "s = pd.Series([1,2,3,3,2], index=['a','b','b','c','c'])\n",
    "s"
   ]
  },
  {
   "cell_type": "code",
   "execution_count": null,
   "id": "d153165d",
   "metadata": {},
   "outputs": [],
   "source": [
    "s.unique()  # 값 중에서 중복되지 않게 가져오기"
   ]
  },
  {
   "cell_type": "code",
   "execution_count": null,
   "id": "5c97fce9",
   "metadata": {
    "scrolled": true
   },
   "outputs": [],
   "source": [
    "len(s)   # 5\n",
    "s.value_counts()  # 각 원소의 갯수"
   ]
  },
  {
   "cell_type": "code",
   "execution_count": null,
   "id": "cff18cbf",
   "metadata": {},
   "outputs": [],
   "source": [
    "'h' in 'hello'"
   ]
  },
  {
   "cell_type": "code",
   "execution_count": null,
   "id": "db3da02c",
   "metadata": {
    "scrolled": true
   },
   "outputs": [],
   "source": [
    "s.isin([2,3])"
   ]
  },
  {
   "cell_type": "code",
   "execution_count": null,
   "id": "0261f935",
   "metadata": {},
   "outputs": [],
   "source": [
    "dir(s)"
   ]
  },
  {
   "cell_type": "code",
   "execution_count": null,
   "id": "ad5acab2",
   "metadata": {},
   "outputs": [],
   "source": [
    "s2 = pd.Series([5, -3, np.NaN, 14])\n",
    "s2"
   ]
  },
  {
   "cell_type": "code",
   "execution_count": null,
   "id": "f73528a3",
   "metadata": {
    "scrolled": true
   },
   "outputs": [],
   "source": [
    "s2.isnull()"
   ]
  },
  {
   "cell_type": "code",
   "execution_count": null,
   "id": "cce31a16",
   "metadata": {},
   "outputs": [],
   "source": [
    "s2.notnull()"
   ]
  },
  {
   "cell_type": "code",
   "execution_count": null,
   "id": "a5f809e4",
   "metadata": {},
   "outputs": [],
   "source": [
    "np.mean(s2)   # NaN 제외하고 평균"
   ]
  },
  {
   "cell_type": "code",
   "execution_count": null,
   "id": "74d7e553",
   "metadata": {
    "scrolled": true
   },
   "outputs": [],
   "source": [
    "np.mean(s2[s2.notnull()])"
   ]
  },
  {
   "cell_type": "code",
   "execution_count": null,
   "id": "a228af70",
   "metadata": {},
   "outputs": [],
   "source": [
    "import pandas as pd\n",
    "import numpy as np\n",
    "\n",
    "s = pd.Series([1,2,3,4,5], index=['a','b','c','d','e'], name='점수')\n",
    "\n",
    "s['f'] = 6\n",
    "s.loc['g'] = 7"
   ]
  },
  {
   "cell_type": "code",
   "execution_count": null,
   "id": "6875e897",
   "metadata": {
    "scrolled": true
   },
   "outputs": [],
   "source": [
    "s.append(pd.Series([8,9]), ignore_index=True)"
   ]
  },
  {
   "cell_type": "code",
   "execution_count": null,
   "id": "d3722df2",
   "metadata": {
    "scrolled": true
   },
   "outputs": [],
   "source": [
    "pd.concat([s, pd.Series([10])], ignore_index=True)"
   ]
  },
  {
   "cell_type": "code",
   "execution_count": null,
   "id": "3c1be2b4",
   "metadata": {
    "scrolled": false
   },
   "outputs": [],
   "source": [
    "s = pd.Series(np.arange(5), index=['a','b','c','d','e'])\n",
    "s"
   ]
  },
  {
   "cell_type": "code",
   "execution_count": null,
   "id": "ace5a2e6",
   "metadata": {},
   "outputs": [],
   "source": [
    "s.drop(['a','b'])\n",
    "s"
   ]
  },
  {
   "cell_type": "code",
   "execution_count": null,
   "id": "688c49d2",
   "metadata": {
    "scrolled": true
   },
   "outputs": [],
   "source": [
    "s.drop(['a','b'], inplace=True)\n",
    "s"
   ]
  },
  {
   "cell_type": "code",
   "execution_count": null,
   "id": "0de2d3a8",
   "metadata": {
    "scrolled": true
   },
   "outputs": [],
   "source": [
    "del s['c']\n",
    "s"
   ]
  },
  {
   "cell_type": "code",
   "execution_count": 52,
   "id": "43c0f29c",
   "metadata": {},
   "outputs": [
    {
     "data": {
      "text/plain": [
       "0    2\n",
       "1    2\n",
       "2    9\n",
       "3    2\n",
       "4    7\n",
       "dtype: int32"
      ]
     },
     "execution_count": 52,
     "metadata": {},
     "output_type": "execute_result"
    }
   ],
   "source": [
    "# sort_values()\n",
    "np.random.randint((2, 2, 2))\n",
    "arr = np.random.randint(0,10, 5)\n",
    "s = pd.Series(arr)\n",
    "s"
   ]
  },
  {
   "cell_type": "code",
   "execution_count": 51,
   "id": "02137386",
   "metadata": {},
   "outputs": [
    {
     "data": {
      "text/plain": [
       "1    6\n",
       "2    5\n",
       "3    4\n",
       "4    2\n",
       "0    1\n",
       "dtype: int32"
      ]
     },
     "execution_count": 51,
     "metadata": {},
     "output_type": "execute_result"
    }
   ],
   "source": [
    "s.sort_values()                 # 오름차순\n",
    "s.sort_values(ascending=False)  # 내림차순"
   ]
  },
  {
   "cell_type": "code",
   "execution_count": 59,
   "id": "9516077a",
   "metadata": {
    "scrolled": true
   },
   "outputs": [
    {
     "data": {
      "text/plain": [
       "2    9\n",
       "4    7\n",
       "0    2\n",
       "1    2\n",
       "3    2\n",
       "dtype: int32"
      ]
     },
     "execution_count": 59,
     "metadata": {},
     "output_type": "execute_result"
    }
   ],
   "source": [
    "# sort_index()\n",
    "s.sort_values(ascending=False, inplace=True)\n",
    "s"
   ]
  },
  {
   "cell_type": "code",
   "execution_count": 60,
   "id": "376edc80",
   "metadata": {},
   "outputs": [
    {
     "data": {
      "text/plain": [
       "0    2\n",
       "1    2\n",
       "2    9\n",
       "3    2\n",
       "4    7\n",
       "dtype: int32"
      ]
     },
     "execution_count": 60,
     "metadata": {},
     "output_type": "execute_result"
    }
   ],
   "source": [
    "s.sort_index(inplace=True)\n",
    "s"
   ]
  },
  {
   "cell_type": "markdown",
   "id": "8f393538",
   "metadata": {},
   "source": [
    "## Series 를 이용한 CRUD 실습"
   ]
  },
  {
   "cell_type": "code",
   "execution_count": 1,
   "id": "bb08a0c9",
   "metadata": {},
   "outputs": [],
   "source": [
    "import pandas as pd\n",
    "import numpy as np\n",
    "\n",
    "names = pd.Series({11:'smith', 12:'mary', 13:'jone', 14:'laura', 15:'scott'})\n",
    "subjects = pd.Series(['Java','Spring','Python'])\n",
    "score = np.zeros((5,3))"
   ]
  },
  {
   "cell_type": "code",
   "execution_count": 2,
   "id": "90e0b77d",
   "metadata": {},
   "outputs": [],
   "source": [
    "m_dic= {'s':'LIST', 'a':'ADD','f':'FIND','u':'UPDATE','d':'DELETE', 'x':'EXIT'}\n",
    "def menu():\n",
    "    print('================================================================')\n",
    "    m = input('목록(s), 추가(a), 검색(번호로 검색, f), 수정(u), 삭제(d), 종료(x):')\n",
    "    return m_dic.get(m)"
   ]
  },
  {
   "cell_type": "code",
   "execution_count": 3,
   "id": "9fe87d97",
   "metadata": {},
   "outputs": [],
   "source": [
    "def add():\n",
    "    sNum, name = input('번호 이름').split()\n",
    "    name = name.strip()\n",
    "    num = int(sNum.strip())\n",
    "    idx = np.where(names.loc[num]==name)\n",
    "    if names.loc[num]!=name:\n",
    "        print('일치하는 번호와 이름이 없습니다')\n",
    "    else:\n",
    "        s1,s2,s3 = input('S1, S2, S3 과목 성적:').split()\n",
    "        score1 = int(s1.strip())\n",
    "        score2 = int(s2.strip())\n",
    "        score3 = int(s3.strip())\n",
    "        scores[idx] = [score1,score2,score3]\n",
    "        np.save('scores', scores)\n",
    "        print('성적입력 성공')"
   ]
  },
  {
   "cell_type": "code",
   "execution_count": 4,
   "id": "ed60f370",
   "metadata": {},
   "outputs": [],
   "source": [
    "def show_list():\n",
    "    print('================================================================')\n",
    "    # 컬럼명\n",
    "    print('번호\\t이름', end='')\n",
    "    for s in subjects:\n",
    "        print(f'\\t{s}', end='')\n",
    "    print()\n",
    "    print('--------------------------------------')\n",
    "    \n",
    "    # 데이터\n",
    "    global scores\n",
    "    try:\n",
    "        tmp = np.load('scores.npy')\n",
    "        scores = tmp\n",
    "    except IOError as ioe:\n",
    "        pass\n",
    "\n",
    "    stid = list(names.index)\n",
    "    for i in range(len(names)):\n",
    "        print('{}\\t{}\\t'.format(stid[i],names[stid[i]]), end='')\n",
    "        for s in scores[i]:\n",
    "            print('{}\\t'.format(s), end='')\n",
    "        print()"
   ]
  },
  {
   "cell_type": "code",
   "execution_count": 5,
   "id": "dc1fb2ab",
   "metadata": {},
   "outputs": [],
   "source": [
    "def print_by_num(sid):\n",
    "    print('================================================================')\n",
    "    # 컬럼명\n",
    "    print('번호\\t이름', end='')\n",
    "    for s in subjects:\n",
    "        print(f'\\t{s}', end='')\n",
    "    print()\n",
    "    print('--------------------------------------')\n",
    "    \n",
    "    name = names.loc[sid]\n",
    "    \n",
    "    print('{}\\t{}\\t'.format(sid,name), end='')\n",
    "    idx = np.where(names==name)\n",
    "    st_score = scores[idx][0]\n",
    "    for s in st_score:\n",
    "        print(f'{s}\\t', end='')\n",
    "    print()"
   ]
  },
  {
   "cell_type": "code",
   "execution_count": 6,
   "id": "1db22f9c",
   "metadata": {},
   "outputs": [],
   "source": [
    "def find():\n",
    "    sNum = input('학생 번호:')\n",
    "    num = int(sNum)\n",
    "    print_by_num(num)"
   ]
  },
  {
   "cell_type": "code",
   "execution_count": 7,
   "id": "f1430210",
   "metadata": {},
   "outputs": [],
   "source": [
    "def update():\n",
    "    tmp = input('학생번호:')\n",
    "    st_num = int(tmp.strip())\n",
    "    idx = np.where(names==names.loc[st_num])\n",
    "    \n",
    "    tmp = input('과목번호(0,1,2) 새 성적:')\n",
    "    subject_idx, new_score = tmp.strip().split()\n",
    "    scores[idx, int(subject_idx)] = int(new_score)\n",
    "    np.save('scores', scores)\n",
    "    print('--------> 성적 수정 성공')"
   ]
  },
  {
   "cell_type": "code",
   "execution_count": 8,
   "id": "b167ac03",
   "metadata": {},
   "outputs": [],
   "source": [
    "def delete():\n",
    "    global names\n",
    "    global scores\n",
    "    global subjects\n",
    "    \n",
    "    tmp = input('학생정보 삭제(0) 과목삭제(1):')\n",
    "    axis = int(tmp)\n",
    "    if axis==0:\n",
    "        tmp = input('삭제할 학생번호:')\n",
    "        st_num = int(tmp.strip())\n",
    "        idx = np.where(names==names.loc[st_num])\n",
    "        #names = np.delete(names, idx)\n",
    "        names.drop([st_num], inplace=True)\n",
    "        scores = np.delete(scores, idx, axis=0)\n",
    "        print('-------------> 학생정보 삭제 성공')\n",
    "    elif axis==1:\n",
    "        tmp = input('삭제할 과목번호(0,1,2):')\n",
    "        idx = int(tmp.strip())\n",
    "        #subjects = np.delete(subjects, idx)\n",
    "        subjects.drop([idx], inplace=True)\n",
    "        scores = np.delete(scores, idx, axis=1)\n",
    "        print('-------------> 과목 삭제 성공')"
   ]
  },
  {
   "cell_type": "code",
   "execution_count": 9,
   "id": "113239fa",
   "metadata": {},
   "outputs": [
    {
     "name": "stdout",
     "output_type": "stream",
     "text": [
      "================================================================\n",
      "목록(s), 추가(a), 검색(번호로 검색, f), 수정(u), 삭제(d), 종료(x):s\n",
      "================================================================\n",
      "번호\t이름\tJava\tSpring\tPython\n",
      "--------------------------------------\n",
      "11\tsmith\t85.0\t90.0\t94.0\t\n",
      "12\tmary\t90.0\t76.0\t89.0\t\n",
      "13\tjone\t90.0\t89.0\t83.0\t\n",
      "14\tlaura\t93.0\t78.0\t86.0\t\n",
      "15\tscott\t79.0\t87.0\t88.0\t\n",
      "================================================================\n",
      "목록(s), 추가(a), 검색(번호로 검색, f), 수정(u), 삭제(d), 종료(x):x\n",
      "--------> 프로그램 종료\n"
     ]
    }
   ],
   "source": [
    "go = True\n",
    "while go:\n",
    "    m = menu()\n",
    "    if m == 'LIST':\n",
    "        show_list()\n",
    "    elif m=='ADD':\n",
    "        add()\n",
    "    elif m=='FIND':\n",
    "        find()\n",
    "    elif m=='UPDATE':\n",
    "        update()\n",
    "    elif m=='DELETE':\n",
    "        delete()\n",
    "    elif m=='EXIT':\n",
    "        go = False\n",
    "    else:\n",
    "        print('--------> 메뉴입력 오류')\n",
    "        \n",
    "print('--------> 프로그램 종료')"
   ]
  },
  {
   "cell_type": "code",
   "execution_count": null,
   "id": "503c5b55",
   "metadata": {},
   "outputs": [],
   "source": []
  }
 ],
 "metadata": {
  "kernelspec": {
   "display_name": "Python 3 (ipykernel)",
   "language": "python",
   "name": "python3"
  },
  "language_info": {
   "codemirror_mode": {
    "name": "ipython",
    "version": 3
   },
   "file_extension": ".py",
   "mimetype": "text/x-python",
   "name": "python",
   "nbconvert_exporter": "python",
   "pygments_lexer": "ipython3",
   "version": "3.9.12"
  }
 },
 "nbformat": 4,
 "nbformat_minor": 5
}
