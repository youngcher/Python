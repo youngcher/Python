{
 "cells": [
  {
   "cell_type": "markdown",
   "id": "e61366a5-8394-4307-a139-35ca741fd96e",
   "metadata": {},
   "source": [
    "# Socket Client"
   ]
  },
  {
   "cell_type": "code",
   "execution_count": null,
   "id": "4e03da68-666c-4553-ad22-cf8f8f9fe7da",
   "metadata": {},
   "outputs": [],
   "source": [
    "from socket import *\n",
    "import threading"
   ]
  },
  {
   "cell_type": "code",
   "execution_count": null,
   "id": "59d177ac-ff0c-48b6-953f-f48fb99ef60b",
   "metadata": {},
   "outputs": [],
   "source": [
    "clientSock =socket(AF_INET, SOCK_STREAM)\n",
    "clientSock.connect(('127.0.0.1', 1237))\n",
    "\n",
    "msg = clientSock.recv(1024)\n",
    "print(f'응답된 메시지= {msg.decode(\"utf-8\")}')\n",
    "\n",
    "#로그인 요청\n",
    "clientSock.send(\"Scott tiger\".encode(\"utf-8\"))\n",
    "\n",
    "#로그인 요청에 대한 응답\n",
    "msg = clientSock.recv(1024)\n",
    "print(msg.decode(\"utf-8\"))\n",
    "print('클라이언트 종료')\n"
   ]
  },
  {
   "cell_type": "code",
   "execution_count": null,
   "id": "3e460a7e-239a-445e-9dab-256f3ab0c37a",
   "metadata": {},
   "outputs": [],
   "source": []
  },
  {
   "cell_type": "code",
   "execution_count": null,
   "id": "5e17acc4-1d45-4d37-ae35-e99f13ecb72a",
   "metadata": {},
   "outputs": [],
   "source": []
  },
  {
   "cell_type": "code",
   "execution_count": null,
   "id": "1fdda9e9-8a92-4b9e-bb83-3201635338c1",
   "metadata": {},
   "outputs": [],
   "source": []
  },
  {
   "cell_type": "markdown",
   "id": "e9677dbf-0ddf-40ba-bd52-f2e47bb554a7",
   "metadata": {},
   "source": [
    "# Socket Chat"
   ]
  },
  {
   "cell_type": "code",
   "execution_count": 1,
   "id": "efd076d5-6ea2-488a-ae3d-d68be27673e4",
   "metadata": {},
   "outputs": [],
   "source": [
    "from socket import *\n",
    "import threading\n",
    "import time\n",
    "import sys"
   ]
  },
  {
   "cell_type": "code",
   "execution_count": 2,
   "id": "a3908308-4b8b-4986-bcb3-9608674e1875",
   "metadata": {},
   "outputs": [],
   "source": [
    "clientSock =socket(AF_INET, SOCK_STREAM)\n",
    "clientSock.connect(('127.0.0.1', 1241))\n",
    "\n",
    "#메시지 보내기\n",
    "def sendMSG():\n",
    "      while True:\n",
    "            semsg2 = input('메시지 보내기: ')\n",
    "            if semsg2 != \"\" and semsg2 != None:\n",
    "                  clientSock.send(semsg2.encode('utf-8'))\n",
    "def reciveMSG():\n",
    "      while True:\n",
    "            msg = clientSock.recv(1024)\n",
    "            print(\"상대방: \"+msg.decode(\"utf-8\"))\n",
    "            \n",
    "t1 = threading.Thread(target = sendMSG)\n",
    "t2 = threading.Thread(target = reciveMSG)\n",
    "\n",
    "t1.start()\n",
    "t2.start()\n"
   ]
  },
  {
   "cell_type": "code",
   "execution_count": null,
   "id": "b51266d5-eded-4262-9388-69294429d6b8",
   "metadata": {},
   "outputs": [],
   "source": []
  },
  {
   "cell_type": "code",
   "execution_count": null,
   "id": "34538759-31e5-4be3-852c-cd61d0c40fcb",
   "metadata": {},
   "outputs": [],
   "source": []
  }
 ],
 "metadata": {
  "kernelspec": {
   "display_name": "Python 3 (ipykernel)",
   "language": "python",
   "name": "python3"
  },
  "language_info": {
   "codemirror_mode": {
    "name": "ipython",
    "version": 3
   },
   "file_extension": ".py",
   "mimetype": "text/x-python",
   "name": "python",
   "nbconvert_exporter": "python",
   "pygments_lexer": "ipython3",
   "version": "3.9.12"
  }
 },
 "nbformat": 4,
 "nbformat_minor": 5
}
