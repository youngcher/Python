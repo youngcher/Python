{
 "cells": [
  {
   "cell_type": "code",
   "execution_count": 1,
   "id": "ead05b5d-a08a-475d-bcc2-84ca8c8a0b3c",
   "metadata": {},
   "outputs": [],
   "source": [
    "from tensorflow import keras\n",
    "from tensorflow.keras.models import Sequential\n",
    "from tensorflow.keras.layers import Dense\n",
    "import matplotlib.pyplot as plt"
   ]
  },
  {
   "cell_type": "code",
   "execution_count": 2,
   "id": "1d4b1b90-5a0c-4676-9568-b7945dba552a",
   "metadata": {},
   "outputs": [
    {
     "data": {
      "text/plain": [
       "array([[1., 0., 0., 0.],\n",
       "       [0., 1., 0., 0.],\n",
       "       [0., 0., 1., 0.],\n",
       "       [0., 0., 0., 1.],\n",
       "       [0., 0., 1., 0.],\n",
       "       [1., 0., 0., 0.],\n",
       "       [0., 0., 0., 1.]], dtype=float32)"
      ]
     },
     "execution_count": 2,
     "metadata": {},
     "output_type": "execute_result"
    }
   ],
   "source": [
    "#One-Hot-encoding 예\n",
    "keras.utils.to_categorical([0,1,2,3,2,0,3], num_classes=4)  # [1,0,0,0] 이 0이 되고 [0,1,0,0] 이 1이 되는 것"
   ]
  },
  {
   "cell_type": "code",
   "execution_count": 3,
   "id": "43644dd0-5829-47b0-886d-885b7ba0fbf1",
   "metadata": {},
   "outputs": [
    {
     "data": {
      "text/plain": [
       "((500, 2), (500,))"
      ]
     },
     "execution_count": 3,
     "metadata": {},
     "output_type": "execute_result"
    }
   ],
   "source": [
    "from sklearn.datasets import make_blobs\n",
    "X, y = make_blobs(n_samples=500, n_features=2, centers=3, random_state=3)\n",
    "X.shape, y.shape"
   ]
  },
  {
   "cell_type": "code",
   "execution_count": 4,
   "id": "c6a5df71-7715-443c-8870-067cb813fa80",
   "metadata": {},
   "outputs": [
    {
     "data": {
      "image/png": "[encoded data removed]",
      "text/plain": [
       "<Figure size 432x288 with 1 Axes>"
      ]
     },
     "metadata": {
      "needs_background": "light"
     },
     "output_type": "display_data"
    }
   ],
   "source": [
    "plt.scatter(X[:,0], X[:,1], c=y, s=5)\n",
    "plt.show()"
   ]
  },
  {
   "cell_type": "code",
   "execution_count": 5,
   "id": "7adeff02-3a98-4fee-b89d-7ca235699dfb",
   "metadata": {},
   "outputs": [
    {
     "data": {
      "text/plain": [
       "array([1, 0, 1, 0, 1, 2, 1, 1, 1, 1, 0, 1, 1, 2, 1, 1, 1, 1, 2, 2])"
      ]
     },
     "execution_count": 5,
     "metadata": {},
     "output_type": "execute_result"
    }
   ],
   "source": [
    "y[:20]  #0,1,2로 이루어진 범주형 데이터 이기에 one-hot-encoding이 필요하다"
   ]
  },
  {
   "cell_type": "code",
   "execution_count": 6,
   "id": "7926983f-aeb7-476c-9425-56c662c5e024",
   "metadata": {},
   "outputs": [
    {
     "data": {
      "text/plain": [
       "(500, 3)"
      ]
     },
     "execution_count": 6,
     "metadata": {},
     "output_type": "execute_result"
    }
   ],
   "source": [
    "#y 데이터를 one-hot-encoding화\n",
    "y_ohe = keras.utils.to_categorical(y, num_classes=3)\n",
    "y_ohe.shape"
   ]
  },
  {
   "cell_type": "code",
   "execution_count": 7,
   "id": "7ccbb989-28cd-45e3-b390-3f4921c12e6c",
   "metadata": {},
   "outputs": [
    {
     "data": {
      "text/plain": [
       "((400, 2), (100, 2), (400, 3), (100, 3))"
      ]
     },
     "execution_count": 7,
     "metadata": {},
     "output_type": "execute_result"
    }
   ],
   "source": [
    "from sklearn.model_selection import train_test_split\n",
    "X_train, X_test, y_train, y_test = train_test_split(X, y_ohe, test_size=0.2, random_state=0)\n",
    "X_train.shape, X_test.shape, y_train.shape, y_test.shape"
   ]
  },
  {
   "cell_type": "code",
   "execution_count": 8,
   "id": "469673a2-fe96-4e82-894d-f2f983692bd3",
   "metadata": {},
   "outputs": [
    {
     "name": "stdout",
     "output_type": "stream",
     "text": [
      "Model: \"sequential\"\n",
      "_________________________________________________________________\n",
      " Layer (type)                Output Shape              Param #   \n",
      "=================================================================\n",
      " dense (Dense)               (None, 100)               300       \n",
      "                                                                 \n",
      " dense_1 (Dense)             (None, 70)                7070      \n",
      "                                                                 \n",
      " dense_2 (Dense)             (None, 40)                2840      \n",
      "                                                                 \n",
      " dense_3 (Dense)             (None, 10)                410       \n",
      "                                                                 \n",
      " dense_4 (Dense)             (None, 3)                 33        \n",
      "                                                                 \n",
      "=================================================================\n",
      "Total params: 10,653\n",
      "Trainable params: 10,653\n",
      "Non-trainable params: 0\n",
      "_________________________________________________________________\n"
     ]
    }
   ],
   "source": [
    "model = Sequential()\n",
    "\n",
    "#신경망 만들기\n",
    "#입력층\n",
    "#model.add(Dense(100, input_shape=(2,), activation='relu'))\n",
    "model.add(Dense(100, input_dim=2, activation='relu')) #차원수\n",
    "\n",
    "\n",
    "model.add(Dense(70, activation='relu'))\n",
    "model.add(Dense(40, activation='relu'))\n",
    "model.add(Dense(10, activation='relu'))\n",
    "\n",
    "#출력층\n",
    "model.add(Dense(3, activation='softmax'))  # y_train의 속성수, 정답수 \n",
    "\n",
    "model.compile(loss='categorical_crossentropy', optimizer='adam')  #log loss와 같은 의미\n",
    "model.summary()"
   ]
  },
  {
   "cell_type": "code",
   "execution_count": 9,
   "id": "cb7bcc8b-38bf-4290-b40d-7ba680a34db0",
   "metadata": {},
   "outputs": [
    {
     "name": "stdout",
     "output_type": "stream",
     "text": [
      "Epoch 1/20\n",
      "320/320 [==============================] - 3s 5ms/step - loss: 0.2046 - val_loss: 0.0140\n",
      "Epoch 2/20\n",
      "320/320 [==============================] - 1s 5ms/step - loss: 0.0849 - val_loss: 0.0108\n",
      "Epoch 3/20\n",
      "320/320 [==============================] - 2s 5ms/step - loss: 0.0580 - val_loss: 0.0105\n",
      "Epoch 4/20\n",
      "320/320 [==============================] - 2s 5ms/step - loss: 0.0359 - val_loss: 0.0036\n",
      "Epoch 5/20\n",
      "320/320 [==============================] - 1s 4ms/step - loss: 0.0289 - val_loss: 0.0042\n",
      "Epoch 6/20\n",
      "320/320 [==============================] - 2s 5ms/step - loss: 0.0566 - val_loss: 0.0120\n",
      "Epoch 7/20\n",
      "320/320 [==============================] - 2s 6ms/step - loss: 0.0423 - val_loss: 0.0023\n",
      "Epoch 8/20\n",
      "320/320 [==============================] - 2s 6ms/step - loss: 0.0733 - val_loss: 0.0111\n",
      "Epoch 9/20\n",
      "320/320 [==============================] - 2s 8ms/step - loss: 0.0259 - val_loss: 0.0016\n",
      "Epoch 10/20\n",
      "320/320 [==============================] - 3s 8ms/step - loss: 0.0079 - val_loss: 3.9250e-04\n",
      "Epoch 11/20\n",
      "320/320 [==============================] - 1s 4ms/step - loss: 0.0380 - val_loss: 9.4269e-04\n",
      "Epoch 12/20\n",
      "320/320 [==============================] - 1s 4ms/step - loss: 0.0143 - val_loss: 0.0033\n",
      "Epoch 13/20\n",
      "320/320 [==============================] - 2s 5ms/step - loss: 0.0078 - val_loss: 3.5231e-04\n",
      "Epoch 14/20\n",
      "320/320 [==============================] - 2s 5ms/step - loss: 0.0050 - val_loss: 7.4968e-04\n",
      "Epoch 15/20\n",
      "320/320 [==============================] - 2s 5ms/step - loss: 8.4639e-04 - val_loss: 1.0448e-04\n",
      "Epoch 16/20\n",
      "320/320 [==============================] - 2s 5ms/step - loss: 0.0039 - val_loss: 1.1215e-04\n",
      "Epoch 17/20\n",
      "320/320 [==============================] - 2s 5ms/step - loss: 0.0028 - val_loss: 7.0327e-05\n",
      "Epoch 18/20\n",
      "320/320 [==============================] - 1s 5ms/step - loss: 0.0094 - val_loss: 1.3440e-04\n",
      "Epoch 19/20\n",
      "320/320 [==============================] - 1s 4ms/step - loss: 0.0036 - val_loss: 1.0026e-04\n",
      "Epoch 20/20\n",
      "320/320 [==============================] - 1s 4ms/step - loss: 0.0133 - val_loss: 2.6746e-05\n"
     ]
    }
   ],
   "source": [
    "hist = model.fit(X_train, y_train, batch_size=1, validation_split=0.2, epochs=20)"
   ]
  },
  {
   "cell_type": "code",
   "execution_count": 10,
   "id": "3804ce1f-c714-4eb7-85e6-5f092519f5d0",
   "metadata": {},
   "outputs": [
    {
     "data": {
      "text/plain": [
       "dict_keys(['loss', 'val_loss'])"
      ]
     },
     "execution_count": 10,
     "metadata": {},
     "output_type": "execute_result"
    }
   ],
   "source": [
    "hist.history.keys()"
   ]
  },
  {
   "cell_type": "code",
   "execution_count": 11,
   "id": "17036a70-4615-4afe-8670-97b96557805f",
   "metadata": {},
   "outputs": [
    {
     "data": {
      "image/png": "[encoded data removed]",
      "text/plain": [
       "<Figure size 432x288 with 1 Axes>"
      ]
     },
     "metadata": {
      "needs_background": "light"
     },
     "output_type": "display_data"
    }
   ],
   "source": [
    "plt.plot(hist.history['loss'], label='loss')\n",
    "plt.plot(hist.history['val_loss'], label='val_loss')\n",
    "plt.legend()\n",
    "plt.show()"
   ]
  },
  {
   "cell_type": "code",
   "execution_count": 12,
   "id": "4acf700f-1a5d-4084-8ae3-f200d494157f",
   "metadata": {},
   "outputs": [
    {
     "name": "stdout",
     "output_type": "stream",
     "text": [
      "4/4 [==============================] - 0s 4ms/step - loss: 0.0299\n"
     ]
    },
    {
     "data": {
      "text/plain": [
       "0.029873359948396683"
      ]
     },
     "execution_count": 12,
     "metadata": {},
     "output_type": "execute_result"
    }
   ],
   "source": [
    "model.evaluate(X_test, y_test)"
   ]
  },
  {
   "cell_type": "code",
   "execution_count": 13,
   "id": "1537603b-9e3c-409c-8e81-03c8bc2506f5",
   "metadata": {},
   "outputs": [
    {
     "name": "stdout",
     "output_type": "stream",
     "text": [
      "16/16 [==============================] - 0s 4ms/step\n"
     ]
    }
   ],
   "source": [
    "y_pred = model.predict(X)"
   ]
  },
  {
   "cell_type": "code",
   "execution_count": 14,
   "id": "5049965d-699a-49f7-b83a-8a5945ba7e6b",
   "metadata": {},
   "outputs": [
    {
     "data": {
      "text/plain": [
       "(500, 3)"
      ]
     },
     "execution_count": 14,
     "metadata": {},
     "output_type": "execute_result"
    }
   ],
   "source": [
    "y_pred.shape"
   ]
  },
  {
   "cell_type": "code",
   "execution_count": 15,
   "id": "01573739-eff5-40f4-b824-348606da4fd3",
   "metadata": {},
   "outputs": [
    {
     "data": {
      "text/plain": [
       "array([1.9007042e-06, 9.9999177e-01, 6.3591806e-06], dtype=float32)"
      ]
     },
     "execution_count": 15,
     "metadata": {},
     "output_type": "execute_result"
    }
   ],
   "source": [
    "y_pred[0] #0.000001, 0.9999, 0.000000001 의 답이 나왔으므로 답은 0,1,2번중 1번이다."
   ]
  },
  {
   "cell_type": "code",
   "execution_count": 16,
   "id": "09a2df27-b35b-44d1-b9f1-21c1c631b894",
   "metadata": {},
   "outputs": [
    {
     "data": {
      "image/png": "[encoded data removed]",
      "text/plain": [
       "<Figure size 432x288 with 1 Axes>"
      ]
     },
     "metadata": {
      "needs_background": "light"
     },
     "output_type": "display_data"
    }
   ],
   "source": [
    "plt.scatter(X[:,0], X[:,1], c=y_pred, s=5)\n",
    "plt.show()"
   ]
  },
  {
   "cell_type": "markdown",
   "id": "35c36f42-146e-4886-94ae-723dc0c852f7",
   "metadata": {},
   "source": [
    "* 생성된 모델에 sample 데이터 입력하고 결과 보기"
   ]
  },
  {
   "cell_type": "code",
   "execution_count": null,
   "id": "b5081c94-8fef-4494-b7ab-149ec7062c37",
   "metadata": {},
   "outputs": [],
   "source": [
    "y_tmp = model.predict([[40,8]])"
   ]
  },
  {
   "cell_type": "code",
   "execution_count": null,
   "id": "8225f8e0-8a04-4e4f-bda6-9daa4d01d46d",
   "metadata": {},
   "outputs": [],
   "source": [
    "y_tmp"
   ]
  },
  {
   "cell_type": "code",
   "execution_count": null,
   "id": "ea5a004a-0dbe-4bdd-aea9-035e367bde0f",
   "metadata": {},
   "outputs": [],
   "source": [
    "import numpy as np\n",
    "np.argmax(y_tmp)"
   ]
  },
  {
   "cell_type": "markdown",
   "id": "604b51ef-4c6e-4ec8-9602-30f4af795d07",
   "metadata": {},
   "source": [
    "* 파일에 저장"
   ]
  },
  {
   "cell_type": "code",
   "execution_count": null,
   "id": "fa65ba46-1a32-44b7-a98e-ca806930d990",
   "metadata": {},
   "outputs": [],
   "source": [
    "model.save('tf_multiClass.mdl')\n",
    "print('학습된 모델을 파일에 저장 완료')"
   ]
  },
  {
   "cell_type": "code",
   "execution_count": null,
   "id": "c918ffcd-0d89-43ec-b06e-a344f549cb00",
   "metadata": {},
   "outputs": [],
   "source": [
    "loaded_model = keras.models.load_model('tf_multiClass.mdl')\n",
    "loaded_model"
   ]
  },
  {
   "cell_type": "code",
   "execution_count": null,
   "id": "ed915c20-1a69-4a83-87a8-d3df40b3633f",
   "metadata": {},
   "outputs": [],
   "source": [
    "y_tmp = loaded_model.predict([[40,8]])"
   ]
  },
  {
   "cell_type": "code",
   "execution_count": null,
   "id": "b3ac97fa-492b-488d-a348-f2411f9863d3",
   "metadata": {},
   "outputs": [],
   "source": [
    "y_tmp"
   ]
  },
  {
   "cell_type": "markdown",
   "id": "8ed750f1-211c-4027-a648-e2a65fa41539",
   "metadata": {},
   "source": [
    "# Flask"
   ]
  },
  {
   "cell_type": "code",
   "execution_count": 17,
   "id": "26528a2d-485b-4f41-94e3-92633e85f24d",
   "metadata": {},
   "outputs": [],
   "source": [
    "import flask"
   ]
  },
  {
   "cell_type": "code",
   "execution_count": 18,
   "id": "cccd5fc9-eba8-4fac-8802-ad61331137e7",
   "metadata": {},
   "outputs": [],
   "source": [
    "from flask import Flask"
   ]
  },
  {
   "cell_type": "code",
   "execution_count": 20,
   "id": "1be0d6af-0b16-4494-974a-194fdde928a9",
   "metadata": {},
   "outputs": [
    {
     "name": "stdout",
     "output_type": "stream",
     "text": [
      " * Serving Flask app \"__main__\" (lazy loading)\n",
      " * Environment: production\n",
      "\u001b[31m   WARNING: This is a development server. Do not use it in a production deployment.\u001b[0m\n",
      "\u001b[2m   Use a production WSGI server instead.\u001b[0m\n",
      " * Debug mode: off\n"
     ]
    },
    {
     "name": "stderr",
     "output_type": "stream",
     "text": [
      " * Running on all addresses.\n",
      "   WARNING: This is a development server. Do not use it in a production deployment.\n",
      " * Running on http://172.30.1.70:2222/ (Press CTRL+C to quit)\n",
      "127.0.0.1 - - [19/Sep/2022 12:54:06] \"GET / HTTP/1.1\" 200 -\n",
      "127.0.0.1 - - [19/Sep/2022 12:54:06] \"GET /favicon.ico HTTP/1.1\" 404 -\n"
     ]
    }
   ],
   "source": [
    "app = Flask(__name__)\n",
    "\n",
    "@app.route('/', methods=['POST', 'GET'])\n",
    "def index():\n",
    "    loaded_model = keras.models.load_model('tf_multiClass.mdl')\n",
    "    \n",
    "    x = request.args.get('x')\n",
    "    y = request.args.get('y')\n",
    "    print('x=%s, y=%s').format(x,y)\n",
    "    \n",
    "    \n",
    "    \n",
    "    return \"Classification Result: \" + str(np.argmax(y_tmp))\n",
    "\n",
    "app.run(host='0.0.0.0', port=2222)"
   ]
  },
  {
   "cell_type": "code",
   "execution_count": null,
   "id": "922a16c7-51be-4eb7-b422-40b0cf547e1e",
   "metadata": {},
   "outputs": [],
   "source": []
  }
 ],
 "metadata": {
  "kernelspec": {
   "display_name": "Python 3 (ipykernel)",
   "language": "python",
   "name": "python3"
  },
  "language_info": {
   "codemirror_mode": {
    "name": "ipython",
    "version": 3
   },
   "file_extension": ".py",
   "mimetype": "text/x-python",
   "name": "python",
   "nbconvert_exporter": "python",
   "pygments_lexer": "ipython3",
   "version": "3.8.12"
  }
 },
 "nbformat": 4,
 "nbformat_minor": 5
}
