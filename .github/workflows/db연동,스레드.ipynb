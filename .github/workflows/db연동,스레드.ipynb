{
 "cells": [
  {
   "cell_type": "code",
   "execution_count": 1,
   "id": "31bc7828",
   "metadata": {},
   "outputs": [],
   "source": [
    "import pymysql"
   ]
  },
  {
   "cell_type": "code",
   "execution_count": 2,
   "id": "007a97aa",
   "metadata": {},
   "outputs": [],
   "source": [
    "conn = pymysql.connect(host='127.0.0.1', user='root', password='ezen', db='mydb', charset='utf8')"
   ]
  },
  {
   "cell_type": "code",
   "execution_count": 3,
   "id": "61fd2d8c",
   "metadata": {},
   "outputs": [],
   "source": [
    "curs = conn.cursor()"
   ]
  },
  {
   "cell_type": "code",
   "execution_count": 4,
   "id": "18ddaf01",
   "metadata": {},
   "outputs": [
    {
     "data": {
      "text/plain": [
       "2"
      ]
     },
     "execution_count": 4,
     "metadata": {},
     "output_type": "execute_result"
    }
   ],
   "source": [
    "curs.execute('SELECT * FROM emp')"
   ]
  },
  {
   "cell_type": "code",
   "execution_count": 5,
   "id": "aa97222d",
   "metadata": {},
   "outputs": [
    {
     "data": {
      "text/plain": [
       "tuple"
      ]
     },
     "execution_count": 5,
     "metadata": {},
     "output_type": "execute_result"
    }
   ],
   "source": [
    "rows = curs.fetchall()\n",
    "type(rows)"
   ]
  },
  {
   "cell_type": "code",
   "execution_count": 6,
   "id": "3a21e9d9",
   "metadata": {},
   "outputs": [
    {
     "data": {
      "text/plain": [
       "((11, 'smith', datetime.date(2020, 1, 8), 3210),\n",
       " (12, 'scott', datetime.date(2021, 2, 16), 3200))"
      ]
     },
     "execution_count": 6,
     "metadata": {},
     "output_type": "execute_result"
    }
   ],
   "source": [
    "rows"
   ]
  },
  {
   "cell_type": "code",
   "execution_count": 7,
   "id": "1b32eeba",
   "metadata": {},
   "outputs": [
    {
     "name": "stdout",
     "output_type": "stream",
     "text": [
      "11\tsmith\t2020-01-08\t3210\n",
      "12\tscott\t2021-02-16\t3200\n"
     ]
    }
   ],
   "source": [
    "for(empno,ename,hiredate,sal) in rows:\n",
    "    print('{}\\t{}\\t{}\\t{}'.format(empno,ename,hiredate,sal))"
   ]
  },
  {
   "cell_type": "code",
   "execution_count": 8,
   "id": "90bab85a",
   "metadata": {},
   "outputs": [],
   "source": [
    "curs.close()"
   ]
  },
  {
   "cell_type": "code",
   "execution_count": 9,
   "id": "7b1836d1",
   "metadata": {},
   "outputs": [],
   "source": [
    "conn.close()"
   ]
  },
  {
   "cell_type": "markdown",
   "id": "4272a377",
   "metadata": {},
   "source": [
    "## SQL 문장에 파라미터 설정\n",
    "* sql = \"SELECT * FROM emp WHERE ename='%s'\"\n",
    "* curs.execute(sql,('smith',))"
   ]
  },
  {
   "cell_type": "code",
   "execution_count": 32,
   "id": "2fbfca27",
   "metadata": {},
   "outputs": [],
   "source": [
    "def get_conn():\n",
    "    conn = pymysql.connect(host='127.0.0.1', user='root', password='ezen', db='mydb', charset='utf8')\n",
    "    return conn"
   ]
  },
  {
   "cell_type": "code",
   "execution_count": 33,
   "id": "501d405a",
   "metadata": {},
   "outputs": [
    {
     "name": "stdout",
     "output_type": "stream",
     "text": [
      "사원이름:scott\n"
     ]
    }
   ],
   "source": [
    "ename = input('사원이름:')"
   ]
  },
  {
   "cell_type": "code",
   "execution_count": 34,
   "id": "0beab4a7",
   "metadata": {},
   "outputs": [
    {
     "data": {
      "text/plain": [
       "'scott'"
      ]
     },
     "execution_count": 34,
     "metadata": {},
     "output_type": "execute_result"
    }
   ],
   "source": [
    "ename"
   ]
  },
  {
   "cell_type": "code",
   "execution_count": 41,
   "id": "3a10588f",
   "metadata": {},
   "outputs": [
    {
     "name": "stdout",
     "output_type": "stream",
     "text": [
      "(12, 'scott', datetime.date(2021, 2, 16), 3200)\n",
      "12\tscott\t2021-02-16\t3200\n"
     ]
    }
   ],
   "source": [
    "conn = get_conn()\n",
    "curs = conn.cursor()\n",
    "curs.execute(\"SELECT * FROM emp WHERE ename=%s\",(ename,))\n",
    "row = curs.fetchone()\n",
    "print(row)\n",
    "empno, ename, hiredate, sal = row\n",
    "print('{}\\t{}\\t{}\\t{}'.format(empno,ename,hiredate,sal))\n",
    "curs.close()\n",
    "conn.close()"
   ]
  },
  {
   "cell_type": "code",
   "execution_count": 36,
   "id": "cbdf89e0",
   "metadata": {},
   "outputs": [
    {
     "data": {
      "text/plain": [
       "21"
      ]
     },
     "execution_count": 36,
     "metadata": {},
     "output_type": "execute_result"
    }
   ],
   "source": [
    "(1+2)*(3+4)"
   ]
  },
  {
   "cell_type": "code",
   "execution_count": 37,
   "id": "252ecb38",
   "metadata": {},
   "outputs": [
    {
     "data": {
      "text/plain": [
       "[5]"
      ]
     },
     "execution_count": 37,
     "metadata": {},
     "output_type": "execute_result"
    }
   ],
   "source": [
    "[5]"
   ]
  },
  {
   "cell_type": "code",
   "execution_count": 40,
   "id": "69f626cb",
   "metadata": {},
   "outputs": [
    {
     "data": {
      "text/plain": [
       "(5, 3)"
      ]
     },
     "execution_count": 40,
     "metadata": {},
     "output_type": "execute_result"
    }
   ],
   "source": [
    "(5,3)"
   ]
  },
  {
   "cell_type": "code",
   "execution_count": 48,
   "id": "3e76569d",
   "metadata": {
    "scrolled": true
   },
   "outputs": [],
   "source": [
    "def show_all():\n",
    "    conn = get_conn()\n",
    "    curs = conn.cursor(pymysql.cursors.DictCursor)\n",
    "    curs.execute(\"SELECT * FROM emp\")\n",
    "    rows = curs.fetchall()\n",
    "\n",
    "    for row in rows:\n",
    "        print('{}\\t{}\\t{}\\t{}'.format(row['empno'],row['ename'],row['hiredate'],row['sal']))\n",
    "\n",
    "    curs.close()\n",
    "    conn.close()"
   ]
  },
  {
   "cell_type": "code",
   "execution_count": null,
   "id": "e7ed61e0",
   "metadata": {},
   "outputs": [],
   "source": [
    "with conn.cursor() as curs:\n",
    "    curs.execute(sql, ('a','b'))\n",
    "    # 커서를 close() 하지 않음"
   ]
  },
  {
   "cell_type": "code",
   "execution_count": null,
   "id": "990b2fd4",
   "metadata": {},
   "outputs": [],
   "source": [
    "# INSERT\n",
    "# 한행 입력\n",
    "sql = \"INSERT INTO emp VAUES(%s, %s, %s, %s)\"\n",
    "with conn.cursor() as curs:\n",
    "    n = curs.execute(sql, (13,'james', '2022-01-14', 3500) )\n",
    "    print('추가성공') if n>0 else print('추가실패')\n",
    "conn.commit()\n",
    "# 다수개의 행 입력"
   ]
  },
  {
   "cell_type": "code",
   "execution_count": 51,
   "id": "e72634a3",
   "metadata": {},
   "outputs": [
    {
     "name": "stdout",
     "output_type": "stream",
     "text": [
      "사번 이름 입사일 급여액:13 henry 2001-06-19 2500\n",
      "추가 성공\n"
     ]
    }
   ],
   "source": [
    "emp_str = input('사번 이름 입사일 급여액:')\n",
    "empno, ename, hiredate, sal = emp_str.split()\n",
    "\n",
    "sql = \"INSERT INTO emp VALUES(%s,%s,%s,%s)\"\n",
    "\n",
    "with get_conn() as conn:\n",
    "    with conn.cursor() as curs:\n",
    "        n = curs.execute(sql,(int(empno),ename,hiredate,int(sal)))\n",
    "        print('추가 성공') if n>0 else print('추가 실패')\n",
    "    conn.commit()"
   ]
  },
  {
   "cell_type": "code",
   "execution_count": 52,
   "id": "cc6dbc36",
   "metadata": {
    "scrolled": true
   },
   "outputs": [
    {
     "name": "stdout",
     "output_type": "stream",
     "text": [
      "11\tsmith\t2020-01-08\t3210\n",
      "12\tscott\t2021-02-16\t3200\n",
      "13\thenry\t2001-06-19\t2500\n"
     ]
    }
   ],
   "source": [
    "show_all()"
   ]
  },
  {
   "cell_type": "code",
   "execution_count": 54,
   "id": "b8b27396",
   "metadata": {
    "scrolled": true
   },
   "outputs": [
    {
     "name": "stdout",
     "output_type": "stream",
     "text": [
      "변경할 사원의 사번 급여액:13 3333\n",
      "변경 성공\n",
      "11\tsmith\t2020-01-08\t3210\n",
      "12\tscott\t2021-02-16\t3200\n",
      "13\thenry\t2001-06-19\t3333\n"
     ]
    }
   ],
   "source": [
    "emp_str = input('변경할 사원의 사번 급여액:')\n",
    "empno, sal = emp_str.split()\n",
    "\n",
    "sql = \"UPDATE emp SET sal=%s WHERE empno=%s\"\n",
    "\n",
    "with get_conn() as conn:\n",
    "    with conn.cursor() as curs:\n",
    "        n = curs.execute(sql,(int(sal),int(empno)))\n",
    "        print('변경 성공') if n>0 else print('변경 실패')\n",
    "    conn.commit()\n",
    "\n",
    "show_all()"
   ]
  },
  {
   "cell_type": "code",
   "execution_count": 55,
   "id": "b925f391",
   "metadata": {
    "scrolled": true
   },
   "outputs": [
    {
     "name": "stdout",
     "output_type": "stream",
     "text": [
      "삭제할 사원의 이름:henry\n",
      "삭제 성공\n",
      "11\tsmith\t2020-01-08\t3210\n",
      "12\tscott\t2021-02-16\t3200\n"
     ]
    }
   ],
   "source": [
    "ename = input('삭제할 사원의 이름:')\n",
    "\n",
    "sql = \"DELETE FROM emp WHERE ename=%s\"\n",
    "\n",
    "with get_conn() as conn:\n",
    "    with conn.cursor() as curs:\n",
    "        n = curs.execute(sql,(ename.strip(),))\n",
    "        print('삭제 성공') if n>0 else print('삭제 실패')\n",
    "    conn.commit()\n",
    "\n",
    "show_all()"
   ]
  },
  {
   "cell_type": "code",
   "execution_count": 60,
   "id": "32533253",
   "metadata": {
    "scrolled": false
   },
   "outputs": [
    {
     "data": {
      "text/html": [
       "<div>\n",
       "<style scoped>\n",
       "    .dataframe tbody tr th:only-of-type {\n",
       "        vertical-align: middle;\n",
       "    }\n",
       "\n",
       "    .dataframe tbody tr th {\n",
       "        vertical-align: top;\n",
       "    }\n",
       "\n",
       "    .dataframe thead th {\n",
       "        text-align: right;\n",
       "    }\n",
       "</style>\n",
       "<table border=\"1\" class=\"dataframe\">\n",
       "  <thead>\n",
       "    <tr style=\"text-align: right;\">\n",
       "      <th></th>\n",
       "      <th>empno</th>\n",
       "      <th>ename</th>\n",
       "      <th>hiredate</th>\n",
       "      <th>sal</th>\n",
       "    </tr>\n",
       "  </thead>\n",
       "  <tbody>\n",
       "    <tr>\n",
       "      <th>0</th>\n",
       "      <td>11</td>\n",
       "      <td>smith</td>\n",
       "      <td>2020-01-08</td>\n",
       "      <td>3210</td>\n",
       "    </tr>\n",
       "    <tr>\n",
       "      <th>1</th>\n",
       "      <td>12</td>\n",
       "      <td>scott</td>\n",
       "      <td>2021-02-16</td>\n",
       "      <td>3200</td>\n",
       "    </tr>\n",
       "  </tbody>\n",
       "</table>\n",
       "</div>"
      ],
      "text/plain": [
       "   empno  ename    hiredate   sal\n",
       "0     11  smith  2020-01-08  3210\n",
       "1     12  scott  2021-02-16  3200"
      ]
     },
     "metadata": {},
     "output_type": "display_data"
    }
   ],
   "source": [
    "import pandas as pd\n",
    "def emp_list():\n",
    "    conn = get_conn()\n",
    "    curs = conn.cursor(pymysql.cursors.DictCursor)\n",
    "    curs.execute(\"SELECT empno,ename,hiredate,sal FROM emp\")\n",
    "    rows = curs.fetchall()\n",
    "\n",
    "    df = pd.DataFrame(rows)\n",
    "    display(df)\n",
    "    #print(df)\n",
    "    \n",
    "    curs.close()\n",
    "    conn.close()\n",
    "    \n",
    "emp_list()"
   ]
  },
  {
   "cell_type": "code",
   "execution_count": 81,
   "id": "d302f404",
   "metadata": {},
   "outputs": [],
   "source": [
    "class EmpVO:\n",
    "    def __init__(self, empno=0, ename='', hiredate='', sal=0):\n",
    "        self.empno = empno\n",
    "        self.ename = ename\n",
    "        self.hiredate = hiredate\n",
    "        self.sal = sal\n",
    "    \n",
    "    def __str__(self):\n",
    "        return '{}\\t{}\\t{}\\t{}'.format(self.empno,self.ename.self.hiredate,self.sal)\n",
    "    "
   ]
  },
  {
   "cell_type": "code",
   "execution_count": 82,
   "id": "5af5bee5",
   "metadata": {},
   "outputs": [],
   "source": [
    "class EmpDAO:\n",
    "    \n",
    "    def get_conn(self):\n",
    "        conn = pymysql.connect(host='127.0.0.1', user='root', password='ezen', db='mydb', charset='utf8')\n",
    "        return conn\n",
    "    \n",
    "    def add_emp(self, emp):\n",
    "        with self.get_conn() as conn:\n",
    "            n = 0\n",
    "            with conn.cursor() as curs:\n",
    "                sql = \"INSERT INTO emp VALUES(%s,%s,%s,%s)\"\n",
    "                n = curs.execute(sql, (emp.empno, emp.ename, emp.hiredate, emp.sal))\n",
    "            conn.commit()\n",
    "            return True if n>0 else False\n",
    "        \n",
    "    def get_list(self):\n",
    "        with self.get_conn() as conn:\n",
    "            with conn.cursor(pymysql.cursors.DictCursor) as curs:\n",
    "                sql = \"SELECT * FROM emp\"\n",
    "                curs.execute(sql)\n",
    "                return curs.fetchall()\n",
    "            \n",
    "    def find_by_empno(self, empno):\n",
    "        with self.get_conn() as conn:\n",
    "            with conn.cursor(pymysql.cursors.DictCursor) as curs:\n",
    "                sql = \"SELECT * FROM emp WHERE empno=%s\"\n",
    "                curs.execute(sql, (empno,))\n",
    "                return curs.fetchall()\n",
    "            \n",
    "    def find_by_ename(self, ename):\n",
    "        with self.get_conn() as conn:\n",
    "            with conn.cursor(pymysql.cursors.DictCursor) as curs:\n",
    "                sql = \"SELECT * FROM emp WHERE ename=%s\"\n",
    "                curs.execute(sql, (ename,))\n",
    "                return curs.fetchall()\n",
    "            \n",
    "    def update_sal(self, emp):\n",
    "        with self.get_conn() as conn:\n",
    "            n = 0\n",
    "            with conn.cursor(pymysql.cursors.DictCursor) as curs:\n",
    "                sql = \"UPDATE emp SET sal=%s WHERE ename=%s\"\n",
    "                n = curs.execute(sql, (emp.sal, emp.ename))\n",
    "            conn.commit()\n",
    "            return True if n>0 else False\n",
    "            \n",
    "    def delete_by_empno(self, empno):\n",
    "        with self.get_conn() as conn:\n",
    "            with conn.cursor(pymysql.cursors.DictCursor) as curs:\n",
    "                sql = \"DELETE FROM emp WHERE empno=%s\"\n",
    "                n = curs.execute(sql, (empno,))\n",
    "            conn.commit()\n",
    "            return True if n>0 else False"
   ]
  },
  {
   "cell_type": "code",
   "execution_count": 83,
   "id": "4ca237b8",
   "metadata": {},
   "outputs": [],
   "source": [
    "m_dict = {'s':'LIST', 'a':'ADD','f':'FIND','u':'UPDATE','d':'DELETE','x':'EXIT'}\n",
    "def menu():\n",
    "    m = input('목록(s), 추가(a), 검색(f), 수정(u), 삭제(d), 종료(x):')\n",
    "    return m_dict[m]"
   ]
  },
  {
   "cell_type": "code",
   "execution_count": 84,
   "id": "5f3cf33e",
   "metadata": {},
   "outputs": [],
   "source": [
    "import pandas as pd\n",
    "def show_list(emp_list):\n",
    "    df = pd.DataFrame(emp_list)\n",
    "    display(df)"
   ]
  },
  {
   "cell_type": "code",
   "execution_count": 85,
   "id": "685d6942",
   "metadata": {},
   "outputs": [],
   "source": [
    "import pandas as pd\n",
    "def show_emp(emp):\n",
    "    df = pd.DataFrame(emp)\n",
    "    display(df)"
   ]
  },
  {
   "cell_type": "code",
   "execution_count": 86,
   "id": "3cbb7496",
   "metadata": {},
   "outputs": [],
   "source": [
    "def add():\n",
    "    in_str = input('사번 이름 입사일 급여액:')\n",
    "    tp = in_str.split()\n",
    "    if len(tp)<4:\n",
    "        print('4개 항목을 모두 입력해주세요')\n",
    "        return None\n",
    "    empno,ename,hiredate,sal = tp\n",
    "    return EmpVO(int(empno),ename,hiredate,int(sal))"
   ]
  },
  {
   "cell_type": "code",
   "execution_count": 95,
   "id": "1b1bedde",
   "metadata": {},
   "outputs": [],
   "source": [
    "def update():\n",
    "    in_str = input('수정할 사원 이름 급여액:')\n",
    "    ename, sal = in_str.split()\n",
    "    emp = EmpVO(ename=ename, sal=int(sal))\n",
    "    dao = EmpDAO()\n",
    "    return dao.update_sal(emp)"
   ]
  },
  {
   "cell_type": "code",
   "execution_count": 96,
   "id": "fe92bc7d",
   "metadata": {},
   "outputs": [],
   "source": [
    "def delete():\n",
    "    in_str = input('삭제할 사원 번호:')\n",
    "    dao = EmpDAO()\n",
    "    return dao.delete_by_empno(int(in_str))"
   ]
  },
  {
   "cell_type": "code",
   "execution_count": 99,
   "id": "9efd4501",
   "metadata": {
    "scrolled": true
   },
   "outputs": [
    {
     "name": "stdout",
     "output_type": "stream",
     "text": [
      "목록(s), 추가(a), 검색(f), 수정(u), 삭제(d), 종료(x):s\n"
     ]
    },
    {
     "data": {
      "text/html": [
       "<div>\n",
       "<style scoped>\n",
       "    .dataframe tbody tr th:only-of-type {\n",
       "        vertical-align: middle;\n",
       "    }\n",
       "\n",
       "    .dataframe tbody tr th {\n",
       "        vertical-align: top;\n",
       "    }\n",
       "\n",
       "    .dataframe thead th {\n",
       "        text-align: right;\n",
       "    }\n",
       "</style>\n",
       "<table border=\"1\" class=\"dataframe\">\n",
       "  <thead>\n",
       "    <tr style=\"text-align: right;\">\n",
       "      <th></th>\n",
       "      <th>empno</th>\n",
       "      <th>ename</th>\n",
       "      <th>hiredate</th>\n",
       "      <th>sal</th>\n",
       "    </tr>\n",
       "  </thead>\n",
       "  <tbody>\n",
       "    <tr>\n",
       "      <th>0</th>\n",
       "      <td>11</td>\n",
       "      <td>smith</td>\n",
       "      <td>2020-01-08</td>\n",
       "      <td>3210</td>\n",
       "    </tr>\n",
       "    <tr>\n",
       "      <th>1</th>\n",
       "      <td>12</td>\n",
       "      <td>scott</td>\n",
       "      <td>2021-02-16</td>\n",
       "      <td>3200</td>\n",
       "    </tr>\n",
       "    <tr>\n",
       "      <th>2</th>\n",
       "      <td>13</td>\n",
       "      <td>김흥국</td>\n",
       "      <td>2000-01-21</td>\n",
       "      <td>2700</td>\n",
       "    </tr>\n",
       "  </tbody>\n",
       "</table>\n",
       "</div>"
      ],
      "text/plain": [
       "   empno  ename    hiredate   sal\n",
       "0     11  smith  2020-01-08  3210\n",
       "1     12  scott  2021-02-16  3200\n",
       "2     13    김흥국  2000-01-21  2700"
      ]
     },
     "metadata": {},
     "output_type": "display_data"
    },
    {
     "name": "stdout",
     "output_type": "stream",
     "text": [
      "목록(s), 추가(a), 검색(f), 수정(u), 삭제(d), 종료(x):f\n",
      "검색할 사원 번호:12\n"
     ]
    },
    {
     "data": {
      "text/html": [
       "<div>\n",
       "<style scoped>\n",
       "    .dataframe tbody tr th:only-of-type {\n",
       "        vertical-align: middle;\n",
       "    }\n",
       "\n",
       "    .dataframe tbody tr th {\n",
       "        vertical-align: top;\n",
       "    }\n",
       "\n",
       "    .dataframe thead th {\n",
       "        text-align: right;\n",
       "    }\n",
       "</style>\n",
       "<table border=\"1\" class=\"dataframe\">\n",
       "  <thead>\n",
       "    <tr style=\"text-align: right;\">\n",
       "      <th></th>\n",
       "      <th>empno</th>\n",
       "      <th>ename</th>\n",
       "      <th>hiredate</th>\n",
       "      <th>sal</th>\n",
       "    </tr>\n",
       "  </thead>\n",
       "  <tbody>\n",
       "    <tr>\n",
       "      <th>0</th>\n",
       "      <td>12</td>\n",
       "      <td>scott</td>\n",
       "      <td>2021-02-16</td>\n",
       "      <td>3200</td>\n",
       "    </tr>\n",
       "  </tbody>\n",
       "</table>\n",
       "</div>"
      ],
      "text/plain": [
       "   empno  ename    hiredate   sal\n",
       "0     12  scott  2021-02-16  3200"
      ]
     },
     "metadata": {},
     "output_type": "display_data"
    },
    {
     "name": "stdout",
     "output_type": "stream",
     "text": [
      "목록(s), 추가(a), 검색(f), 수정(u), 삭제(d), 종료(x):u\n",
      "수정할 사원 이름 급여액:smith 3300\n",
      "수정 성공\n",
      "목록(s), 추가(a), 검색(f), 수정(u), 삭제(d), 종료(x):s\n"
     ]
    },
    {
     "data": {
      "text/html": [
       "<div>\n",
       "<style scoped>\n",
       "    .dataframe tbody tr th:only-of-type {\n",
       "        vertical-align: middle;\n",
       "    }\n",
       "\n",
       "    .dataframe tbody tr th {\n",
       "        vertical-align: top;\n",
       "    }\n",
       "\n",
       "    .dataframe thead th {\n",
       "        text-align: right;\n",
       "    }\n",
       "</style>\n",
       "<table border=\"1\" class=\"dataframe\">\n",
       "  <thead>\n",
       "    <tr style=\"text-align: right;\">\n",
       "      <th></th>\n",
       "      <th>empno</th>\n",
       "      <th>ename</th>\n",
       "      <th>hiredate</th>\n",
       "      <th>sal</th>\n",
       "    </tr>\n",
       "  </thead>\n",
       "  <tbody>\n",
       "    <tr>\n",
       "      <th>0</th>\n",
       "      <td>11</td>\n",
       "      <td>smith</td>\n",
       "      <td>2020-01-08</td>\n",
       "      <td>3300</td>\n",
       "    </tr>\n",
       "    <tr>\n",
       "      <th>1</th>\n",
       "      <td>12</td>\n",
       "      <td>scott</td>\n",
       "      <td>2021-02-16</td>\n",
       "      <td>3200</td>\n",
       "    </tr>\n",
       "    <tr>\n",
       "      <th>2</th>\n",
       "      <td>13</td>\n",
       "      <td>김흥국</td>\n",
       "      <td>2000-01-21</td>\n",
       "      <td>2700</td>\n",
       "    </tr>\n",
       "  </tbody>\n",
       "</table>\n",
       "</div>"
      ],
      "text/plain": [
       "   empno  ename    hiredate   sal\n",
       "0     11  smith  2020-01-08  3300\n",
       "1     12  scott  2021-02-16  3200\n",
       "2     13    김흥국  2000-01-21  2700"
      ]
     },
     "metadata": {},
     "output_type": "display_data"
    },
    {
     "name": "stdout",
     "output_type": "stream",
     "text": [
      "목록(s), 추가(a), 검색(f), 수정(u), 삭제(d), 종료(x):x\n",
      "프로그램 종료\n"
     ]
    }
   ],
   "source": [
    "dao = EmpDAO()\n",
    "go = True\n",
    "\n",
    "while go:\n",
    "    m = menu()\n",
    "    if m == 'LIST':\n",
    "        show_list(dao.get_list())\n",
    "    elif m=='ADD':\n",
    "        emp = add()\n",
    "        if dao.add_emp(emp):\n",
    "            print('추가 성공')\n",
    "        else:\n",
    "            print('추가 실패')\n",
    "    elif m=='FIND':\n",
    "        empno = input('검색할 사원 번호:')\n",
    "        show_emp(dao.find_by_empno(int(empno)))\n",
    "\n",
    "    elif m=='UPDATE':\n",
    "        if update():\n",
    "            print('수정 성공')\n",
    "        else:\n",
    "            print('수정 실패')\n",
    "    elif m=='DELETE':\n",
    "        if delete():\n",
    "            print('삭제 성공')\n",
    "        else:\n",
    "            print('삭제 실패')\n",
    "    elif m=='EXIT':\n",
    "        break\n",
    "    else:\n",
    "        print('메뉴 입력 오류')\n",
    "print('프로그램 종료')"
   ]
  },
  {
   "cell_type": "markdown",
   "id": "e79c6ce9",
   "metadata": {},
   "source": [
    "# Thread\n",
    "* 한 프로세스 안에서 동시에 실행되는 코드(로직, 함수)"
   ]
  },
  {
   "cell_type": "code",
   "execution_count": 124,
   "id": "1e2b2a69",
   "metadata": {
    "scrolled": true
   },
   "outputs": [],
   "source": [
    "import time\n",
    "from datetime import datetime"
   ]
  },
  {
   "cell_type": "code",
   "execution_count": 125,
   "id": "3fb560d6",
   "metadata": {},
   "outputs": [],
   "source": [
    "def number_t(name):\n",
    "    num = 0\n",
    "    while True:\n",
    "        num += 1\n",
    "        print(f'{name}-{num}')\n",
    "        time.sleep(1)\n",
    "        if num==10:\n",
    "            break"
   ]
  },
  {
   "cell_type": "code",
   "execution_count": 126,
   "id": "554d012f",
   "metadata": {},
   "outputs": [],
   "source": [
    "def timer_t(name):\n",
    "    cnt = 0\n",
    "    while True:\n",
    "        print(f'{name}-{datetime.now()}')\n",
    "        time.sleep(1)\n",
    "        cnt += 1\n",
    "        if cnt==10:\n",
    "            break   "
   ]
  },
  {
   "cell_type": "code",
   "execution_count": 122,
   "id": "5be07a1f",
   "metadata": {},
   "outputs": [
    {
     "name": "stdout",
     "output_type": "stream",
     "text": [
      "num=1\n",
      "num=2\n",
      "num=3\n",
      "num=4\n",
      "num=5\n",
      "num=6\n",
      "num=7\n",
      "num=8\n",
      "num=9\n",
      "num=10\n",
      "2022-08-18 17:45:18.994046\n",
      "2022-08-18 17:45:19.994283\n",
      "2022-08-18 17:45:20.994799\n",
      "2022-08-18 17:45:21.995551\n",
      "2022-08-18 17:45:22.996443\n",
      "2022-08-18 17:45:23.996683\n",
      "2022-08-18 17:45:24.997252\n",
      "2022-08-18 17:45:25.997629\n",
      "2022-08-18 17:45:26.998604\n",
      "2022-08-18 17:45:27.999493\n"
     ]
    }
   ],
   "source": [
    "# 순차처리\n",
    "number_t()\n",
    "timer_t()"
   ]
  },
  {
   "cell_type": "markdown",
   "id": "bff0424a",
   "metadata": {},
   "source": [
    "## Thread\n",
    "* 가상의 CPU (VCPU)\n",
    "* 코드 실행\n",
    "* 시분할(Time Slicing)"
   ]
  },
  {
   "cell_type": "code",
   "execution_count": 127,
   "id": "b49f5c4b",
   "metadata": {},
   "outputs": [
    {
     "name": "stdout",
     "output_type": "stream",
     "text": [
      "num_t-1\n",
      "time_t-2022-08-18 17:55:52.040195\n",
      "num_t-2\n",
      "time_t-2022-08-18 17:55:53.041856\n",
      "num_t-3\n",
      "time_t-2022-08-18 17:55:54.042170\n",
      "num_t-4\n",
      "time_t-2022-08-18 17:55:55.042959\n",
      "num_t-5\n",
      "time_t-2022-08-18 17:55:56.044060\n",
      "num_t-6\n",
      "time_t-2022-08-18 17:55:57.044913\n",
      "num_t-7\n",
      "time_t-2022-08-18 17:55:58.046036\n",
      "num_t-8\n",
      "time_t-2022-08-18 17:55:59.046689\n",
      "num_t-9\n",
      "time_t-2022-08-18 17:56:00.047560\n",
      "num_t-10\n",
      "time_t-2022-08-18 17:56:01.048265\n"
     ]
    }
   ],
   "source": [
    "import threading\n",
    "\n",
    "t1 = threading.Thread(target=number_t, args=('num_t',))\n",
    "t2 = threading.Thread(target=timer_t, args=('time_t',))\n",
    "\n",
    "t1.start()\n",
    "t2.start()"
   ]
  },
  {
   "cell_type": "code",
   "execution_count": null,
   "id": "856282b8",
   "metadata": {},
   "outputs": [],
   "source": []
  }
 ],
 "metadata": {
  "kernelspec": {
   "display_name": "Python 3 (ipykernel)",
   "language": "python",
   "name": "python3"
  },
  "language_info": {
   "codemirror_mode": {
    "name": "ipython",
    "version": 3
   },
   "file_extension": ".py",
   "mimetype": "text/x-python",
   "name": "python",
   "nbconvert_exporter": "python",
   "pygments_lexer": "ipython3",
   "version": "3.9.12"
  }
 },
 "nbformat": 4,
 "nbformat_minor": 5
}
