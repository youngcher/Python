{
 "cells": [
  {
   "cell_type": "code",
   "execution_count": null,
   "id": "e5c3de7b-8844-4d34-a961-e68083c636cf",
   "metadata": {},
   "outputs": [],
   "source": [
    "#객체 안에 포함된 함수(메소드)\n",
    "# 객체에 포함되지 않은 함수\n",
    "max([1,2,3])\n",
    "len('hello')"
   ]
  },
  {
   "cell_type": "code",
   "execution_count": null,
   "id": "6bcb965b-7253-43d8-9fcc-d7352ab5b10c",
   "metadata": {},
   "outputs": [],
   "source": [
    "'Hello'.lower()"
   ]
  },
  {
   "cell_type": "code",
   "execution_count": null,
   "id": "c1088427-39b9-4736-9dd5-8fe230b140c7",
   "metadata": {},
   "outputs": [],
   "source": [
    "str1 ='Heello'"
   ]
  },
  {
   "cell_type": "code",
   "execution_count": null,
   "id": "c9b2bf60-9f06-4738-b607-1e6a0840ccd0",
   "metadata": {},
   "outputs": [],
   "source": [
    "str2 = str1.lower()\n",
    "str1, str2"
   ]
  },
  {
   "cell_type": "code",
   "execution_count": null,
   "id": "c748cc27-2a76-4ea4-9529-903ab064722c",
   "metadata": {},
   "outputs": [],
   "source": [
    "tp=(str1, str2)\n",
    "lst=[str1, str2]\n",
    "\n",
    "tp[0]\n",
    "lst[0]"
   ]
  },
  {
   "cell_type": "code",
   "execution_count": null,
   "id": "850cb8db-19df-401c-a4a0-5f2682ea9726",
   "metadata": {},
   "outputs": [],
   "source": [
    "lst[0] = 'World'\n",
    "lst[0]"
   ]
  },
  {
   "cell_type": "code",
   "execution_count": null,
   "id": "107b1523-defe-4d26-bc18-9a20cbbfd47f",
   "metadata": {},
   "outputs": [],
   "source": [
    "#튜플은 list와는 다르게 값을 바꿀수 없다.\n",
    "tp[0] = 'World'\n",
    "tp[0]"
   ]
  },
  {
   "cell_type": "code",
   "execution_count": null,
   "id": "3fe8c6b7-e392-40eb-b732-c303e5118c51",
   "metadata": {},
   "outputs": [],
   "source": [
    "\"Hello\".count('e')"
   ]
  },
  {
   "cell_type": "code",
   "execution_count": null,
   "id": "bb08c68e-9434-4894-8257-e5c9112c0e57",
   "metadata": {},
   "outputs": [],
   "source": [
    "str = \"Hello\".upper()"
   ]
  },
  {
   "cell_type": "code",
   "execution_count": null,
   "id": "7b0b0d38-fc5c-410f-a3fd-98ca70cae133",
   "metadata": {},
   "outputs": [],
   "source": [
    "str"
   ]
  },
  {
   "cell_type": "code",
   "execution_count": null,
   "id": "a4de6b71-e8c2-4721-a059-194d52192386",
   "metadata": {},
   "outputs": [],
   "source": [
    "str.lower()"
   ]
  },
  {
   "cell_type": "code",
   "execution_count": null,
   "id": "1b0beb44-46bf-41ea-b25c-6eaaf3d80116",
   "metadata": {},
   "outputs": [],
   "source": [
    "str, str2  #튜플"
   ]
  },
  {
   "cell_type": "code",
   "execution_count": null,
   "id": "cb39587b-7cc0-4739-8fa2-3e64d4727bd5",
   "metadata": {},
   "outputs": [],
   "source": [
    "#() 생략하는 튜플\n",
    "str1, str2 = tp\n",
    "tp"
   ]
  },
  {
   "cell_type": "code",
   "execution_count": null,
   "id": "6ebc5a5e-135b-4077-a2be-c7b92c615142",
   "metadata": {},
   "outputs": [],
   "source": [
    "#왼쪽 공백제거\n",
    "\" World \".lstrip()"
   ]
  },
  {
   "cell_type": "code",
   "execution_count": null,
   "id": "4a5225b0-f377-4eb9-9c0a-7be2d5a4d48d",
   "metadata": {},
   "outputs": [],
   "source": [
    "#오른쪽 공백제거\n",
    "\" World \".rstrip()"
   ]
  },
  {
   "cell_type": "code",
   "execution_count": null,
   "id": "4e634b1a-7c5b-416a-a799-2352b8614fa0",
   "metadata": {},
   "outputs": [],
   "source": [
    "#공백제거\n",
    "\" worle \".strip()"
   ]
  },
  {
   "cell_type": "code",
   "execution_count": null,
   "id": "025aa85c-3198-4022-9b2b-957f1570b990",
   "metadata": {},
   "outputs": [],
   "source": [
    "#문자열 수정, 공백을 , 바꾸기\n",
    "\"hello world\".replace(\" \",\",\")"
   ]
  },
  {
   "cell_type": "code",
   "execution_count": null,
   "id": "38304563-8c81-4ea5-a3f0-513dfd581e88",
   "metadata": {},
   "outputs": [],
   "source": [
    "#공백을 기준으로 자르기\n",
    "#\"Hello world\".split()\n",
    "\"Hello world\".split(\"o\")"
   ]
  },
  {
   "cell_type": "code",
   "execution_count": null,
   "id": "d8cf6eb5-7fdf-45f7-ab71-759eac70049f",
   "metadata": {},
   "outputs": [],
   "source": [
    "res = \"Hello world\".split()\n",
    "res"
   ]
  },
  {
   "cell_type": "code",
   "execution_count": null,
   "id": "eb5cc426-2222-4197-ab4d-009f955e784c",
   "metadata": {},
   "outputs": [],
   "source": [
    "#원소를 바꾸지 않을 때는 튜플을 사용하면 안전하다\n",
    "s1, s2 = res\n",
    "tp = (s1, s2)\n",
    "tp"
   ]
  },
  {
   "cell_type": "code",
   "execution_count": null,
   "id": "51ab747f-3cc8-4ab9-9b87-8e62338650b5",
   "metadata": {},
   "outputs": [],
   "source": [
    "whos"
   ]
  },
  {
   "cell_type": "code",
   "execution_count": null,
   "id": "d306cbda-3e7b-40de-8ced-c9907c27fcb5",
   "metadata": {},
   "outputs": [],
   "source": [
    "type(list)"
   ]
  },
  {
   "cell_type": "code",
   "execution_count": null,
   "id": "a7aaa13c-692c-4c54-a920-c90b35d54522",
   "metadata": {},
   "outputs": [],
   "source": [
    "#로그인 예제\n",
    "check = True\n",
    "uid = 'Smith'\n",
    "upw = 'ABC111'\n",
    "\n",
    "while check:\n",
    "    idcheck = input('아이디를 입력하세요: ')\n",
    "    pwcheck = input('pw를 입력하세요: ')\n",
    "    if uid.lower() == idcheck.lower():\n",
    "        if upw.lower() == pwcheck.lower():\n",
    "            print('로그인 성공.')\n",
    "            check = False\n",
    "        else:\n",
    "            print('로그인 실패 : 비밀번호가 틀렸어요.')\n",
    "    else:\n",
    "        print('로그인 실패 : 아이디가 없습니다.')"
   ]
  },
  {
   "cell_type": "code",
   "execution_count": null,
   "id": "728e3fc0-314c-4f5d-b32b-78875513670b",
   "metadata": {},
   "outputs": [],
   "source": [
    "#문자 찾기\n",
    "abc = \"Hello world\"  \n",
    "abc.find('ld')   #index 9\n",
    "abc.find('H')    #index 0"
   ]
  },
  {
   "cell_type": "code",
   "execution_count": null,
   "id": "62a28825-764a-4a51-aef0-b2de9b85e49c",
   "metadata": {},
   "outputs": [],
   "source": [
    "# abc.find('d')\n",
    "abc.rfind('d')"
   ]
  },
  {
   "cell_type": "code",
   "execution_count": null,
   "id": "9c96e7a4-d7f0-4c9d-9c6c-cbfa93b117e4",
   "metadata": {},
   "outputs": [],
   "source": [
    "print(\"first\\nsecond\")"
   ]
  },
  {
   "cell_type": "code",
   "execution_count": null,
   "id": "b48ecf72-2dc8-40fc-8d1f-0042ebf2e0f7",
   "metadata": {},
   "outputs": [],
   "source": [
    "print('첫번째 \"\" 두번째')"
   ]
  },
  {
   "cell_type": "code",
   "execution_count": null,
   "id": "26961177-499a-4509-a6f3-aadecc4c75fa",
   "metadata": {},
   "outputs": [],
   "source": [
    "print(\"첫번째 \\\" \\\"두번째\")"
   ]
  },
  {
   "cell_type": "code",
   "execution_count": null,
   "id": "512e91f4-7833-4899-846b-1ec4b9434a21",
   "metadata": {},
   "outputs": [],
   "source": [
    "list = [1, 2, 3, 4, 5]\n",
    "list"
   ]
  },
  {
   "cell_type": "code",
   "execution_count": null,
   "id": "8abb8823-497b-4c6c-b2b0-4544fdb20671",
   "metadata": {},
   "outputs": [],
   "source": [
    "list.append(8)\n",
    "list"
   ]
  },
  {
   "cell_type": "code",
   "execution_count": null,
   "id": "deb42a55-a7e3-4606-98be-3a67eb4da159",
   "metadata": {},
   "outputs": [],
   "source": [
    "list[2] = 1\n",
    "list"
   ]
  },
  {
   "cell_type": "code",
   "execution_count": null,
   "id": "f05aeebe-c881-47b4-ba11-00775c6d37b2",
   "metadata": {},
   "outputs": [],
   "source": [
    "list.pop(2)\n",
    "list"
   ]
  },
  {
   "cell_type": "code",
   "execution_count": null,
   "id": "4069175d-3c8f-464e-9257-5ab9f0519588",
   "metadata": {},
   "outputs": [],
   "source": [
    "list.clear()\n",
    "list"
   ]
  },
  {
   "cell_type": "code",
   "execution_count": null,
   "id": "2ae04927-8f86-4620-9088-55a542dfc363",
   "metadata": {},
   "outputs": [],
   "source": [
    "dir(list)"
   ]
  },
  {
   "cell_type": "code",
   "execution_count": null,
   "id": "cf091b89-0ffb-4133-b0a3-56fd0d9a12fa",
   "metadata": {},
   "outputs": [],
   "source": [
    "list.remove(5)\n",
    "list"
   ]
  },
  {
   "cell_type": "code",
   "execution_count": null,
   "id": "e95f90e3-d6de-4d7d-98b0-ac1df7229aa1",
   "metadata": {},
   "outputs": [],
   "source": [
    "whos"
   ]
  },
  {
   "cell_type": "code",
   "execution_count": null,
   "id": "14eb9f85-9aeb-4276-90be-fd052ae5f3a0",
   "metadata": {},
   "outputs": [],
   "source": [
    "del list[:2]\n",
    "list"
   ]
  },
  {
   "cell_type": "code",
   "execution_count": null,
   "id": "445c3ad7-3ce2-410d-8b52-78630325300a",
   "metadata": {},
   "outputs": [],
   "source": [
    "del list[:]"
   ]
  },
  {
   "cell_type": "code",
   "execution_count": null,
   "id": "f3b47f65-93a8-49a4-9fee-7170c8af6771",
   "metadata": {},
   "outputs": [],
   "source": [
    "list"
   ]
  },
  {
   "cell_type": "code",
   "execution_count": null,
   "id": "72dfa0ac-850a-4bb0-a57b-6be568169e4a",
   "metadata": {},
   "outputs": [],
   "source": [
    "type(1<2)"
   ]
  },
  {
   "cell_type": "code",
   "execution_count": null,
   "id": "5fa579c1-08a3-4064-8f03-c3879e76925f",
   "metadata": {},
   "outputs": [],
   "source": [
    "type(1)"
   ]
  },
  {
   "cell_type": "code",
   "execution_count": null,
   "id": "8da00910-e30f-428f-bd92-1b7cc64e18db",
   "metadata": {},
   "outputs": [],
   "source": [
    "type([1,2,3])"
   ]
  },
  {
   "cell_type": "code",
   "execution_count": null,
   "id": "b1279b7e-9e71-4382-b946-c91cf9d00d81",
   "metadata": {},
   "outputs": [],
   "source": [
    "res = 1<2 and 4>3\n",
    "type(res)"
   ]
  },
  {
   "cell_type": "code",
   "execution_count": null,
   "id": "594ce179-e82c-4a05-81c9-07df2ba7fce7",
   "metadata": {},
   "outputs": [],
   "source": [
    "res"
   ]
  },
  {
   "cell_type": "code",
   "execution_count": null,
   "id": "abbe63e9-a031-4c74-8d22-de9bf1718202",
   "metadata": {},
   "outputs": [],
   "source": [
    "'123'+str(4)"
   ]
  },
  {
   "cell_type": "code",
   "execution_count": null,
   "id": "a3768145-be31-4ec7-83b6-c0b570b8fd81",
   "metadata": {},
   "outputs": [],
   "source": [
    "s1 = '123'\n",
    "s1.isdigit()\n",
    "n = int(s1)\n",
    "print(n+5)"
   ]
  },
  {
   "cell_type": "code",
   "execution_count": null,
   "id": "bd9775f5-31be-4832-9447-424bc485967e",
   "metadata": {},
   "outputs": [],
   "source": [
    "s2 = '123'\n",
    "s2.isalpha()"
   ]
  },
  {
   "cell_type": "code",
   "execution_count": null,
   "id": "c9988a63-00f9-49e3-9586-b0558a79db8b",
   "metadata": {},
   "outputs": [],
   "source": [
    "#알파벳인가 아닌가\n",
    "s2 = 'thanks0'\n",
    "s2.isalpha()"
   ]
  },
  {
   "cell_type": "code",
   "execution_count": null,
   "id": "5002fedd-bfe8-4606-bb0a-4713d50b7d6f",
   "metadata": {},
   "outputs": [],
   "source": [
    "\"hello world\".startswith(\"he\")"
   ]
  },
  {
   "cell_type": "code",
   "execution_count": null,
   "id": "5cb21685-1196-4aa7-ab04-c9ab25d85860",
   "metadata": {},
   "outputs": [],
   "source": [
    "\"hello world\".endswith('ld')"
   ]
  },
  {
   "cell_type": "code",
   "execution_count": null,
   "id": "15a06122-7641-45b0-b420-6599044dd420",
   "metadata": {},
   "outputs": [],
   "source": [
    "\"hello\".title()"
   ]
  },
  {
   "cell_type": "code",
   "execution_count": null,
   "id": "354bcc54-94aa-4834-bd3e-221463c29800",
   "metadata": {},
   "outputs": [],
   "source": [
    "check = True\n",
    "while check:\n",
    "      phonenum = input('전화번호 입력하세요').split()\n",
    "      \n",
    "      \n",
    "      if phonenum[0] == '010':\n",
    "            if phonenum[1].isdigit and phonenum[1].__len__()==3:\n",
    "                  if phonenum[2].isdigit and phonenum[2].__len__()==4:\n",
    "                        print('성공')\n",
    "                        check=False\n",
    "                  else:\n",
    "                        print('마지막은 4자리입니다.')\n",
    "            else:\n",
    "                  print('두번째는 3자리입니다.')\n",
    "      else:\n",
    "            print('010으로 시작해야 합니다.')"
   ]
  },
  {
   "cell_type": "code",
   "execution_count": null,
   "id": "2ced84f5-aa09-4492-ba38-59b208febf83",
   "metadata": {},
   "outputs": [],
   "source": [
    "if 2:   #None, False, 0, \"\"\n",
    "      print('참')\n",
    "else:\n",
    "      print('거짓')"
   ]
  },
  {
   "cell_type": "code",
   "execution_count": null,
   "id": "f3c3af81-c9d6-49d7-ae86-6f229d4c2eed",
   "metadata": {},
   "outputs": [],
   "source": [
    "a = True\n",
    "while a:\n",
    "      a = input('아무거나 입력하세요')\n",
    "      if a == \"\":\n",
    "            print('끝')"
   ]
  },
  {
   "cell_type": "markdown",
   "id": "d51839d8-0b2f-4e43-a28a-a45204d889f5",
   "metadata": {},
   "source": [
    "## list, tuple, set, dictionary"
   ]
  },
  {
   "cell_type": "code",
   "execution_count": null,
   "id": "dfd21240-1f45-4954-b252-31b1c1c8c94e",
   "metadata": {},
   "outputs": [],
   "source": [
    "#리스트 : 원소의 값을 수정 가능 [] 사용\n",
    "lst = [1,2,3,3,4,5,6,6,7,7]\n",
    "lst"
   ]
  },
  {
   "cell_type": "code",
   "execution_count": null,
   "id": "d60ace9b-517b-4e3d-8cdb-5b46e1e7aa6d",
   "metadata": {},
   "outputs": [],
   "source": [
    "#튜플 : 원소의 값 수정 불가능 () 사용\n",
    "tpl = (1,2,3,3,4,5,6,6,7,7)\n",
    "tpl"
   ]
  },
  {
   "cell_type": "code",
   "execution_count": null,
   "id": "7f7b75aa-2888-44e1-922c-a7a766c397d2",
   "metadata": {},
   "outputs": [],
   "source": [
    "[1,2] + [3,4]"
   ]
  },
  {
   "cell_type": "code",
   "execution_count": null,
   "id": "9dbf3f9b-0cd0-43f0-8efd-6ce3ef346d20",
   "metadata": {},
   "outputs": [],
   "source": [
    "(1,2) + (3,4)"
   ]
  },
  {
   "cell_type": "code",
   "execution_count": null,
   "id": "d1d0ebde-ba6b-4b83-85ad-830695222d63",
   "metadata": {},
   "outputs": [],
   "source": [
    "#set은 값을 중복하지않고 저장한다. 브레이스{} 사용\n",
    "sset = {1,2,3,3,4,5,6,6,7,7}\n",
    "sset"
   ]
  },
  {
   "cell_type": "code",
   "execution_count": null,
   "id": "f57ab311-ddeb-4003-8ab2-9fd102d622e2",
   "metadata": {},
   "outputs": [],
   "source": [
    "#dictionary은 key와 value가 있다\n",
    "dic1 = {'name' : 'Smith', 'num': 11 , 'phone' : '010 7227 0707'}\n",
    "dic1"
   ]
  },
  {
   "cell_type": "code",
   "execution_count": null,
   "id": "abb65243-528b-4600-8553-d53ba787bf42",
   "metadata": {},
   "outputs": [],
   "source": [
    "dic1['name']"
   ]
  },
  {
   "cell_type": "code",
   "execution_count": null,
   "id": "0589eb72-a218-4290-a6aa-33f2c1f1faf2",
   "metadata": {},
   "outputs": [],
   "source": [
    "def test():\n",
    "      return 1,3  #() 가 없으면 튜플이다\n",
    "\n",
    "a, b = test()\n",
    "a,b"
   ]
  },
  {
   "cell_type": "code",
   "execution_count": null,
   "id": "fc40d60f-02c1-43c8-bd12-188892940eee",
   "metadata": {},
   "outputs": [],
   "source": [
    "import random"
   ]
  },
  {
   "cell_type": "code",
   "execution_count": null,
   "id": "1d51eb81-73a4-49a8-b3cc-b050ae6ae830",
   "metadata": {},
   "outputs": [],
   "source": [
    "randomNum = set()\n",
    "a = True\n",
    "while a:\n",
    "      num = random.randint(1,45)\n",
    "      randomNum.add(num)\n",
    "      if len(randomNum) >= 6:\n",
    "            a = False\n",
    "randomNum"
   ]
  },
  {
   "cell_type": "code",
   "execution_count": null,
   "id": "b0fef838-7f1e-4f22-bb19-75cf6749c060",
   "metadata": {},
   "outputs": [],
   "source": [
    "5 in [2,3,4]"
   ]
  },
  {
   "cell_type": "code",
   "execution_count": null,
   "id": "61cc4dd8-d338-466e-a22a-2292facbd660",
   "metadata": {},
   "outputs": [],
   "source": [
    "'hello' not in 'hello world'"
   ]
  },
  {
   "cell_type": "code",
   "execution_count": null,
   "id": "a716ecd2-dfd4-4ebf-bbdf-fca74f5fff3d",
   "metadata": {},
   "outputs": [],
   "source": [
    "young = []\n",
    "a = True\n",
    "while a:\n",
    "      num = random.randint(1,9)\n",
    "      if num not in young:\n",
    "            young.append(num)\n",
    "      if len(young)>=6 :\n",
    "            a = False\n",
    "\n",
    "sorted(young)"
   ]
  },
  {
   "cell_type": "code",
   "execution_count": null,
   "id": "593451f7-ebf8-4956-a61c-f987b42c7aaf",
   "metadata": {},
   "outputs": [],
   "source": [
    "emps = [[11,'smith'],[13,'abc'],[22,'sm']]"
   ]
  },
  {
   "cell_type": "code",
   "execution_count": null,
   "id": "e520e2c3-6aee-478c-acea-1f5e5653f6d4",
   "metadata": {},
   "outputs": [],
   "source": [
    "# emps[0][1]\n",
    "# emps[0][0]\n",
    "# emps[0][1]\n",
    "# emps[1][:]\n",
    "for i in range(3):\n",
    "      print(emps[i][0],emps[i],[1])"
   ]
  },
  {
   "cell_type": "code",
   "execution_count": null,
   "id": "7447c105-54dc-4208-ba5f-f7a73ceb2158",
   "metadata": {},
   "outputs": [],
   "source": [
    "for emp in emps:\n",
    "      num, name = emp\n",
    "      print('{} {}'.format(num, name))"
   ]
  },
  {
   "cell_type": "code",
   "execution_count": null,
   "id": "0e9aedb3-8b0a-4aa3-b636-047039eaea28",
   "metadata": {},
   "outputs": [],
   "source": [
    "dic1 = {'smith' :[11, 'smith', 20],\n",
    "        'ward' : [12, 'ward', 10],\n",
    "        'scott' : [13, 'scott', 30]}\n",
    "dic1"
   ]
  },
  {
   "cell_type": "code",
   "execution_count": null,
   "id": "105d7986-5a03-420b-9dbb-c8f5d8867948",
   "metadata": {},
   "outputs": [],
   "source": [
    "print(dic1['smith'])\n",
    "print(dic1['ward'])\n",
    "print(dic1['scott'])"
   ]
  },
  {
   "cell_type": "code",
   "execution_count": null,
   "id": "da7bce5f-ee60-4789-aa54-ef6d0bb36d0c",
   "metadata": {},
   "outputs": [],
   "source": [
    "for i in range(3):\n",
    "      print(dic1['smith'][i])"
   ]
  },
  {
   "cell_type": "code",
   "execution_count": null,
   "id": "33951d66-2812-4e2c-8242-6ea4c6e5993b",
   "metadata": {},
   "outputs": [],
   "source": [
    "dic1.keys()\n",
    "\n",
    "for key in dic1.keys():\n",
    "      emp=dic1.get(key)\n",
    "      num, name, dept = emp\n",
    "      print(num, name , dept)\n",
    "            "
   ]
  },
  {
   "cell_type": "code",
   "execution_count": null,
   "id": "cd51d7e9-d4fa-4eef-878e-225f4823ba45",
   "metadata": {},
   "outputs": [],
   "source": [
    "dic1.items()"
   ]
  },
  {
   "cell_type": "code",
   "execution_count": null,
   "id": "b67bdb63-c202-4783-a0c3-7f90e3e4b342",
   "metadata": {},
   "outputs": [],
   "source": [
    "for item in dic1.items():\n",
    "      key, value = item\n",
    "      num, name, dept = value\n",
    "      print(num, name, dept)"
   ]
  },
  {
   "cell_type": "code",
   "execution_count": null,
   "id": "23b9e8b3-2096-47ca-a10b-6f7e20b41ebb",
   "metadata": {},
   "outputs": [],
   "source": [
    "dic2 = {'a' : 'smith', 'b' : 'young'}\n",
    "dic2['a']"
   ]
  },
  {
   "cell_type": "code",
   "execution_count": null,
   "id": "73462642-d29a-40db-a06c-389e23160f53",
   "metadata": {},
   "outputs": [],
   "source": [
    "dic2.get('a')"
   ]
  },
  {
   "cell_type": "code",
   "execution_count": null,
   "id": "8ce84bbb-c942-47a8-8a7f-16d09f2c3115",
   "metadata": {},
   "outputs": [],
   "source": [
    "del(dic2['b'])"
   ]
  },
  {
   "cell_type": "code",
   "execution_count": null,
   "id": "2829f6df-cac7-45c5-acb3-fe2f411dadeb",
   "metadata": {},
   "outputs": [],
   "source": [
    "dic2['c'] = 'good'\n",
    "dic2"
   ]
  },
  {
   "cell_type": "code",
   "execution_count": 22,
   "id": "9d9d9090-8f13-47e3-bf14-abd54f424629",
   "metadata": {},
   "outputs": [
    {
     "name": "stdout",
     "output_type": "stream",
     "text": [
      "==============================================================\n"
     ]
    },
    {
     "name": "stdin",
     "output_type": "stream",
     "text": [
      "목록(s), 검색(f), 추가(a), 수정(u), 삭제(d), 종료(x) a\n",
      "아이디, 번호, 이름을 입력하세요 young asf asdf\n"
     ]
    },
    {
     "name": "stdout",
     "output_type": "stream",
     "text": [
      "등록실패: 번호가 숫자가 아닙니다.\n",
      "==============================================================\n"
     ]
    },
    {
     "name": "stdin",
     "output_type": "stream",
     "text": [
      "목록(s), 검색(f), 추가(a), 수정(u), 삭제(d), 종료(x) a\n",
      "아이디, 번호, 이름을 입력하세요 young 2 asfd\n"
     ]
    },
    {
     "name": "stdout",
     "output_type": "stream",
     "text": [
      "등록성공\n",
      "==============================================================\n"
     ]
    },
    {
     "name": "stdin",
     "output_type": "stream",
     "text": [
      "목록(s), 검색(f), 추가(a), 수정(u), 삭제(d), 종료(x) s\n"
     ]
    },
    {
     "name": "stdout",
     "output_type": "stream",
     "text": [
      "1번 아이디:young 번호:2 이름:asfd\n",
      "==============================================================\n"
     ]
    },
    {
     "name": "stdin",
     "output_type": "stream",
     "text": [
      "목록(s), 검색(f), 추가(a), 수정(u), 삭제(d), 종료(x) a\n",
      "아이디, 번호, 이름을 입력하세요 sdf 223 asf\n"
     ]
    },
    {
     "name": "stdout",
     "output_type": "stream",
     "text": [
      "등록성공\n",
      "==============================================================\n"
     ]
    },
    {
     "name": "stdin",
     "output_type": "stream",
     "text": [
      "목록(s), 검색(f), 추가(a), 수정(u), 삭제(d), 종료(x) a\n",
      "아이디, 번호, 이름을 입력하세요 sdf 123 sfda\n"
     ]
    },
    {
     "name": "stdout",
     "output_type": "stream",
     "text": [
      "이미 있습니다.\n",
      "==============================================================\n"
     ]
    },
    {
     "name": "stdin",
     "output_type": "stream",
     "text": [
      "목록(s), 검색(f), 추가(a), 수정(u), 삭제(d), 종료(x) a\n",
      "아이디, 번호, 이름을 입력하세요 sdfs 123 vdd\n"
     ]
    },
    {
     "name": "stdout",
     "output_type": "stream",
     "text": [
      "등록성공\n",
      "==============================================================\n"
     ]
    },
    {
     "name": "stdin",
     "output_type": "stream",
     "text": [
      "목록(s), 검색(f), 추가(a), 수정(u), 삭제(d), 종료(x) s\n"
     ]
    },
    {
     "name": "stdout",
     "output_type": "stream",
     "text": [
      "1번 아이디:young 번호:2 이름:asfd\n",
      "2번 아이디:sdf 번호:223 이름:asf\n",
      "3번 아이디:sdfs 번호:123 이름:vdd\n",
      "==============================================================\n"
     ]
    },
    {
     "name": "stdin",
     "output_type": "stream",
     "text": [
      "목록(s), 검색(f), 추가(a), 수정(u), 삭제(d), 종료(x) f\n",
      "아이디를 입력하세요 sdf\n"
     ]
    },
    {
     "name": "stdout",
     "output_type": "stream",
     "text": [
      "아이디:sdf 번호:223 이름:asf\n",
      "==============================================================\n"
     ]
    },
    {
     "name": "stdin",
     "output_type": "stream",
     "text": [
      "목록(s), 검색(f), 추가(a), 수정(u), 삭제(d), 종료(x) u\n",
      "수정할 아이디를 입력하세요 sdfs\n",
      "수정할 번호와 이름을 입력하세요 333 삼삼삼\n"
     ]
    },
    {
     "name": "stdout",
     "output_type": "stream",
     "text": [
      "==============================================================\n"
     ]
    },
    {
     "name": "stdin",
     "output_type": "stream",
     "text": [
      "목록(s), 검색(f), 추가(a), 수정(u), 삭제(d), 종료(x) s\n"
     ]
    },
    {
     "name": "stdout",
     "output_type": "stream",
     "text": [
      "1번 아이디:young 번호:2 이름:asfd\n",
      "2번 아이디:sdf 번호:223 이름:asf\n",
      "3번 아이디:sdfs 번호:333 이름:삼삼삼\n",
      "==============================================================\n"
     ]
    },
    {
     "name": "stdin",
     "output_type": "stream",
     "text": [
      "목록(s), 검색(f), 추가(a), 수정(u), 삭제(d), 종료(x) d\n",
      "삭제할 아이디를 입력하세요 sdfs\n"
     ]
    },
    {
     "name": "stdout",
     "output_type": "stream",
     "text": [
      "삭제성공\n",
      "==============================================================\n"
     ]
    },
    {
     "name": "stdin",
     "output_type": "stream",
     "text": [
      "목록(s), 검색(f), 추가(a), 수정(u), 삭제(d), 종료(x) s\n"
     ]
    },
    {
     "name": "stdout",
     "output_type": "stream",
     "text": [
      "1번 아이디:young 번호:2 이름:asfd\n",
      "2번 아이디:sdf 번호:223 이름:asf\n",
      "==============================================================\n"
     ]
    },
    {
     "name": "stdin",
     "output_type": "stream",
     "text": [
      "목록(s), 검색(f), 추가(a), 수정(u), 삭제(d), 종료(x) x\n"
     ]
    }
   ],
   "source": [
    "# data = input('아이디, 번호, 이름을 입력하세요.')\n",
    "dic = {}\n",
    "a = True\n",
    "while a:\n",
    "      print('==============================================================')\n",
    "      control = input('목록(s), 검색(f), 추가(a), 수정(u), 삭제(d), 종료(x)')\n",
    "      \n",
    "      if control== 's':\n",
    "            b=0\n",
    "            for key in dic.keys():\n",
    "                  emp= dic.get(key)\n",
    "                  uid, num, name = emp\n",
    "                  b=b+1\n",
    "                  print('{}번 아이디:{} 번호:{} 이름:{}'.format(b, uid, num, name))\n",
    "            \n",
    "      elif control== 'f':\n",
    "            try:\n",
    "                  uid = input('아이디를 입력하세요')\n",
    "                  uid, num, name = dic[uid]\n",
    "                  print('아이디:{} 번호:{} 이름:{}'.format(uid, num, name))\n",
    "            except:\n",
    "                  print('다시 입력하시오')\n",
    "                  pass\n",
    "      elif control== 'a':\n",
    "            try:\n",
    "                  data = input('아이디, 번호, 이름을 입력하세요')\n",
    "                  uid, num, name= data.split()\n",
    "                  if uid in dic:\n",
    "                        print('이미 있습니다.')\n",
    "                        continue\n",
    "                  if num.isdigit():\n",
    "                        dic[uid] = [uid, num, name]\n",
    "                        print('등록성공')\n",
    "                  else:\n",
    "                        print('등록실패: 번호가 숫자가 아닙니다.')\n",
    "            except:\n",
    "                  print('다시 입력하시오')\n",
    "                  pass\n",
    "      elif control=='u':\n",
    "            try:\n",
    "                  uid = input('수정할 아이디를 입력하세요')\n",
    "                  update = input('수정할 번호와 이름을 입력하세요')\n",
    "                  update2 = update.split()\n",
    "                  dic[uid] = [uid, update2[0], update2[1]]\n",
    "            except:\n",
    "                  print('다시 입력하세요')\n",
    "                  pass\n",
    "      elif control=='d':\n",
    "            try:\n",
    "                  uid = input('삭제할 아이디를 입력하세요')\n",
    "                  del(dic[uid])\n",
    "                  print('삭제성공')\n",
    "            except:\n",
    "                  print('다시 입력하세요')\n",
    "                  pass\n",
    "      elif control=='x':\n",
    "            a = False\n",
    "      else:\n",
    "            print('다시 입력하세요.')"
   ]
  },
  {
   "cell_type": "code",
   "execution_count": 21,
   "id": "084d8c12-8274-4589-b55f-f494367f5e36",
   "metadata": {},
   "outputs": [
    {
     "data": {
      "text/plain": [
       "True"
      ]
     },
     "execution_count": 21,
     "metadata": {},
     "output_type": "execute_result"
    }
   ],
   "source": []
  },
  {
   "cell_type": "code",
   "execution_count": null,
   "id": "b13a26a4-b828-403f-afd3-c782ecb508a7",
   "metadata": {},
   "outputs": [],
   "source": []
  }
 ],
 "metadata": {
  "kernelspec": {
   "display_name": "Python 3 (ipykernel)",
   "language": "python",
   "name": "python3"
  },
  "language_info": {
   "codemirror_mode": {
    "name": "ipython",
    "version": 3
   },
   "file_extension": ".py",
   "mimetype": "text/x-python",
   "name": "python",
   "nbconvert_exporter": "python",
   "pygments_lexer": "ipython3",
   "version": "3.9.12"
  }
 },
 "nbformat": 4,
 "nbformat_minor": 5
}
