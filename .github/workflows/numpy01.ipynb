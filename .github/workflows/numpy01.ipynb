{
 "cells": [
  {
   "cell_type": "markdown",
   "id": "ade81708",
   "metadata": {},
   "source": [
    "## 함수형 프로그래밍(Functional Programming)\n",
    "* map()    : 컬렉션 원소에 대해 특정 계산을 적용함\n",
    "* filter() : 컬렉션 원소에 대해 특정 원소만 필터링하여 새 집합 생성\n",
    "* reduce() : 컬렉션 원소에 대해 계산을 수행하여 한개의 스칼라 값을 생성\n",
    "* lambda   : 위의 함수에서 사용하는 첫번째 아규먼트인 함수(익명함수)"
   ]
  },
  {
   "cell_type": "code",
   "execution_count": null,
   "id": "14cbd1ee",
   "metadata": {},
   "outputs": [],
   "source": [
    "nums = [1,2,3,4,5]\n",
    "\n",
    "def add(x): return x+1\n",
    "list(map(add, nums))"
   ]
  },
  {
   "cell_type": "code",
   "execution_count": null,
   "id": "7832aff5",
   "metadata": {},
   "outputs": [],
   "source": [
    "def odd(x): return x%2==1\n",
    "list(filter(odd, nums))"
   ]
  },
  {
   "cell_type": "code",
   "execution_count": null,
   "id": "40f25b28",
   "metadata": {},
   "outputs": [],
   "source": [
    "from functools import reduce\n",
    "\n",
    "def sub(x,y): return x+y\n",
    "reduce(sub, nums)"
   ]
  },
  {
   "cell_type": "code",
   "execution_count": null,
   "id": "1642c7e8",
   "metadata": {},
   "outputs": [],
   "source": [
    "# lambda\n",
    "list(map(lambda x : x+1, nums))"
   ]
  },
  {
   "cell_type": "code",
   "execution_count": null,
   "id": "4e33c59e",
   "metadata": {},
   "outputs": [],
   "source": []
  },
  {
   "cell_type": "code",
   "execution_count": null,
   "id": "e98a89f1",
   "metadata": {
    "scrolled": false
   },
   "outputs": [],
   "source": [
    "!pip show numpy"
   ]
  },
  {
   "cell_type": "code",
   "execution_count": null,
   "id": "2bb6735b",
   "metadata": {},
   "outputs": [],
   "source": [
    "import numpy as np"
   ]
  },
  {
   "cell_type": "code",
   "execution_count": null,
   "id": "9db8c827",
   "metadata": {
    "scrolled": true
   },
   "outputs": [],
   "source": [
    "# ndarray (다차원 배열)\n",
    "a = np.array([1,2,3,4,5])\n",
    "type(a)\n",
    "a.dtype.name"
   ]
  },
  {
   "cell_type": "code",
   "execution_count": null,
   "id": "825013ae",
   "metadata": {},
   "outputs": [],
   "source": [
    "nums = ['a', 2, 'b', 'c', True, 3.14]\n",
    "nums\n",
    "b = np.array(nums)\n",
    "b.dtype.name"
   ]
  },
  {
   "cell_type": "code",
   "execution_count": null,
   "id": "31275079",
   "metadata": {
    "scrolled": true
   },
   "outputs": [],
   "source": [
    "a = np.array([1,2,3,4,5])\n",
    "a.size\n",
    "a.ndim\n",
    "a.shape"
   ]
  },
  {
   "cell_type": "code",
   "execution_count": null,
   "id": "55ec9262",
   "metadata": {},
   "outputs": [],
   "source": [
    "a = np.array([\n",
    "                [1,2,3], \n",
    "                [4,5,6]\n",
    "             ])\n",
    "a.size\n",
    "a.ndim\n",
    "a.shape\n",
    "a.itemsize\n",
    "a.data"
   ]
  },
  {
   "cell_type": "code",
   "execution_count": null,
   "id": "71a8e9cb",
   "metadata": {},
   "outputs": [],
   "source": [
    "a = np.array((\n",
    "                [1,2,3], \n",
    "                (4,5,6)\n",
    "             ))\n",
    "a"
   ]
  },
  {
   "cell_type": "code",
   "execution_count": null,
   "id": "eb04e9aa",
   "metadata": {
    "scrolled": true
   },
   "outputs": [],
   "source": [
    "bool_array = np.array([True,False,False])\n",
    "bool_array"
   ]
  },
  {
   "cell_type": "code",
   "execution_count": null,
   "id": "6f8dc09e",
   "metadata": {},
   "outputs": [],
   "source": [
    "float_array = np.array([1.2, 3.4, 2.71828])\n",
    "float_array\n",
    "float_array.dtype.name"
   ]
  },
  {
   "cell_type": "code",
   "execution_count": null,
   "id": "cea8d391",
   "metadata": {
    "scrolled": true
   },
   "outputs": [],
   "source": [
    "complex_array = np.array([1+2j, 3+2j, 5+2j], dtype=complex)\n",
    "complex_array"
   ]
  },
  {
   "cell_type": "code",
   "execution_count": null,
   "id": "f23eded1",
   "metadata": {
    "scrolled": true
   },
   "outputs": [],
   "source": [
    "za = np.zeros((3,3))\n",
    "za"
   ]
  },
  {
   "cell_type": "code",
   "execution_count": null,
   "id": "7b6230f8",
   "metadata": {
    "scrolled": true
   },
   "outputs": [],
   "source": [
    "import random\n",
    "\n",
    "a = np.zeros((2,3))\n",
    "\n",
    "for row in range(2):\n",
    "    for col in range(3):\n",
    "        a[row][col] = random.randint(0, 20)\n",
    "a"
   ]
  },
  {
   "cell_type": "code",
   "execution_count": null,
   "id": "e53c3fac",
   "metadata": {
    "scrolled": true
   },
   "outputs": [],
   "source": [
    "import random\n",
    "import numpy as np\n",
    "\n",
    "a = np.zeros((2,3))\n",
    "\n",
    "for row in range(2):\n",
    "    for col in range(3):\n",
    "        a[row,col] = random.randint(0, 20)\n",
    "a"
   ]
  },
  {
   "cell_type": "code",
   "execution_count": null,
   "id": "fa7f95de",
   "metadata": {
    "scrolled": true
   },
   "outputs": [],
   "source": [
    "np.ones((3,3))"
   ]
  },
  {
   "cell_type": "code",
   "execution_count": null,
   "id": "b565033c",
   "metadata": {},
   "outputs": [],
   "source": [
    "rg = range(5)  # range object 리턴\n",
    "for _ in rg:\n",
    "    print(_, end=\",\")\n",
    "    \n",
    "lst = list(rg)\n",
    "type(lst)"
   ]
  },
  {
   "cell_type": "code",
   "execution_count": null,
   "id": "c9d10d76",
   "metadata": {
    "scrolled": true
   },
   "outputs": [],
   "source": [
    "np.arange(5)  # ndarray 의 원소 범위"
   ]
  },
  {
   "cell_type": "code",
   "execution_count": null,
   "id": "2f4c0bcb",
   "metadata": {},
   "outputs": [],
   "source": [
    "np.arange(3, 6)"
   ]
  },
  {
   "cell_type": "code",
   "execution_count": null,
   "id": "4ee2d88d",
   "metadata": {},
   "outputs": [],
   "source": [
    "a = np.arange(3,10, 2)\n",
    "type(a)"
   ]
  },
  {
   "cell_type": "code",
   "execution_count": null,
   "id": "d90c7d4a",
   "metadata": {
    "scrolled": true
   },
   "outputs": [],
   "source": [
    "np.arange(1,10, 0.8)"
   ]
  },
  {
   "cell_type": "code",
   "execution_count": null,
   "id": "507b96f4",
   "metadata": {},
   "outputs": [],
   "source": [
    "a = np.arange(0,12)\n",
    "a"
   ]
  },
  {
   "cell_type": "code",
   "execution_count": null,
   "id": "723c8377",
   "metadata": {},
   "outputs": [],
   "source": [
    "a.shape"
   ]
  },
  {
   "cell_type": "code",
   "execution_count": null,
   "id": "70fa79b2",
   "metadata": {
    "scrolled": true
   },
   "outputs": [],
   "source": [
    "b = a.reshape(3,4)\n",
    "b"
   ]
  },
  {
   "cell_type": "code",
   "execution_count": null,
   "id": "aa0f6eae",
   "metadata": {},
   "outputs": [],
   "source": [
    "b.shape"
   ]
  },
  {
   "cell_type": "code",
   "execution_count": null,
   "id": "349db7bb",
   "metadata": {
    "scrolled": true
   },
   "outputs": [],
   "source": [
    "a.shape"
   ]
  },
  {
   "cell_type": "code",
   "execution_count": null,
   "id": "150c4607",
   "metadata": {
    "scrolled": true
   },
   "outputs": [],
   "source": [
    "a.reshape(2, -1)"
   ]
  },
  {
   "cell_type": "code",
   "execution_count": null,
   "id": "1cbd4821",
   "metadata": {},
   "outputs": [],
   "source": [
    "# 0~9 구간을 7개 수를 일정한 간격으로 추출하려면?, linearly spaced values\n",
    "np.linspace(0,10, 7)"
   ]
  },
  {
   "cell_type": "code",
   "execution_count": null,
   "id": "12f1b8ec",
   "metadata": {},
   "outputs": [],
   "source": [
    "np.linspace(0,10, 5)"
   ]
  },
  {
   "cell_type": "code",
   "execution_count": null,
   "id": "faee9fa9",
   "metadata": {
    "scrolled": true
   },
   "outputs": [],
   "source": [
    "np.linspace(0,10, 5, endpoint=True)"
   ]
  },
  {
   "cell_type": "code",
   "execution_count": null,
   "id": "fa4ef161",
   "metadata": {
    "scrolled": true
   },
   "outputs": [],
   "source": [
    "np.linspace(0,10, 5, endpoint=False)"
   ]
  },
  {
   "cell_type": "code",
   "execution_count": null,
   "id": "dd493701",
   "metadata": {
    "scrolled": true
   },
   "outputs": [],
   "source": [
    "np.random.random()"
   ]
  },
  {
   "cell_type": "code",
   "execution_count": null,
   "id": "d5d3f5b4",
   "metadata": {
    "scrolled": true
   },
   "outputs": [],
   "source": [
    "np.random.random(3)"
   ]
  },
  {
   "cell_type": "code",
   "execution_count": null,
   "id": "032a23de",
   "metadata": {
    "scrolled": true
   },
   "outputs": [],
   "source": [
    "np.random.random((3,3))"
   ]
  },
  {
   "cell_type": "code",
   "execution_count": null,
   "id": "34d83aa0",
   "metadata": {
    "scrolled": true
   },
   "outputs": [],
   "source": [
    "a = np.random.random(16).reshape((4,4))\n",
    "a"
   ]
  },
  {
   "cell_type": "code",
   "execution_count": null,
   "id": "c84c99f5",
   "metadata": {},
   "outputs": [],
   "source": [
    "a.data"
   ]
  },
  {
   "cell_type": "code",
   "execution_count": null,
   "id": "a9644dde",
   "metadata": {
    "scrolled": false
   },
   "outputs": [],
   "source": [
    "a1 = a.flatten()\n",
    "a1"
   ]
  },
  {
   "cell_type": "code",
   "execution_count": null,
   "id": "69020ccc",
   "metadata": {},
   "outputs": [],
   "source": [
    "a1.data"
   ]
  },
  {
   "cell_type": "code",
   "execution_count": null,
   "id": "a4015762",
   "metadata": {
    "scrolled": true
   },
   "outputs": [],
   "source": [
    "a.data   # <memory at 0x00000272A3063930>"
   ]
  },
  {
   "cell_type": "code",
   "execution_count": null,
   "id": "e0b73bb0",
   "metadata": {
    "scrolled": true
   },
   "outputs": [],
   "source": [
    "b = a.reshape(-1, 16)\n",
    "b.data  # <memory at 0x00000272A30635F0>"
   ]
  },
  {
   "cell_type": "code",
   "execution_count": null,
   "id": "6052fae3",
   "metadata": {},
   "outputs": [],
   "source": [
    "a = np.arange(4)\n",
    "a.data"
   ]
  },
  {
   "cell_type": "code",
   "execution_count": null,
   "id": "32be643f",
   "metadata": {},
   "outputs": [],
   "source": [
    "a1 = a + 1\n",
    "a1.data"
   ]
  },
  {
   "cell_type": "code",
   "execution_count": null,
   "id": "aca934fa",
   "metadata": {},
   "outputs": [],
   "source": [
    "a + [1,1,1,1]"
   ]
  },
  {
   "cell_type": "code",
   "execution_count": null,
   "id": "55da9964",
   "metadata": {},
   "outputs": [],
   "source": [
    "a, a1"
   ]
  },
  {
   "cell_type": "code",
   "execution_count": null,
   "id": "8804b833",
   "metadata": {},
   "outputs": [],
   "source": [
    "b = a*2\n",
    "b"
   ]
  },
  {
   "cell_type": "code",
   "execution_count": null,
   "id": "02530614",
   "metadata": {},
   "outputs": [],
   "source": [
    "# Element-wise \n",
    "a * np.sin(1.2)"
   ]
  },
  {
   "cell_type": "code",
   "execution_count": null,
   "id": "e1cd7386",
   "metadata": {
    "scrolled": true
   },
   "outputs": [],
   "source": [
    "np.sin(a)"
   ]
  },
  {
   "cell_type": "code",
   "execution_count": null,
   "id": "46605332",
   "metadata": {
    "scrolled": true
   },
   "outputs": [],
   "source": [
    "np.sqrt(a)  # universal function"
   ]
  },
  {
   "cell_type": "code",
   "execution_count": null,
   "id": "49f570fe",
   "metadata": {
    "scrolled": true
   },
   "outputs": [],
   "source": [
    "np.array([1,2,3]) * np.array([3,4,5])"
   ]
  },
  {
   "cell_type": "code",
   "execution_count": null,
   "id": "c8da4494",
   "metadata": {
    "scrolled": true
   },
   "outputs": [],
   "source": [
    "a = np.arange(6).reshape(2,-1)\n",
    "a"
   ]
  },
  {
   "cell_type": "code",
   "execution_count": null,
   "id": "f8b13b40",
   "metadata": {
    "scrolled": true
   },
   "outputs": [],
   "source": [
    "b = np.arange(6).reshape(3,-1)\n",
    "b"
   ]
  },
  {
   "cell_type": "code",
   "execution_count": null,
   "id": "027975b6",
   "metadata": {
    "scrolled": true
   },
   "outputs": [],
   "source": [
    "np.dot(a,b)   # dot product(내적, Inner Product)"
   ]
  },
  {
   "cell_type": "code",
   "execution_count": null,
   "id": "ca02851b",
   "metadata": {
    "scrolled": true
   },
   "outputs": [],
   "source": [
    "#dir(a)\n",
    "a.dot(b)  # a.b"
   ]
  },
  {
   "cell_type": "code",
   "execution_count": null,
   "id": "4c4afb4c",
   "metadata": {},
   "outputs": [],
   "source": [
    "a = np.arange(5)\n",
    "a"
   ]
  },
  {
   "cell_type": "code",
   "execution_count": null,
   "id": "47636196",
   "metadata": {
    "scrolled": true
   },
   "outputs": [],
   "source": [
    "a + 1"
   ]
  },
  {
   "cell_type": "code",
   "execution_count": null,
   "id": "7621bc93",
   "metadata": {},
   "outputs": [],
   "source": [
    "a"
   ]
  },
  {
   "cell_type": "code",
   "execution_count": null,
   "id": "97d9f016",
   "metadata": {
    "scrolled": true
   },
   "outputs": [],
   "source": [
    "a += 1\n",
    "a"
   ]
  },
  {
   "cell_type": "code",
   "execution_count": null,
   "id": "ac1b12ad",
   "metadata": {},
   "outputs": [],
   "source": [
    "a -= 1\n",
    "a"
   ]
  },
  {
   "cell_type": "code",
   "execution_count": null,
   "id": "b70e2d6b",
   "metadata": {
    "scrolled": true
   },
   "outputs": [],
   "source": [
    "dir(a)"
   ]
  },
  {
   "cell_type": "code",
   "execution_count": null,
   "id": "c5f79182",
   "metadata": {
    "scrolled": true
   },
   "outputs": [],
   "source": [
    "a = np.arange(5)\n",
    "a"
   ]
  },
  {
   "cell_type": "code",
   "execution_count": null,
   "id": "ac68e4ac",
   "metadata": {},
   "outputs": [],
   "source": [
    "a.sum()"
   ]
  },
  {
   "cell_type": "code",
   "execution_count": null,
   "id": "b20dd389",
   "metadata": {},
   "outputs": [],
   "source": [
    "a.max(), a.min(), a.mean(), a.std(ddof=0)"
   ]
  },
  {
   "cell_type": "code",
   "execution_count": null,
   "id": "d09b43c3",
   "metadata": {},
   "outputs": [],
   "source": [
    "np.std(a)"
   ]
  },
  {
   "cell_type": "code",
   "execution_count": null,
   "id": "1657c756",
   "metadata": {},
   "outputs": [],
   "source": [
    "#``std = sqrt(mean(x))``, where\n",
    "#``x = abs(a - a.mean())**2``"
   ]
  },
  {
   "cell_type": "code",
   "execution_count": null,
   "id": "d088a9fa",
   "metadata": {},
   "outputs": [],
   "source": [
    "# 평균(mean)\n",
    "# 분산(Variance) : 각원소와 평균의 차이의 제곱, 이들을 모두 합산, 그 값을 원소의 갯수로 나눔\n",
    "# 표준편차(std)  : 분산의 제곱근"
   ]
  },
  {
   "cell_type": "code",
   "execution_count": null,
   "id": "3d43cdd0",
   "metadata": {},
   "outputs": [],
   "source": [
    "a"
   ]
  },
  {
   "cell_type": "code",
   "execution_count": null,
   "id": "f64b1b86",
   "metadata": {
    "scrolled": true
   },
   "outputs": [],
   "source": [
    "np.sqrt(np.mean((a-a.mean())**2)), np.std(a)"
   ]
  },
  {
   "cell_type": "code",
   "execution_count": null,
   "id": "05193b46",
   "metadata": {},
   "outputs": [],
   "source": [
    "a = np.arange(10,16)\n",
    "a"
   ]
  },
  {
   "cell_type": "code",
   "execution_count": null,
   "id": "7bbf2b00",
   "metadata": {
    "scrolled": true
   },
   "outputs": [],
   "source": [
    "a[2], a[-1], a[0], a[-6]"
   ]
  },
  {
   "cell_type": "code",
   "execution_count": null,
   "id": "af992a6e",
   "metadata": {},
   "outputs": [],
   "source": [
    "a[a.size-1]"
   ]
  },
  {
   "cell_type": "code",
   "execution_count": null,
   "id": "fa43094e",
   "metadata": {
    "scrolled": true
   },
   "outputs": [],
   "source": [
    "a[[1,2,3]]"
   ]
  },
  {
   "cell_type": "code",
   "execution_count": null,
   "id": "ac712111",
   "metadata": {
    "scrolled": true
   },
   "outputs": [],
   "source": [
    "a = np.arange(1, 17).reshape(4,-1)\n",
    "a"
   ]
  },
  {
   "cell_type": "code",
   "execution_count": null,
   "id": "771874ff",
   "metadata": {},
   "outputs": [],
   "source": [
    "for e in a:\n",
    "    for i in e:\n",
    "        print(i, end=' ')"
   ]
  },
  {
   "cell_type": "code",
   "execution_count": null,
   "id": "e77455c1",
   "metadata": {},
   "outputs": [],
   "source": [
    "a[1][2], a[1,2], a[[1,2]]"
   ]
  },
  {
   "cell_type": "code",
   "execution_count": null,
   "id": "0ec17bb1",
   "metadata": {},
   "outputs": [],
   "source": [
    "# fancy indexing : 인덱서 안에 정수나 불리언 배열을 사용하여 배열의 값을 추출해내는 방법\n",
    "ba = np.array([True,False,False,False,False,False,False,False,False,False,False,False,False,False,False,False])\n",
    "ba = ba.reshape(4,-1)\n",
    "ba"
   ]
  },
  {
   "cell_type": "code",
   "execution_count": null,
   "id": "dd0021ea",
   "metadata": {
    "scrolled": true
   },
   "outputs": [],
   "source": [
    "a[ba]"
   ]
  },
  {
   "cell_type": "code",
   "execution_count": null,
   "id": "e6ceeb42",
   "metadata": {},
   "outputs": [],
   "source": [
    "a<2"
   ]
  },
  {
   "cell_type": "code",
   "execution_count": null,
   "id": "e97519ff",
   "metadata": {},
   "outputs": [],
   "source": [
    "a[a<2]"
   ]
  },
  {
   "cell_type": "code",
   "execution_count": null,
   "id": "97cb65c8",
   "metadata": {},
   "outputs": [],
   "source": [
    "a[1,2]"
   ]
  },
  {
   "cell_type": "code",
   "execution_count": null,
   "id": "f761b8fc",
   "metadata": {
    "scrolled": false
   },
   "outputs": [],
   "source": [
    "a[[1,2]]"
   ]
  },
  {
   "cell_type": "code",
   "execution_count": null,
   "id": "c84cd166",
   "metadata": {},
   "outputs": [],
   "source": [
    "nums = [1,2,3,4,5]\n",
    "nums[0:5]"
   ]
  },
  {
   "cell_type": "code",
   "execution_count": null,
   "id": "72a07451",
   "metadata": {},
   "outputs": [],
   "source": [
    "nums[0:]"
   ]
  },
  {
   "cell_type": "code",
   "execution_count": null,
   "id": "01a9dba9",
   "metadata": {
    "scrolled": true
   },
   "outputs": [],
   "source": [
    "nums[:]"
   ]
  },
  {
   "cell_type": "code",
   "execution_count": null,
   "id": "00cdecf7",
   "metadata": {
    "scrolled": false
   },
   "outputs": [],
   "source": [
    "nums[::2]"
   ]
  },
  {
   "cell_type": "code",
   "execution_count": null,
   "id": "5d53aac0",
   "metadata": {},
   "outputs": [],
   "source": [
    "nums[2]"
   ]
  },
  {
   "cell_type": "code",
   "execution_count": null,
   "id": "e57e83ce",
   "metadata": {},
   "outputs": [],
   "source": [
    "a = np.arange(10, 16)\n",
    "a"
   ]
  },
  {
   "cell_type": "code",
   "execution_count": null,
   "id": "0bb5535d",
   "metadata": {},
   "outputs": [],
   "source": [
    "a[1:5]"
   ]
  },
  {
   "cell_type": "code",
   "execution_count": null,
   "id": "39d8881c",
   "metadata": {},
   "outputs": [],
   "source": [
    "a[1:5:2]"
   ]
  },
  {
   "cell_type": "code",
   "execution_count": null,
   "id": "2c942ff8",
   "metadata": {
    "scrolled": true
   },
   "outputs": [],
   "source": [
    "a.data  # <memory at 0x00000272A3082A00>\n",
    "b = a[::]\n",
    "b.data  # <memory at 0x00000272A3177340>"
   ]
  },
  {
   "cell_type": "code",
   "execution_count": null,
   "id": "fae5d9ab",
   "metadata": {},
   "outputs": [],
   "source": [
    "nums = list(range(5))\n",
    "nums"
   ]
  },
  {
   "cell_type": "code",
   "execution_count": null,
   "id": "4f28fdc6",
   "metadata": {},
   "outputs": [],
   "source": [
    "nums2 = nums[:]\n",
    "nums2"
   ]
  },
  {
   "cell_type": "code",
   "execution_count": null,
   "id": "c1be5cb1",
   "metadata": {},
   "outputs": [],
   "source": [
    "nums2[0] = 5\n",
    "nums2"
   ]
  },
  {
   "cell_type": "code",
   "execution_count": null,
   "id": "e4fb0cdf",
   "metadata": {
    "scrolled": true
   },
   "outputs": [],
   "source": [
    "nums"
   ]
  },
  {
   "cell_type": "code",
   "execution_count": null,
   "id": "450275aa",
   "metadata": {},
   "outputs": [],
   "source": [
    "a = np.arange(5)\n",
    "a"
   ]
  },
  {
   "cell_type": "code",
   "execution_count": null,
   "id": "e47b2c70",
   "metadata": {
    "scrolled": true
   },
   "outputs": [],
   "source": [
    "b = a[:]   # 리스트에서는 슬라이싱 결과와 원본이 서로 다른 리스트가 된다. ndarray는 슬라이싱 결과도 원본참조\n",
    "b"
   ]
  },
  {
   "cell_type": "code",
   "execution_count": null,
   "id": "d3ccfb0b",
   "metadata": {},
   "outputs": [],
   "source": [
    "b[0] = 5\n",
    "b"
   ]
  },
  {
   "cell_type": "code",
   "execution_count": null,
   "id": "565e3c94",
   "metadata": {},
   "outputs": [],
   "source": [
    "a"
   ]
  },
  {
   "cell_type": "code",
   "execution_count": null,
   "id": "8738f548",
   "metadata": {},
   "outputs": [],
   "source": [
    "A = np.arange(10, 19).reshape(3,-1)\n",
    "A"
   ]
  },
  {
   "cell_type": "code",
   "execution_count": null,
   "id": "6108b342",
   "metadata": {},
   "outputs": [],
   "source": [
    "A[0, 1:]"
   ]
  },
  {
   "cell_type": "code",
   "execution_count": null,
   "id": "57ca0485",
   "metadata": {
    "scrolled": true
   },
   "outputs": [],
   "source": [
    "A[0:2, 1:]"
   ]
  },
  {
   "cell_type": "code",
   "execution_count": null,
   "id": "540fd924",
   "metadata": {
    "scrolled": true
   },
   "outputs": [],
   "source": [
    "A[:,0]"
   ]
  },
  {
   "cell_type": "code",
   "execution_count": null,
   "id": "b861d612",
   "metadata": {
    "scrolled": true
   },
   "outputs": [],
   "source": [
    "A[::2, 1:]"
   ]
  },
  {
   "cell_type": "code",
   "execution_count": null,
   "id": "cff1ace7",
   "metadata": {
    "scrolled": false
   },
   "outputs": [],
   "source": [
    "A[[0,2], 1:]"
   ]
  },
  {
   "cell_type": "code",
   "execution_count": null,
   "id": "adf9a665",
   "metadata": {},
   "outputs": [],
   "source": [
    "for row in A:\n",
    "    print(row)"
   ]
  },
  {
   "cell_type": "code",
   "execution_count": null,
   "id": "a41235b4",
   "metadata": {
    "scrolled": true
   },
   "outputs": [],
   "source": [
    "for n in A.flat:\n",
    "    print(n, end=' ')"
   ]
  },
  {
   "cell_type": "code",
   "execution_count": null,
   "id": "55f38c68",
   "metadata": {
    "scrolled": true
   },
   "outputs": [],
   "source": [
    "for n in A.flatten():\n",
    "    print(n, end=' ')"
   ]
  },
  {
   "cell_type": "code",
   "execution_count": null,
   "id": "1984afa7",
   "metadata": {
    "scrolled": true
   },
   "outputs": [],
   "source": [
    "for n in A.ravel():\n",
    "    print(n, end=' ')"
   ]
  },
  {
   "cell_type": "code",
   "execution_count": null,
   "id": "72942fa1",
   "metadata": {},
   "outputs": [],
   "source": [
    "np.apply_along_axis(np.max, axis=1, arr=A)"
   ]
  },
  {
   "cell_type": "code",
   "execution_count": null,
   "id": "7864cf7c",
   "metadata": {},
   "outputs": [],
   "source": [
    "odd_sum = 0\n",
    "\n",
    "for e in A.flat:\n",
    "    if e%2==1: odd_sum += e\n",
    "        \n",
    "print(f'홀수의 합={odd_sum}')"
   ]
  },
  {
   "cell_type": "code",
   "execution_count": null,
   "id": "c87dfd00",
   "metadata": {},
   "outputs": [],
   "source": [
    "A[A%2==1].sum()"
   ]
  },
  {
   "cell_type": "code",
   "execution_count": null,
   "id": "aa564e8c",
   "metadata": {},
   "outputs": [],
   "source": [
    "A[A%2==1].sum()"
   ]
  },
  {
   "cell_type": "code",
   "execution_count": null,
   "id": "a1262546",
   "metadata": {},
   "outputs": [],
   "source": [
    "A"
   ]
  },
  {
   "cell_type": "code",
   "execution_count": null,
   "id": "467dcf85",
   "metadata": {},
   "outputs": [],
   "source": [
    "A.data   # <memory at 0x00000272A31AF040>"
   ]
  },
  {
   "cell_type": "code",
   "execution_count": null,
   "id": "888b0e71",
   "metadata": {},
   "outputs": [],
   "source": [
    "A1 = A.reshape(1,-1)\n",
    "A1.data  # <memory at 0x00000272A31AF110>"
   ]
  },
  {
   "cell_type": "code",
   "execution_count": null,
   "id": "b4c6128f",
   "metadata": {
    "scrolled": true
   },
   "outputs": [],
   "source": [
    "A1.shape = (3,-1)\n",
    "A1"
   ]
  },
  {
   "cell_type": "code",
   "execution_count": null,
   "id": "efc19588",
   "metadata": {},
   "outputs": [],
   "source": [
    "A1.data"
   ]
  },
  {
   "cell_type": "code",
   "execution_count": null,
   "id": "92c267bd",
   "metadata": {},
   "outputs": [],
   "source": [
    "A1.shape = (9,)\n",
    "A1"
   ]
  },
  {
   "cell_type": "code",
   "execution_count": null,
   "id": "fdf4812b",
   "metadata": {
    "scrolled": true
   },
   "outputs": [],
   "source": [
    "A1.shape = (3,-1)\n",
    "A1"
   ]
  },
  {
   "cell_type": "code",
   "execution_count": null,
   "id": "50ba2d5a",
   "metadata": {},
   "outputs": [],
   "source": [
    "A"
   ]
  },
  {
   "cell_type": "code",
   "execution_count": null,
   "id": "a132804f",
   "metadata": {},
   "outputs": [],
   "source": [
    "A.transpose()"
   ]
  },
  {
   "cell_type": "code",
   "execution_count": null,
   "id": "5b8c3ae7",
   "metadata": {},
   "outputs": [],
   "source": [
    "A"
   ]
  },
  {
   "cell_type": "code",
   "execution_count": null,
   "id": "9d7a6c43",
   "metadata": {},
   "outputs": [],
   "source": [
    "A = np.ones((3,3))\n",
    "B = np.zeros((3,3))"
   ]
  },
  {
   "cell_type": "code",
   "execution_count": null,
   "id": "6331d4d0",
   "metadata": {
    "scrolled": true
   },
   "outputs": [],
   "source": [
    "np.vstack([A,B])"
   ]
  },
  {
   "cell_type": "code",
   "execution_count": null,
   "id": "f0fcf0d0",
   "metadata": {
    "scrolled": true
   },
   "outputs": [],
   "source": [
    "np.hstack([A,B])"
   ]
  },
  {
   "cell_type": "code",
   "execution_count": null,
   "id": "cc6ce173",
   "metadata": {
    "scrolled": true
   },
   "outputs": [],
   "source": [
    "np.column_stack([[1,2,3], [4,5,6], [7,8,9]])"
   ]
  },
  {
   "cell_type": "code",
   "execution_count": null,
   "id": "e38b9a04",
   "metadata": {
    "scrolled": false
   },
   "outputs": [],
   "source": [
    "np.row_stack([[1,2,3], [4,5,6], [7,8,9]])"
   ]
  },
  {
   "cell_type": "code",
   "execution_count": null,
   "id": "b4fe2b3c",
   "metadata": {
    "scrolled": true
   },
   "outputs": [],
   "source": [
    "A = np.arange(16).reshape(4,-1)\n",
    "A"
   ]
  },
  {
   "cell_type": "code",
   "execution_count": null,
   "id": "981be2d3",
   "metadata": {},
   "outputs": [],
   "source": [
    "np.hsplit(A, 2)"
   ]
  },
  {
   "cell_type": "code",
   "execution_count": null,
   "id": "cb4d7366",
   "metadata": {},
   "outputs": [],
   "source": [
    "(a1,a2) = np.hsplit(A, 2)"
   ]
  },
  {
   "cell_type": "code",
   "execution_count": null,
   "id": "77fcc699",
   "metadata": {},
   "outputs": [],
   "source": [
    "a1"
   ]
  },
  {
   "cell_type": "code",
   "execution_count": null,
   "id": "d791e997",
   "metadata": {
    "scrolled": true
   },
   "outputs": [],
   "source": [
    "np.vsplit(A, 2)"
   ]
  },
  {
   "cell_type": "code",
   "execution_count": null,
   "id": "b3973ce1",
   "metadata": {},
   "outputs": [],
   "source": [
    "A"
   ]
  },
  {
   "cell_type": "code",
   "execution_count": null,
   "id": "1707a821",
   "metadata": {},
   "outputs": [],
   "source": [
    "np.split(A, [1,3], axis=1)"
   ]
  },
  {
   "cell_type": "code",
   "execution_count": null,
   "id": "7438f842",
   "metadata": {
    "scrolled": true
   },
   "outputs": [],
   "source": [
    "np.split(A, [2,3], axis=0)"
   ]
  },
  {
   "cell_type": "code",
   "execution_count": null,
   "id": "1d79ace3",
   "metadata": {},
   "outputs": [],
   "source": [
    "a = np.array([1,2,3,4])\n",
    "a"
   ]
  },
  {
   "cell_type": "code",
   "execution_count": null,
   "id": "0538963d",
   "metadata": {},
   "outputs": [],
   "source": [
    "b = a\n",
    "b"
   ]
  },
  {
   "cell_type": "code",
   "execution_count": null,
   "id": "b40b2b2f",
   "metadata": {},
   "outputs": [],
   "source": [
    "b[2] = 0\n",
    "b"
   ]
  },
  {
   "cell_type": "code",
   "execution_count": null,
   "id": "c1bccd82",
   "metadata": {},
   "outputs": [],
   "source": [
    "a"
   ]
  },
  {
   "cell_type": "markdown",
   "id": "53f06002",
   "metadata": {},
   "source": [
    "## Views, Copies"
   ]
  },
  {
   "cell_type": "code",
   "execution_count": null,
   "id": "0df98fb4",
   "metadata": {},
   "outputs": [],
   "source": [
    "a = np.arange(1,5)\n",
    "a"
   ]
  },
  {
   "cell_type": "code",
   "execution_count": null,
   "id": "63421998",
   "metadata": {},
   "outputs": [],
   "source": [
    "b = a"
   ]
  },
  {
   "cell_type": "code",
   "execution_count": null,
   "id": "0b904489",
   "metadata": {},
   "outputs": [],
   "source": [
    "a[2] = 0"
   ]
  },
  {
   "cell_type": "code",
   "execution_count": null,
   "id": "299c1397",
   "metadata": {},
   "outputs": [],
   "source": [
    "b"
   ]
  },
  {
   "cell_type": "code",
   "execution_count": null,
   "id": "fc971c62",
   "metadata": {},
   "outputs": [],
   "source": [
    "c = a[0:2]\n",
    "c"
   ]
  },
  {
   "cell_type": "code",
   "execution_count": null,
   "id": "aee87aa9",
   "metadata": {},
   "outputs": [],
   "source": [
    "a[0] = 5\n",
    "c"
   ]
  },
  {
   "cell_type": "code",
   "execution_count": null,
   "id": "43bfe533",
   "metadata": {},
   "outputs": [],
   "source": [
    "a, c"
   ]
  },
  {
   "cell_type": "code",
   "execution_count": null,
   "id": "5f5f4701",
   "metadata": {},
   "outputs": [],
   "source": [
    "c[1] = 7\n",
    "c"
   ]
  },
  {
   "cell_type": "code",
   "execution_count": null,
   "id": "5c79d91e",
   "metadata": {},
   "outputs": [],
   "source": [
    "a"
   ]
  },
  {
   "cell_type": "code",
   "execution_count": null,
   "id": "89291b49",
   "metadata": {},
   "outputs": [],
   "source": [
    "a = np.arange(1,5)\n",
    "a"
   ]
  },
  {
   "cell_type": "code",
   "execution_count": null,
   "id": "1ff02111",
   "metadata": {},
   "outputs": [],
   "source": [
    "b = a.copy()"
   ]
  },
  {
   "cell_type": "code",
   "execution_count": null,
   "id": "b74e65dd",
   "metadata": {},
   "outputs": [],
   "source": [
    "b[0] = 5\n",
    "b"
   ]
  },
  {
   "cell_type": "code",
   "execution_count": null,
   "id": "52a2db45",
   "metadata": {},
   "outputs": [],
   "source": [
    "a"
   ]
  },
  {
   "cell_type": "code",
   "execution_count": null,
   "id": "53dd7a25",
   "metadata": {},
   "outputs": [],
   "source": [
    "v2 = np.array([1,2]) * np.array([3,4])\n",
    "v2"
   ]
  },
  {
   "cell_type": "code",
   "execution_count": null,
   "id": "f8e08461",
   "metadata": {},
   "outputs": [],
   "source": [
    "a"
   ]
  },
  {
   "cell_type": "code",
   "execution_count": null,
   "id": "d96f5cbb",
   "metadata": {},
   "outputs": [],
   "source": [
    "a * 2"
   ]
  },
  {
   "cell_type": "code",
   "execution_count": null,
   "id": "b8515648",
   "metadata": {},
   "outputs": [],
   "source": [
    "a * [2,2,2,2]"
   ]
  },
  {
   "cell_type": "code",
   "execution_count": null,
   "id": "d1b03ce1",
   "metadata": {},
   "outputs": [],
   "source": [
    "a"
   ]
  },
  {
   "cell_type": "code",
   "execution_count": null,
   "id": "21ab9b23",
   "metadata": {},
   "outputs": [],
   "source": [
    "np.save('saved_ndarray', a)    # .npy\n",
    "print('파일에 저장성공')"
   ]
  },
  {
   "cell_type": "code",
   "execution_count": null,
   "id": "ad92bf85",
   "metadata": {},
   "outputs": [],
   "source": [
    "fa = np.load('saved_ndarray.npy')\n",
    "fa"
   ]
  },
  {
   "cell_type": "code",
   "execution_count": null,
   "id": "9610d7da",
   "metadata": {},
   "outputs": [],
   "source": [
    "# csv ( Comma Separated Values)\n",
    "# sample.csv\n",
    "'''\n",
    "id,value1,value2,value3\n",
    "1,123,1.4,23\n",
    "2,110,0.5,18\n",
    "3,164,2.1,19\n",
    "'''"
   ]
  },
  {
   "cell_type": "code",
   "execution_count": null,
   "id": "b1c55847",
   "metadata": {},
   "outputs": [],
   "source": [
    "ta = np.genfromtxt('sample.csv', delimiter=',', names=True)"
   ]
  },
  {
   "cell_type": "code",
   "execution_count": null,
   "id": "85255f9c",
   "metadata": {},
   "outputs": [],
   "source": [
    "ta[0][1]"
   ]
  },
  {
   "cell_type": "code",
   "execution_count": null,
   "id": "db8cdb71",
   "metadata": {},
   "outputs": [],
   "source": [
    "ta[0]"
   ]
  },
  {
   "cell_type": "code",
   "execution_count": null,
   "id": "852c7239",
   "metadata": {},
   "outputs": [],
   "source": [
    "type(ta), ta.ndim, ta.shape"
   ]
  },
  {
   "cell_type": "code",
   "execution_count": null,
   "id": "2e5a050e",
   "metadata": {},
   "outputs": [],
   "source": [
    "ta['id']"
   ]
  },
  {
   "cell_type": "code",
   "execution_count": null,
   "id": "7e039511",
   "metadata": {},
   "outputs": [],
   "source": [
    "ta = np.genfromtxt('sample.csv', delimiter=',', names=True, dtype=float)\n",
    "ta"
   ]
  },
  {
   "cell_type": "code",
   "execution_count": null,
   "id": "1e7cc387",
   "metadata": {
    "scrolled": true
   },
   "outputs": [],
   "source": [
    "ta.ndim, ta.shape, ta.size"
   ]
  },
  {
   "cell_type": "markdown",
   "id": "3fee1695",
   "metadata": {},
   "source": [
    "## numpy 데이터 삭제"
   ]
  },
  {
   "cell_type": "code",
   "execution_count": null,
   "id": "c8fd0eba",
   "metadata": {},
   "outputs": [],
   "source": [
    "import numpy as np\n",
    "\n",
    "arr = np.array([1, 2, 3, 4, 5])\n",
    "arr = np.delete(arr, 2)\n",
    "arr"
   ]
  },
  {
   "cell_type": "code",
   "execution_count": null,
   "id": "ee6a685d",
   "metadata": {},
   "outputs": [],
   "source": [
    "arr = np.array([\"Alice\", \"Bob\", \"Charlie\", \"David\", \"Eric\"])\n",
    "arr = np.delete(arr, [0, 1, 2])\n",
    "print(arr)"
   ]
  },
  {
   "cell_type": "code",
   "execution_count": null,
   "id": "2ef9b891",
   "metadata": {},
   "outputs": [],
   "source": [
    "arr = np.array([[1 ,2, 3, 4],\n",
    "                [5, 6, 7, 8],\n",
    "                [9, 10, 11, 12]])\n",
    "arr = np.delete(arr, 1, axis=1)\n",
    "print(arr)"
   ]
  },
  {
   "cell_type": "code",
   "execution_count": null,
   "id": "820d4e0d",
   "metadata": {},
   "outputs": [],
   "source": [
    "arr = np.array([[1 ,2, 3, 4],\n",
    "                [5, 6, 7, 8],\n",
    "                [9, 10, 11, 12]])\n",
    "arr = np.delete(arr, [0,3], axis=1)\n",
    "print(arr)"
   ]
  },
  {
   "cell_type": "code",
   "execution_count": null,
   "id": "b100054c",
   "metadata": {},
   "outputs": [],
   "source": [
    "arr = np.array([[1 ,2, 3, 4],\n",
    "                [5, 6, 7, 8],\n",
    "                [9, 10, 11, 12]])\n",
    "arr = np.delete(arr, 0, axis=0)\n",
    "print(arr)"
   ]
  },
  {
   "cell_type": "code",
   "execution_count": null,
   "id": "59f5a5f4",
   "metadata": {},
   "outputs": [],
   "source": [
    "arr = np.array([[1 ,2, 3, 4],\n",
    "                [5, 6, 7, 8],\n",
    "                [9, 10, 11, 12]])\n",
    "arr = np.delete(arr, [0, 2], axis=0)\n",
    "print(arr)"
   ]
  },
  {
   "cell_type": "code",
   "execution_count": null,
   "id": "e19e978c",
   "metadata": {},
   "outputs": [],
   "source": [
    "arr = np.array([1, 1, 1, 1, 2, 3, 4])\n",
    "arr = np.delete(arr, np.where(arr == 1))\n",
    "print(arr)"
   ]
  },
  {
   "cell_type": "code",
   "execution_count": 11,
   "id": "f13667fc",
   "metadata": {},
   "outputs": [
    {
     "data": {
      "text/plain": [
       "array([0, 1, 2, 3, 4, 5, 6, 7, 8, 9])"
      ]
     },
     "execution_count": 11,
     "metadata": {},
     "output_type": "execute_result"
    }
   ],
   "source": [
    "# 검색\n",
    "import numpy as np\n",
    "a = np.arange(10)\n",
    "a"
   ]
  },
  {
   "cell_type": "code",
   "execution_count": 12,
   "id": "12c184d5",
   "metadata": {},
   "outputs": [
    {
     "name": "stdout",
     "output_type": "stream",
     "text": [
      "5의 위치=(array([5], dtype=int64),)\n"
     ]
    }
   ],
   "source": [
    "idx = np.where(a==5)\n",
    "print('{}의 위치={}'.format(5, idx))"
   ]
  },
  {
   "cell_type": "markdown",
   "id": "ed9e3f06",
   "metadata": {},
   "source": [
    "## numpy CRUD 실습"
   ]
  },
  {
   "cell_type": "code",
   "execution_count": 1,
   "id": "98eb79ec",
   "metadata": {},
   "outputs": [],
   "source": [
    "import numpy as np"
   ]
  },
  {
   "cell_type": "code",
   "execution_count": 2,
   "id": "a790b2e0",
   "metadata": {},
   "outputs": [],
   "source": [
    "names = np.array(['scott','jone','lora','blake','andy'])\n",
    "subjects = np.array(['Java','Spring','Python'])\n",
    "stid = np.array([11,12,13,14,15])\n",
    "scores = np.zeros((5,3))"
   ]
  },
  {
   "cell_type": "code",
   "execution_count": 3,
   "id": "bf3244d0",
   "metadata": {},
   "outputs": [],
   "source": [
    "m_dic= {'s':'LIST', 'a':'ADD','f':'FIND','u':'UPDATE','d':'DELETE', 'x':'EXIT'}\n",
    "def menu():\n",
    "    print('================================================================')\n",
    "    m = input('목록(s), 추가(a), 검색(번호로 검색, f), 수정(u), 삭제(d), 종료(x):')\n",
    "    return m_dic.get(m)"
   ]
  },
  {
   "cell_type": "code",
   "execution_count": 4,
   "id": "032b9ab6",
   "metadata": {},
   "outputs": [],
   "source": [
    "def add():\n",
    "    sNum, name = input('번호 이름').split()\n",
    "    num = int(sNum.strip())\n",
    "    idx = np.where(stid==num)\n",
    "    if names[idx]!=name:\n",
    "        print('일치하는 번호와 이름이 없습니다')\n",
    "    else:\n",
    "        s1,s2,s3 = input('S1, S2, S3 과목 성적:').split()\n",
    "        score1 = int(s1.strip())\n",
    "        score2 = int(s2.strip())\n",
    "        score3 = int(s3.strip())\n",
    "        scores[idx] = [score1,score2,score3]\n",
    "        np.save('scores', scores)\n",
    "        print('성적입력 성공')"
   ]
  },
  {
   "cell_type": "code",
   "execution_count": 5,
   "id": "f93e7665",
   "metadata": {},
   "outputs": [],
   "source": [
    "def list():\n",
    "    print('================================================================')\n",
    "    # 컬럼명\n",
    "    print('번호\\t이름', end='')\n",
    "    for s in subjects:\n",
    "        print(f'\\t{s}', end='')\n",
    "    print()\n",
    "    print('--------------------------------------')\n",
    "    \n",
    "    # 데이터\n",
    "    global scores\n",
    "    try:\n",
    "        tmp = np.load('scores.npy')\n",
    "        scores = tmp\n",
    "    except IOError as ioe:\n",
    "        pass\n",
    "    for i in range(len(names)):\n",
    "        print('{}\\t{}\\t'.format(stid[i],names[i]), end='')\n",
    "        for s in scores[i]:\n",
    "            print('{}\\t'.format(s), end='')\n",
    "        print()"
   ]
  },
  {
   "cell_type": "code",
   "execution_count": 6,
   "id": "a4f831c1",
   "metadata": {},
   "outputs": [],
   "source": [
    "def print_by_index(idx):\n",
    "    print('================================================================')\n",
    "    # 컬럼명\n",
    "    print('번호\\t이름', end='')\n",
    "    for s in subjects:\n",
    "        print(f'\\t{s}', end='')\n",
    "    print()\n",
    "    print('--------------------------------------')\n",
    "    \n",
    "    num = stid[idx]\n",
    "    name = names[idx]\n",
    "    print('{}\\t{}\\t'.format(num[0],name[0]), end='')\n",
    "    st_score = scores[idx][0]\n",
    "    for s in st_score:\n",
    "        print(f'{s}\\t', end='')\n",
    "    print()"
   ]
  },
  {
   "cell_type": "code",
   "execution_count": 7,
   "id": "cf503432",
   "metadata": {},
   "outputs": [],
   "source": [
    "def find():\n",
    "    sNum = input('학생 번호:')\n",
    "    num = int(sNum)\n",
    "    idx = np.where(stid==num)\n",
    "    print_by_index(idx)"
   ]
  },
  {
   "cell_type": "code",
   "execution_count": 8,
   "id": "c576a4d0",
   "metadata": {},
   "outputs": [],
   "source": [
    "def update():\n",
    "    tmp = input('학생번호:')\n",
    "    st_num = int(tmp.strip())\n",
    "    idx = np.where(stid==st_num)\n",
    "    \n",
    "    tmp = input('과목번호(0,1,2) 새 성적:')\n",
    "    subject_idx, new_score = tmp.strip().split()\n",
    "    scores[idx, int(subject_idx)] = int(new_score)\n",
    "    np.save('scores', scores)\n",
    "    print('--------> 성적 수정 성공')"
   ]
  },
  {
   "cell_type": "code",
   "execution_count": 9,
   "id": "1d2e22af",
   "metadata": {},
   "outputs": [],
   "source": [
    "def delete():\n",
    "    global stid\n",
    "    global names\n",
    "    global scores\n",
    "    global subjects\n",
    "    \n",
    "    tmp = input('학생정보 삭제(0) 과목삭제(1):')\n",
    "    axis = int(tmp)\n",
    "    if axis==0:\n",
    "        tmp = input('삭제할 학생번호:')\n",
    "        st_num = int(tmp.strip())\n",
    "        idx = np.where(stid==st_num)\n",
    "        stid = np.delete(stid, idx)\n",
    "        names = np.delete(names, idx)\n",
    "        scores = np.delete(scores, idx, axis=0)\n",
    "        print('-------------> 학생정보 삭제 성공')\n",
    "    elif axis==1:\n",
    "        tmp = input('삭제할 과목번호(0,1,2):')\n",
    "        idx = int(tmp.strip())\n",
    "        subjects = np.delete(subjects, idx)\n",
    "        scores = np.delete(scores, idx, axis=1)\n",
    "        print('-------------> 과목 삭제 성공')"
   ]
  },
  {
   "cell_type": "code",
   "execution_count": 10,
   "id": "3b8a606f",
   "metadata": {},
   "outputs": [
    {
     "name": "stdout",
     "output_type": "stream",
     "text": [
      "================================================================\n",
      "목록(s), 추가(a), 검색(번호로 검색, f), 수정(u), 삭제(d), 종료(x):s\n",
      "================================================================\n",
      "번호\t이름\tJava\tSpring\tPython\n",
      "--------------------------------------\n",
      "11\tscott\t85.0\t90.0\t93.0\t\n",
      "12\tjone\t90.0\t76.0\t89.0\t\n",
      "13\tlora\t90.0\t89.0\t89.0\t\n",
      "14\tblake\t93.0\t78.0\t86.0\t\n",
      "15\tandy\t79.0\t87.0\t88.0\t\n",
      "================================================================\n",
      "목록(s), 추가(a), 검색(번호로 검색, f), 수정(u), 삭제(d), 종료(x):f\n",
      "학생 번호:13\n",
      "================================================================\n",
      "번호\t이름\tJava\tSpring\tPython\n",
      "--------------------------------------\n",
      "13\tlora\t90.0\t89.0\t89.0\t\n",
      "================================================================\n",
      "목록(s), 추가(a), 검색(번호로 검색, f), 수정(u), 삭제(d), 종료(x):u\n",
      "학생번호:13\n",
      "과목번호(0,1,2) 새 성적:2 83\n",
      "--------> 성적 수정 성공\n",
      "================================================================\n",
      "목록(s), 추가(a), 검색(번호로 검색, f), 수정(u), 삭제(d), 종료(x):s\n",
      "================================================================\n",
      "번호\t이름\tJava\tSpring\tPython\n",
      "--------------------------------------\n",
      "11\tscott\t85.0\t90.0\t93.0\t\n",
      "12\tjone\t90.0\t76.0\t89.0\t\n",
      "13\tlora\t90.0\t89.0\t83.0\t\n",
      "14\tblake\t93.0\t78.0\t86.0\t\n",
      "15\tandy\t79.0\t87.0\t88.0\t\n",
      "================================================================\n",
      "목록(s), 추가(a), 검색(번호로 검색, f), 수정(u), 삭제(d), 종료(x):f\n",
      "학생 번호:13\n",
      "================================================================\n",
      "번호\t이름\tJava\tSpring\tPython\n",
      "--------------------------------------\n",
      "13\tlora\t90.0\t89.0\t83.0\t\n",
      "================================================================\n",
      "목록(s), 추가(a), 검색(번호로 검색, f), 수정(u), 삭제(d), 종료(x):s\n",
      "================================================================\n",
      "번호\t이름\tJava\tSpring\tPython\n",
      "--------------------------------------\n",
      "11\tscott\t85.0\t90.0\t93.0\t\n",
      "12\tjone\t90.0\t76.0\t89.0\t\n",
      "13\tlora\t90.0\t89.0\t83.0\t\n",
      "14\tblake\t93.0\t78.0\t86.0\t\n",
      "15\tandy\t79.0\t87.0\t88.0\t\n",
      "================================================================\n",
      "목록(s), 추가(a), 검색(번호로 검색, f), 수정(u), 삭제(d), 종료(x):d\n",
      "학생정보 삭제(0) 과목삭제(1):0\n",
      "삭제할 학생번호:11\n",
      "-------------> 학생정보 삭제 성공\n",
      "================================================================\n",
      "목록(s), 추가(a), 검색(번호로 검색, f), 수정(u), 삭제(d), 종료(x):s\n",
      "================================================================\n",
      "번호\t이름\tJava\tSpring\tPython\n",
      "--------------------------------------\n",
      "12\tjone\t85.0\t90.0\t93.0\t\n",
      "13\tlora\t90.0\t76.0\t89.0\t\n",
      "14\tblake\t90.0\t89.0\t83.0\t\n",
      "15\tandy\t93.0\t78.0\t86.0\t\n",
      "================================================================\n",
      "목록(s), 추가(a), 검색(번호로 검색, f), 수정(u), 삭제(d), 종료(x):x\n",
      "--------> 프로그램 종료\n"
     ]
    }
   ],
   "source": [
    "go = True\n",
    "while go:\n",
    "    m = menu()\n",
    "    if m == 'LIST':\n",
    "        list()\n",
    "    elif m=='ADD':\n",
    "        add()\n",
    "    elif m=='FIND':\n",
    "        find()\n",
    "    elif m=='UPDATE':\n",
    "        update()\n",
    "    elif m=='DELETE':\n",
    "        delete()\n",
    "    elif m=='EXIT':\n",
    "        go = False\n",
    "    else:\n",
    "        print('--------> 메뉴입력 오류')\n",
    "        \n",
    "print('--------> 프로그램 종료')"
   ]
  },
  {
   "cell_type": "code",
   "execution_count": null,
   "id": "d4c86802",
   "metadata": {},
   "outputs": [],
   "source": []
  }
 ],
 "metadata": {
  "kernelspec": {
   "display_name": "Python 3 (ipykernel)",
   "language": "python",
   "name": "python3"
  },
  "language_info": {
   "codemirror_mode": {
    "name": "ipython",
    "version": 3
   },
   "file_extension": ".py",
   "mimetype": "text/x-python",
   "name": "python",
   "nbconvert_exporter": "python",
   "pygments_lexer": "ipython3",
   "version": "3.9.12"
  }
 },
 "nbformat": 4,
 "nbformat_minor": 5
}
