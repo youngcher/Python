{
 "cells": [
  {
   "cell_type": "markdown",
   "id": "d2016419-b65a-4df6-b9f3-f2edf0c50cd8",
   "metadata": {},
   "source": [
    "# scikitlearn 패키지를 활용한 선형회귀(Linear Regression)"
   ]
  },
  {
   "cell_type": "markdown",
   "id": "0d0abd3a-034e-4b3c-999e-d61083a632be",
   "metadata": {},
   "source": [
    "* 직선의 방정식 : y = a*x + b\n",
    "* Data(학습용/검증용)\n",
    "* model.fit()  #학습\n",
    "* model.score()  #얼마나 잘 맞았는가"
   ]
  },
  {
   "cell_type": "code",
   "execution_count": 104,
   "id": "afa4b637-f600-4b6f-b12d-a9210ad45709",
   "metadata": {},
   "outputs": [],
   "source": [
    "import numpy as np\n",
    "import matplotlib.pyplot as plt\n",
    "from sklearn import linear_model"
   ]
  },
  {
   "cell_type": "code",
   "execution_count": 149,
   "id": "4a5fac0e-93e3-4098-b582-dc41a94b5975",
   "metadata": {},
   "outputs": [
    {
     "data": {
      "text/plain": [
       "array([ 0,  1,  2,  3,  4,  5,  6,  7,  8,  9, 10, 11, 12, 13, 14, 15, 16,\n",
       "       17, 18, 19, 20, 21, 22, 23, 24, 25, 26, 27, 28, 29, 30, 31, 32, 33,\n",
       "       34, 35, 36, 37, 38, 39, 40, 41, 42, 43, 44, 45, 46, 47, 48, 49, 50,\n",
       "       51, 52, 53, 54, 55, 56, 57, 58, 59, 60, 61, 62, 63, 64, 65, 66, 67,\n",
       "       68, 69, 70, 71, 72, 73, 74, 75, 76, 77, 78, 79, 80, 81, 82, 83, 84,\n",
       "       85, 86, 87, 88, 89, 90, 91, 92, 93, 94, 95, 96, 97, 98, 99])"
      ]
     },
     "execution_count": 149,
     "metadata": {},
     "output_type": "execute_result"
    }
   ],
   "source": [
    "x = np.arange(100)\n",
    "x"
   ]
  },
  {
   "cell_type": "code",
   "execution_count": 150,
   "id": "6c3f2d83-fadd-4b38-a65a-e0f980c394be",
   "metadata": {},
   "outputs": [
    {
     "data": {
      "text/plain": [
       "[<matplotlib.lines.Line2D at 0x173892416a0>]"
      ]
     },
     "execution_count": 150,
     "metadata": {},
     "output_type": "execute_result"
    },
    {
     "data": {
      "image/png": "[encoded data removed]",
      "text/plain": [
       "<Figure size 432x288 with 1 Axes>"
      ]
     },
     "metadata": {
      "needs_background": "light"
     },
     "output_type": "display_data"
    }
   ],
   "source": [
    "plt.plot(x)"
   ]
  },
  {
   "cell_type": "code",
   "execution_count": 151,
   "id": "bd5d1c3c-93a1-4736-8f5b-6fe6987ba61a",
   "metadata": {},
   "outputs": [
    {
     "data": {
      "text/plain": [
       "array([-13,  -8,   0,   2, -10,  14,  15,  17,  -6,  13,   9,  11,  24,\n",
       "        20,  15,  15,   8,  19,  22,  11,  29,  24,  30,   8,  23,  20,\n",
       "        19,  39,  27,  14,  27,  32,  34,  45,  27,  40,  24,  39,  34,\n",
       "        31,  34,  26,  37,  40,  46,  41,  48,  43,  62,  58,  64,  58,\n",
       "        37,  59,  43,  40,  59,  62,  72,  64,  56,  68,  72,  48,  76,\n",
       "        57,  56,  65,  82,  61,  66,  57,  66,  68,  78,  74,  84,  82,\n",
       "        70,  91,  92,  67,  73,  95,  89,  92,  82,  79, 101, 102,  89,\n",
       "        94, 103,  88,  93,  93,  95, 101,  88,  89])"
      ]
     },
     "execution_count": 151,
     "metadata": {},
     "output_type": "execute_result"
    }
   ],
   "source": [
    "rd = np.random.randint(-15,15,100)\n",
    "y = x+rd\n",
    "y"
   ]
  },
  {
   "cell_type": "code",
   "execution_count": 152,
   "id": "1f055cd0-886d-41f1-a619-c1a07d66bc18",
   "metadata": {},
   "outputs": [
    {
     "data": {
      "text/plain": [
       "<matplotlib.collections.PathCollection at 0x17389377700>"
      ]
     },
     "execution_count": 152,
     "metadata": {},
     "output_type": "execute_result"
    },
    {
     "data": {
      "image/png": "[encoded data removed]",
      "text/plain": [
       "<Figure size 432x288 with 1 Axes>"
      ]
     },
     "metadata": {
      "needs_background": "light"
     },
     "output_type": "display_data"
    }
   ],
   "source": [
    "plt.scatter(x,y)"
   ]
  },
  {
   "cell_type": "code",
   "execution_count": 153,
   "id": "03a7f1b0-2c5f-44f5-ba14-7ad97e9c0f5f",
   "metadata": {},
   "outputs": [
    {
     "data": {
      "text/plain": [
       "(20, 20)"
      ]
     },
     "execution_count": 153,
     "metadata": {},
     "output_type": "execute_result"
    }
   ],
   "source": [
    "x_train = x[:80]\n",
    "y_train = y[:80]\n",
    "\n",
    "x_test = x[-20:]\n",
    "y_test = y[-20:]\n",
    "\n",
    "len(x_test), len(y_test)"
   ]
  },
  {
   "cell_type": "code",
   "execution_count": 154,
   "id": "29609d0c-61ca-4b1b-a1b5-8a7edb2466b5",
   "metadata": {},
   "outputs": [
    {
     "data": {
      "text/plain": [
       "((80, 1), (80,))"
      ]
     },
     "execution_count": 154,
     "metadata": {},
     "output_type": "execute_result"
    }
   ],
   "source": [
    "X_train = x_train.reshape(-1,1)\n",
    "X_train.shape, x_train.shape"
   ]
  },
  {
   "cell_type": "code",
   "execution_count": 155,
   "id": "eff87b67-2697-4747-8893-81da22dbb900",
   "metadata": {},
   "outputs": [],
   "source": [
    "lin_reg = linear_model.LinearRegression()"
   ]
  },
  {
   "cell_type": "code",
   "execution_count": 156,
   "id": "b83bbf10-6fa0-4b53-bbb0-7a4829a5fe74",
   "metadata": {},
   "outputs": [
    {
     "data": {
      "text/plain": [
       "LinearRegression()"
      ]
     },
     "execution_count": 156,
     "metadata": {},
     "output_type": "execute_result"
    }
   ],
   "source": [
    "#학습데이터 입력\n",
    "lin_reg.fit(X_train, y_train)"
   ]
  },
  {
   "cell_type": "code",
   "execution_count": 157,
   "id": "3dd558d5-cea5-447d-a7fd-ad774bdd9fba",
   "metadata": {},
   "outputs": [
    {
     "data": {
      "text/plain": [
       "(array([1.0157759]), -1.1981481481481495)"
      ]
     },
     "execution_count": 157,
     "metadata": {},
     "output_type": "execute_result"
    }
   ],
   "source": [
    "# 기울기와 y절편이 나온다.\n",
    "lin_reg.coef_, lin_reg.intercept_"
   ]
  },
  {
   "cell_type": "code",
   "execution_count": 158,
   "id": "6f81447d-0b00-4926-967b-ab74e76784dc",
   "metadata": {},
   "outputs": [
    {
     "data": {
      "text/plain": [
       "array([80.06392405, 81.07969995, 82.09547586, 83.11125176, 84.12702766,\n",
       "       85.14280356, 86.15857947, 87.17435537, 88.19013127, 89.20590717,\n",
       "       90.22168308, 91.23745898, 92.25323488, 93.26901078, 94.28478669,\n",
       "       95.30056259, 96.31633849, 97.33211439, 98.3478903 , 99.3636662 ])"
      ]
     },
     "execution_count": 158,
     "metadata": {},
     "output_type": "execute_result"
    }
   ],
   "source": [
    "#기울기로 결과값 예측\n",
    "lin_reg.predict(x_test.reshape(-1,1))"
   ]
  },
  {
   "cell_type": "code",
   "execution_count": 159,
   "id": "772229fc-3023-47b4-85d7-10d3e527aee6",
   "metadata": {},
   "outputs": [
    {
     "data": {
      "text/plain": [
       "0.13454816680659554"
      ]
     },
     "execution_count": 159,
     "metadata": {},
     "output_type": "execute_result"
    }
   ],
   "source": [
    "#정확도 테스트: 1에 가까울 수록 잘 맞는다.\n",
    "lin_reg.score(x_test.reshape(-1,1), y_test)"
   ]
  },
  {
   "cell_type": "code",
   "execution_count": 161,
   "id": "b9cb4231-fcb8-4af2-9037-c8fb399ec92e",
   "metadata": {},
   "outputs": [
    {
     "data": {
      "text/plain": [
       "[<matplotlib.lines.Line2D at 0x1738987ceb0>]"
      ]
     },
     "execution_count": 161,
     "metadata": {},
     "output_type": "execute_result"
    },
    {
     "data": {
      "image/png": "[encoded data removed]",
      "text/plain": [
       "<Figure size 432x288 with 1 Axes>"
      ]
     },
     "metadata": {
      "needs_background": "light"
     },
     "output_type": "display_data"
    }
   ],
   "source": [
    "plt.scatter(x,y,s=8)\n",
    "\n",
    "a = lin_reg.coef_\n",
    "b = lin_reg.intercept_\n",
    "y2 = a*x + b\n",
    "\n",
    "plt.plot(x,y2, 'r')"
   ]
  },
  {
   "cell_type": "code",
   "execution_count": 244,
   "id": "e8520529-9eb5-4259-b8ca-5df25c7d5868",
   "metadata": {},
   "outputs": [
    {
     "name": "stdout",
     "output_type": "stream",
     "text": [
      "기울기:  [0.5]\n",
      "y 절편:  20.0\n"
     ]
    },
    {
     "data": {
      "text/plain": [
       "(0.0, 100.0)"
      ]
     },
     "execution_count": 244,
     "metadata": {},
     "output_type": "execute_result"
    },
    {
     "data": {
      "image/png": "[encoded data removed]",
      "text/plain": [
       "<Figure size 432x288 with 1 Axes>"
      ]
     },
     "metadata": {
      "needs_background": "light"
     },
     "output_type": "display_data"
    }
   ],
   "source": [
    "x = np.arange(100)\n",
    "y = np.arange(20,70,0.500000000002)\n",
    "\n",
    "lin_reg.fit(x.reshape(-1,1), y)\n",
    "\n",
    "plt.scatter(x,y,s=8)\n",
    "\n",
    "a = lin_reg.coef_\n",
    "b = lin_reg.intercept_\n",
    "y2 = a*x + b\n",
    "\n",
    "print(\"기울기: \",lin_reg.coef_), print(\"y 절편: \",lin_reg.intercept_)\n",
    "\n",
    "plt.plot(x,y2, 'r')\n",
    "\n",
    "#x축, y축 세팅\n",
    "plt.axis([0,100,0,100])\n",
    "\n",
    "plt.ylim(0,100)"
   ]
  },
  {
   "cell_type": "code",
   "execution_count": 254,
   "id": "a5581f1e-58d0-43bd-883d-d93a8501699d",
   "metadata": {},
   "outputs": [
    {
     "data": {
      "text/plain": [
       "<matplotlib.collections.PathCollection at 0x173905360d0>"
      ]
     },
     "execution_count": 254,
     "metadata": {},
     "output_type": "execute_result"
    },
    {
     "data": {
      "image/png": "[encoded data removed]",
      "text/plain": [
       "<Figure size 432x288 with 1 Axes>"
      ]
     },
     "metadata": {
      "needs_background": "light"
     },
     "output_type": "display_data"
    }
   ],
   "source": [
    "x = np.arange(100)\n",
    "y = 0.5*x + 20\n",
    "noise = np.random.randint(-10,10,100)\n",
    "y2 = y+noise\n",
    "\n",
    "plt.axis([0,100,0,100])\n",
    "\n",
    "plt.scatter(x,y2,s=5)"
   ]
  },
  {
   "cell_type": "code",
   "execution_count": 262,
   "id": "8d701334-a123-44fd-b7cb-1562843162f6",
   "metadata": {},
   "outputs": [
    {
     "name": "stdout",
     "output_type": "stream",
     "text": [
      "기울기:  [0.5]\n",
      "y 절편:  20.0\n"
     ]
    },
    {
     "data": {
      "text/plain": [
       "(0.0, 100.0)"
      ]
     },
     "execution_count": 262,
     "metadata": {},
     "output_type": "execute_result"
    },
    {
     "data": {
      "image/png": "[encoded data removed]",
      "text/plain": [
       "<Figure size 432x288 with 1 Axes>"
      ]
     },
     "metadata": {
      "needs_background": "light"
     },
     "output_type": "display_data"
    }
   ],
   "source": [
    "x_train = x[:90]\n",
    "y_train = y[:90]\n",
    "\n",
    "x_test = x[-10:]\n",
    "y_test = y[-10:]\n",
    "\n",
    "lin_reg.fit(x_train.reshape(-1,1), y_train)\n",
    "\n",
    "plt.scatter(x,y2,s=8)\n",
    "\n",
    "a = lin_reg.coef_\n",
    "b = lin_reg.intercept_\n",
    "y3 = a*x_train + b\n",
    "\n",
    "print(\"기울기: \",lin_reg.coef_), print(\"y 절편: \",lin_reg.intercept_)\n",
    "\n",
    "plt.plot(x_train, y3, 'r')\n",
    "\n",
    "#x축, y축 세팅\n",
    "plt.axis([0,100,0,100])\n",
    "\n",
    "plt.ylim(0,100)"
   ]
  },
  {
   "cell_type": "code",
   "execution_count": 263,
   "id": "894f333b-0ea1-4b97-b7d0-11e2c8b16517",
   "metadata": {},
   "outputs": [
    {
     "data": {
      "text/plain": [
       "1.0"
      ]
     },
     "execution_count": 263,
     "metadata": {},
     "output_type": "execute_result"
    }
   ],
   "source": [
    "lin_reg.score(x_test.reshape(-1,1), y_test)"
   ]
  },
  {
   "cell_type": "code",
   "execution_count": 265,
   "id": "19b7af09-3508-4beb-9afd-e713a4450990",
   "metadata": {},
   "outputs": [
    {
     "data": {
      "text/plain": [
       "array([520.])"
      ]
     },
     "execution_count": 265,
     "metadata": {},
     "output_type": "execute_result"
    }
   ],
   "source": [
    "# x값을 넣으면 y값 출력\n",
    "lin_reg.predict([[1000]])"
   ]
  },
  {
   "cell_type": "markdown",
   "id": "26146ddf-6ba7-4b4d-800a-fa853f623494",
   "metadata": {},
   "source": [
    "https://scikit-learn.org/stable/auto_examples/linear_model/plot_huber_vs_ridge.html#sphx-glr-auto-examples-linear-model-plot-huber-vs-ridge-py"
   ]
  },
  {
   "cell_type": "markdown",
   "id": "cc6bf9b6-b791-41fd-92e4-d37ee38006f6",
   "metadata": {},
   "source": [
    "* 샘플데이터 생성"
   ]
  },
  {
   "cell_type": "code",
   "execution_count": 269,
   "id": "56a91a86-6eca-4480-b5bf-af6b9717aed3",
   "metadata": {},
   "outputs": [],
   "source": [
    "from sklearn.datasets import make_regression"
   ]
  },
  {
   "cell_type": "code",
   "execution_count": 280,
   "id": "3965cdec-8457-4495-8fbf-0d6ee634f592",
   "metadata": {},
   "outputs": [],
   "source": [
    "X, y = make_regression(\n",
    "    n_samples=100, n_features=1, random_state=0, noise=4.0, bias=100.0\n",
    ")"
   ]
  },
  {
   "cell_type": "code",
   "execution_count": 281,
   "id": "f7c9033f-6de8-48f0-bfea-fbf5c33777f3",
   "metadata": {},
   "outputs": [
    {
     "data": {
      "text/plain": [
       "(array([[-0.35955316],\n",
       "        [ 0.97663904],\n",
       "        [ 0.40234164],\n",
       "        [-0.81314628],\n",
       "        [-0.88778575],\n",
       "        [ 0.44386323],\n",
       "        [-0.97727788],\n",
       "        [ 0.42833187],\n",
       "        [ 0.20827498],\n",
       "        [-0.31155253],\n",
       "        [-0.51080514],\n",
       "        [ 0.12691209],\n",
       "        [-1.53624369],\n",
       "        [-0.40178094],\n",
       "        [ 0.6536186 ],\n",
       "        [ 1.17877957],\n",
       "        [-0.17992484],\n",
       "        [ 1.78587049],\n",
       "        [ 1.45427351],\n",
       "        [-0.68481009],\n",
       "        [ 0.97873798],\n",
       "        [ 1.89588918],\n",
       "        [-0.4380743 ],\n",
       "        [ 0.3130677 ],\n",
       "        [ 0.76103773],\n",
       "        [ 0.77749036],\n",
       "        [ 1.9507754 ],\n",
       "        [ 0.33367433],\n",
       "        [-0.34791215],\n",
       "        [ 1.53277921],\n",
       "        [-0.89546656],\n",
       "        [-0.57884966],\n",
       "        [-1.04855297],\n",
       "        [ 0.37816252],\n",
       "        [ 0.01050002],\n",
       "        [ 0.46278226],\n",
       "        [ 0.14404357],\n",
       "        [-0.40317695],\n",
       "        [ 0.0519454 ],\n",
       "        [-1.25279536],\n",
       "        [ 1.05445173],\n",
       "        [ 0.40015721],\n",
       "        [-1.70627019],\n",
       "        [ 2.2408932 ],\n",
       "        [ 0.17742614],\n",
       "        [-0.20515826],\n",
       "        [ 1.23029068],\n",
       "        [-0.85409574],\n",
       "        [ 1.76405235],\n",
       "        [ 0.4105985 ],\n",
       "        [-0.90729836],\n",
       "        [-1.42001794],\n",
       "        [ 0.46566244],\n",
       "        [ 0.90082649],\n",
       "        [ 1.13940068],\n",
       "        [ 0.40198936],\n",
       "        [ 0.3869025 ],\n",
       "        [-1.7262826 ],\n",
       "        [ 1.46935877],\n",
       "        [-0.18718385],\n",
       "        [-0.87079715],\n",
       "        [ 0.3024719 ],\n",
       "        [ 1.20237985],\n",
       "        [-1.98079647],\n",
       "        [-2.55298982],\n",
       "        [-1.45436567],\n",
       "        [-0.02818223],\n",
       "        [ 0.15494743],\n",
       "        [ 1.22244507],\n",
       "        [ 1.86755799],\n",
       "        [ 2.26975462],\n",
       "        [-0.74216502],\n",
       "        [ 0.06651722],\n",
       "        [ 1.49407907],\n",
       "        [-0.67246045],\n",
       "        [-1.63019835],\n",
       "        [ 0.12898291],\n",
       "        [ 0.95008842],\n",
       "        [ 1.48825219],\n",
       "        [ 0.05616534],\n",
       "        [ 0.8644362 ],\n",
       "        [ 0.70657317],\n",
       "        [-0.15135721],\n",
       "        [-1.07075262],\n",
       "        [-0.10321885],\n",
       "        [-0.30230275],\n",
       "        [-0.38732682],\n",
       "        [ 0.72909056],\n",
       "        [ 0.12167502],\n",
       "        [-0.50965218],\n",
       "        [-1.23482582],\n",
       "        [-0.21274028],\n",
       "        [-0.63432209],\n",
       "        [ 0.15634897],\n",
       "        [ 0.04575852],\n",
       "        [-1.16514984],\n",
       "        [-0.36274117],\n",
       "        [ 0.3563664 ],\n",
       "        [-1.61389785],\n",
       "        [-1.18063218]]),\n",
       " array([ 82.87374039, 133.37311226, 114.85482998,  72.78380292,\n",
       "         63.14219634, 122.48617851,  52.61713803, 117.9372032 ,\n",
       "        113.87712884,  83.13566732,  76.02257437, 106.94846534,\n",
       "         30.33521899,  78.44832638, 128.8990423 , 154.15509614,\n",
       "         93.37362516, 174.96101098, 169.09441806,  73.05848152,\n",
       "        145.60756737, 179.203727  ,  88.96541499, 113.6284555 ,\n",
       "        137.42247988, 142.09165467, 184.34019989, 113.50775294,\n",
       "         92.21458175, 166.4093299 ,  58.53574444,  76.51183863,\n",
       "         52.91213628, 121.80795215,  91.57160565, 124.07901336,\n",
       "        112.20226674,  84.52388428,  95.13199722,  49.75653146,\n",
       "        140.56449665, 117.17424493,  28.4694471 , 189.87343363,\n",
       "        110.125134  ,  83.34114813, 157.5223093 ,  64.25813641,\n",
       "        173.80595491, 110.43119187,  66.90151284,  35.09105877,\n",
       "        112.13500056, 132.23837   , 146.75733052, 118.00506134,\n",
       "        109.91470772,  17.65409046, 163.91210575,  93.21566862,\n",
       "         63.5242214 , 110.29572322, 147.69059307,  14.3594824 ,\n",
       "        -10.55302297,  38.55557029,  92.58138731,  98.80466216,\n",
       "        149.07771446, 182.50826732, 196.02170324,  70.28369279,\n",
       "         95.57425089, 159.47104237,  72.27942177,  27.79383343,\n",
       "        109.82424197, 135.98911722, 156.03216505, 105.81354753,\n",
       "        137.52860431, 128.76405884,  92.74813384,  54.80322741,\n",
       "         98.04330596,  82.02251148,  83.91379704, 132.6005214 ,\n",
       "        110.36004209,  83.1874229 ,  50.19008985,  93.42731066,\n",
       "         69.40130108, 105.17058289,  98.19737604,  50.99187293,\n",
       "         90.58792022, 113.77664807,  37.85053526,  47.80697301]))"
      ]
     },
     "execution_count": 281,
     "metadata": {},
     "output_type": "execute_result"
    }
   ],
   "source": [
    "X, y"
   ]
  },
  {
   "cell_type": "code",
   "execution_count": 282,
   "id": "f07db2c1-d4d4-429a-96b6-a4f61d3a267c",
   "metadata": {},
   "outputs": [
    {
     "data": {
      "text/plain": [
       "<matplotlib.collections.PathCollection at 0x17390b86a60>"
      ]
     },
     "execution_count": 282,
     "metadata": {},
     "output_type": "execute_result"
    },
    {
     "data": {
      "image/png": "[encoded data removed]",
      "text/plain": [
       "<Figure size 432x288 with 1 Axes>"
      ]
     },
     "metadata": {
      "needs_background": "light"
     },
     "output_type": "display_data"
    }
   ],
   "source": [
    "plt.scatter(X.flatten(), y, s=5)"
   ]
  },
  {
   "cell_type": "markdown",
   "id": "f98f384f-e220-475d-9810-01023672cfe5",
   "metadata": {},
   "source": [
    "* 다중회귀"
   ]
  },
  {
   "cell_type": "code",
   "execution_count": 283,
   "id": "116b9b4a-90c4-45ee-8e07-c33ce7cdc9dd",
   "metadata": {},
   "outputs": [
    {
     "data": {
      "text/plain": [
       "(array([[-1.09306151, -1.49125759,  0.39600671],\n",
       "        [-0.65240858, -0.39095338,  0.39009332],\n",
       "        [-0.87079715, -0.57884966, -0.68481009],\n",
       "        [ 1.13689136,  0.09772497, -0.1359497 ],\n",
       "        [-1.00021535, -1.5447711 ,  0.84436298],\n",
       "        [ 0.61037938, -1.18885926, -1.5829384 ],\n",
       "        [-1.23482582,  0.40234164,  1.13940068],\n",
       "        [ 0.37915174,  2.25930895, -0.01702041],\n",
       "        [ 1.86755799, -0.97727788,  2.2408932 ],\n",
       "        [ 0.68159452, -0.80340966, -1.03424284],\n",
       "        [-1.45436567,  0.04575852,  2.26975462],\n",
       "        [ 0.2799246 , -0.09815039, -0.73803091],\n",
       "        [-1.31590741, -0.4615846 ,  1.11701629],\n",
       "        [-0.54286148,  0.41605005, -0.49331988],\n",
       "        [-0.31932842,  0.69153875,  0.14195316],\n",
       "        [ 1.33652795, -0.36918184,  2.16323595],\n",
       "        [-0.11610394, -2.03068447,  0.49374178],\n",
       "        [ 0.1887786 ,  0.52389102, -1.93627981],\n",
       "        [ 0.3563664 ,  0.70657317,  0.97663904],\n",
       "        [-0.39944903,  0.37005589,  0.58295368],\n",
       "        [-0.11054066,  1.02017271,  2.06449286],\n",
       "        [-0.15135721, -0.10321885,  0.95008842],\n",
       "        [ 0.96939671, -1.17312341, -1.270485  ],\n",
       "        [ 1.84926373,  0.67229476, -0.43515355],\n",
       "        [ 2.3039167 , -1.06001582, -0.48102712],\n",
       "        [-0.34791215,  0.15634897, -1.98079647],\n",
       "        [-2.77259276,  1.95591231,  0.39904635],\n",
       "        [ 1.89588918,  1.17877957,  1.48825219],\n",
       "        [ 0.57659082, -0.20829876,  0.67643329],\n",
       "        [-0.41361898, -0.74745481,  1.94362119],\n",
       "        [ 0.61407937,  0.92220667, -0.15501009],\n",
       "        [-0.69456786, -0.14963454,  1.3263859 ],\n",
       "        [ 1.07961859, -0.81336426,  1.15233156],\n",
       "        [ 0.31721822,  0.78632796,  0.91017891],\n",
       "        [-0.09845252, -0.66347829, -0.82643854],\n",
       "        [ 0.46566244, -1.53624369,  0.90082649],\n",
       "        [ 0.85683061, -0.65102559,  0.31872765],\n",
       "        [ 0.15650654,  0.23218104,  0.06326199],\n",
       "        [ 1.0996596 ,  0.65526373, -0.23937918],\n",
       "        [ 0.62523145, -1.60205766, -2.22340315],\n",
       "        [ 0.12167502,  0.44386323,  0.76103773],\n",
       "        [ 1.8831507 , -1.34775906,  0.40198936],\n",
       "        [ 1.9507754 , -0.50965218, -1.70627019],\n",
       "        [ 1.30184623, -0.62808756,  0.68981816],\n",
       "        [ 0.31694261,  0.92085882,  1.18802979],\n",
       "        [ 0.03183056, -0.63584608, -0.67433266],\n",
       "        [ 1.71334272, -0.74475482, -0.06824161],\n",
       "        [-0.51080514, -1.18063218,  0.3869025 ],\n",
       "        [ 0.7811981 ,  1.49448454, -1.15618243],\n",
       "        [-0.35955316, -0.81314628, -0.67246045],\n",
       "        [ 1.53277921,  1.46935877, -0.18718385],\n",
       "        [-0.59631404, -0.0525673 , -0.50681635],\n",
       "        [-1.37495129, -0.6436184 , -0.35399391],\n",
       "        [ 0.08755124, -1.22543552,  0.94942081],\n",
       "        [ 0.14404357,  1.45427351,  0.4105985 ],\n",
       "        [ 0.48148147, -1.54079701, -0.46359597],\n",
       "        [-0.39727181, -0.13288058, -0.63743703],\n",
       "        [ 0.72909056,  0.12898291,  0.0519454 ],\n",
       "        [ 0.40015721,  0.97873798,  1.76405235],\n",
       "        [-0.94444626, -0.41004969, -0.4664191 ],\n",
       "        [-0.21274028, -0.89546656, -1.61389785],\n",
       "        [-1.07993151, -1.14746865,  1.12663592],\n",
       "        [ 0.8644362 , -0.74216502,  0.6536186 ],\n",
       "        [ 0.8024564 ,  0.94725197, -0.26800337],\n",
       "        [-0.955945  , -0.34598178, -0.04225715],\n",
       "        [ 0.52106488, -0.57578797, -1.46642433],\n",
       "        [-1.61695604, -0.02432612,  0.64013153],\n",
       "        [ 1.48051479,  1.86755896,  1.92294203],\n",
       "        [-0.30901297, -1.67600381, -0.29779088],\n",
       "        [-0.63432209, -0.36274117,  0.3024719 ],\n",
       "        [ 0.46278226, -0.90729836, -1.63019835],\n",
       "        [-1.07075262,  1.05445173, -0.17992484],\n",
       "        [-1.1680935 ,  0.52327666, -0.03928282],\n",
       "        [ 1.20237985, -0.38732682,  1.23029068],\n",
       "        [ 0.37816252, -0.88778575,  0.15494743],\n",
       "        [-1.04525337,  1.21114529,  0.60884383],\n",
       "        [ 1.78587049,  0.12691209,  0.01050002],\n",
       "        [-0.4555325 ,  0.01747916, -0.68954978],\n",
       "        [-0.86122569,  1.91006495,  0.90604466],\n",
       "        [-1.29285691,  0.26705087,  1.5430146 ],\n",
       "        [-1.25279536,  0.77749036, -0.4380743 ],\n",
       "        [ 1.49407907, -0.20515826,  0.33367433],\n",
       "        [ 1.22244507,  0.20827498, -0.40317695],\n",
       "        [ 0.05616534, -1.16514984, -0.31155253],\n",
       "        [-1.09940079,  0.29823817,  0.37642553],\n",
       "        [ 0.94447949, -0.91282223,  2.38314477],\n",
       "        [-0.85409574, -2.55298982,  0.3130677 ],\n",
       "        [-0.72559738, -1.38336396,  0.69474914],\n",
       "        [-1.04855297, -1.42001794, -0.30230275],\n",
       "        [-0.31088617,  0.09740017,  0.08842209],\n",
       "        [ 0.42833187,  0.06651722, -0.02818223],\n",
       "        [ 0.17742614, -0.40178094, -1.7262826 ],\n",
       "        [ 1.53637705,  0.28634369, -0.69204985],\n",
       "        [ 0.1666735 ,  0.63503144,  0.4393917 ],\n",
       "        [-0.23792173, -1.42406091, -0.59731607],\n",
       "        [ 0.05216508, -0.739563  , -1.10438334],\n",
       "        [ 0.42625873,  0.67690804, -2.06998503],\n",
       "        [-0.76991607,  0.53924919,  0.40746184],\n",
       "        [ 0.77179055,  0.82350415, -0.17154633],\n",
       "        [-0.49803245,  1.92953205, -0.43782004]]),\n",
       " array([ 66.08549606,  98.72204139,  15.39008263, 135.98618436,\n",
       "         97.13626834,  22.402714  , 121.04944465, 133.05054031,\n",
       "        307.22778096,  60.39762504, 187.40376343,  65.55997462,\n",
       "        118.06082183,  47.67049288,  96.77622941, 280.54120132,\n",
       "        118.8342331 ,  -6.87606065, 171.64736467, 122.79540373,\n",
       "        227.20885143, 152.60270751,  44.14540894, 150.7483176 ,\n",
       "        145.89149685, -37.92794655,  23.19910514, 277.39724484,\n",
       "        166.56703136, 196.65774166, 122.74337291, 150.56027318,\n",
       "        207.22957016, 178.33910449,  34.8834735 , 168.63926145,\n",
       "        152.24117889, 104.80248326, 138.59144635, -25.30681598,\n",
       "        153.94897552, 187.71156909,  64.92815391, 193.47345765,\n",
       "        193.76602324,  53.46554552, 158.52149364,  96.86734605,\n",
       "         59.91411693,  39.9960811 , 153.09906313,  40.82556041,\n",
       "         15.87449807, 155.57074649, 142.17432415,  79.02551584,\n",
       "         45.04455708, 133.10211789, 226.72423698,  31.28551111,\n",
       "        -14.42328428, 124.05740434, 168.82188437, 119.93231307,\n",
       "         48.40688395,  29.67595987,  68.77860429, 295.94863517,\n",
       "         49.32287343,  91.87413733,  11.39088855,  60.97264729,\n",
       "         50.13807057, 219.6182162 , 116.36623657, 108.36764827,\n",
       "        176.63573817,  42.7684819 , 132.57047031, 145.31949495,\n",
       "         25.8750793 , 174.30497465, 130.7107225 ,  70.54458408,\n",
       "         84.76062456, 278.47647919,  61.8150394 , 105.59397732,\n",
       "         27.42928942,  99.81640998, 115.63676534,  -8.17521633,\n",
       "        119.96286997, 132.5647643 ,  38.17710039,  24.82606723,\n",
       "         -8.70880406,  97.91379358, 124.20194843,  62.74693443]))"
      ]
     },
     "execution_count": 283,
     "metadata": {},
     "output_type": "execute_result"
    }
   ],
   "source": [
    "X, y = make_regression(\n",
    "    n_samples=100, n_features=3, random_state=0, noise=4.0, bias=100.0\n",
    ")\n",
    "X, y"
   ]
  },
  {
   "cell_type": "code",
   "execution_count": 284,
   "id": "1f188bf6-83f8-4ec2-936c-ed2b7d50a574",
   "metadata": {},
   "outputs": [
    {
     "data": {
      "text/plain": [
       "[<matplotlib.lines.Line2D at 0x17390bcdee0>]"
      ]
     },
     "execution_count": 284,
     "metadata": {},
     "output_type": "execute_result"
    },
    {
     "data": {
      "image/png": "[encoded data removed]",
      "text/plain": [
       "<Figure size 432x288 with 1 Axes>"
      ]
     },
     "metadata": {
      "needs_background": "light"
     },
     "output_type": "display_data"
    }
   ],
   "source": [
    "plt.plot(np.arange(100), y, '.')"
   ]
  },
  {
   "cell_type": "code",
   "execution_count": 285,
   "id": "e5cac9f7-d842-46db-9183-39b88d383e85",
   "metadata": {},
   "outputs": [
    {
     "data": {
      "text/plain": [
       "(100, 3)"
      ]
     },
     "execution_count": 285,
     "metadata": {},
     "output_type": "execute_result"
    }
   ],
   "source": [
    "X.shape"
   ]
  },
  {
   "cell_type": "code",
   "execution_count": 290,
   "id": "2fb16553-9c5e-4e05-b700-d8155f2f5c63",
   "metadata": {},
   "outputs": [
    {
     "data": {
      "text/plain": [
       "<matplotlib.collections.PathCollection at 0x17390cc4400>"
      ]
     },
     "execution_count": 290,
     "metadata": {},
     "output_type": "execute_result"
    },
    {
     "data": {
      "image/png": "[encoded data removed]",
      "text/plain": [
       "<Figure size 432x288 with 1 Axes>"
      ]
     },
     "metadata": {
      "needs_background": "light"
     },
     "output_type": "display_data"
    }
   ],
   "source": [
    "X[:, 0]  # x1\n",
    "plt.scatter(X[:,0], y, s=7)"
   ]
  },
  {
   "cell_type": "code",
   "execution_count": 291,
   "id": "b3765c01-36f4-4443-a571-0be901aa509e",
   "metadata": {},
   "outputs": [
    {
     "data": {
      "text/plain": [
       "<matplotlib.collections.PathCollection at 0x17390d29370>"
      ]
     },
     "execution_count": 291,
     "metadata": {},
     "output_type": "execute_result"
    },
    {
     "data": {
      "image/png": "[encoded data removed]",
      "text/plain": [
       "<Figure size 432x288 with 1 Axes>"
      ]
     },
     "metadata": {
      "needs_background": "light"
     },
     "output_type": "display_data"
    }
   ],
   "source": [
    "plt.scatter(X[:,1], y, s=7)"
   ]
  },
  {
   "cell_type": "code",
   "execution_count": 293,
   "id": "99de3caf-bb59-4d48-97e2-c17c08c0a018",
   "metadata": {},
   "outputs": [
    {
     "data": {
      "text/plain": [
       "<matplotlib.collections.PathCollection at 0x17390ddca00>"
      ]
     },
     "execution_count": 293,
     "metadata": {},
     "output_type": "execute_result"
    },
    {
     "data": {
      "image/png": "[encoded data removed]",
      "text/plain": [
       "<Figure size 432x288 with 1 Axes>"
      ]
     },
     "metadata": {
      "needs_background": "light"
     },
     "output_type": "display_data"
    }
   ],
   "source": [
    "plt.scatter(X[:,2], y, s=7)  #가장 상관성이 좋아보인다."
   ]
  },
  {
   "cell_type": "code",
   "execution_count": 298,
   "id": "9e56e7a6-8f6e-4170-ae37-85bc3201acf7",
   "metadata": {},
   "outputs": [
    {
     "data": {
      "text/plain": [
       "0.4667783100798455"
      ]
     },
     "execution_count": 298,
     "metadata": {},
     "output_type": "execute_result"
    }
   ],
   "source": [
    "#상관계수\n",
    "np.corrcoef(X[:,0],y)[0,1]"
   ]
  },
  {
   "cell_type": "code",
   "execution_count": 299,
   "id": "685d50ac-36cc-402d-ad30-cbcae9abb04b",
   "metadata": {},
   "outputs": [
    {
     "data": {
      "text/plain": [
       "0.17755593745898712"
      ]
     },
     "execution_count": 299,
     "metadata": {},
     "output_type": "execute_result"
    }
   ],
   "source": [
    "np.corrcoef(X[:,1],y)[0,1]"
   ]
  },
  {
   "cell_type": "code",
   "execution_count": 300,
   "id": "286b0d93-10e6-44da-bf76-bed8d2cf5bf5",
   "metadata": {},
   "outputs": [
    {
     "data": {
      "text/plain": [
       "0.8408897785690082"
      ]
     },
     "execution_count": 300,
     "metadata": {},
     "output_type": "execute_result"
    }
   ],
   "source": [
    "np.corrcoef(X[:,2],y)[0,1]"
   ]
  },
  {
   "cell_type": "code",
   "execution_count": 305,
   "id": "bf6338e0-94bf-4c9a-bcd2-6ddf4ff91741",
   "metadata": {},
   "outputs": [],
   "source": [
    "x_train = X[:80,:]\n",
    "y_train = y[:80]\n",
    "\n",
    "x_test = X[-20:,:]\n",
    "y_test = y[-20:]"
   ]
  },
  {
   "cell_type": "code",
   "execution_count": null,
   "id": "0015735e-887f-4a27-891c-38debb295660",
   "metadata": {},
   "outputs": [],
   "source": []
  },
  {
   "cell_type": "code",
   "execution_count": 306,
   "id": "a1534989-d1a1-44b4-b3ba-08d0215128fb",
   "metadata": {},
   "outputs": [
    {
     "data": {
      "text/plain": [
       "LinearRegression()"
      ]
     },
     "execution_count": 306,
     "metadata": {},
     "output_type": "execute_result"
    }
   ],
   "source": [
    "lin_reg.fit(x_test,y_test)"
   ]
  },
  {
   "cell_type": "code",
   "execution_count": 307,
   "id": "703cbd1f-a572-4727-86ac-0f21e6297653",
   "metadata": {},
   "outputs": [
    {
     "data": {
      "text/plain": [
       "(array([39.88818597,  7.90844632, 63.05686506]), 98.73241448789574)"
      ]
     },
     "execution_count": 307,
     "metadata": {},
     "output_type": "execute_result"
    }
   ],
   "source": [
    "lin_reg.coef_, lin_reg.intercept_"
   ]
  },
  {
   "cell_type": "code",
   "execution_count": 313,
   "id": "8c1b872d-4ee6-46d2-98d5-2cddc11e85b5",
   "metadata": {},
   "outputs": [
    {
     "data": {
      "text/plain": [
       "0.9976053529249703"
      ]
     },
     "execution_count": 313,
     "metadata": {},
     "output_type": "execute_result"
    }
   ],
   "source": [
    "# 모델의 정확도\n",
    "lin_reg.score(x_test,y_test)"
   ]
  },
  {
   "cell_type": "code",
   "execution_count": 314,
   "id": "7c0e577c-277d-4428-a45a-f42321b0c9ad",
   "metadata": {},
   "outputs": [
    {
     "data": {
      "text/plain": [
       "(array([27.2858288]), 25.87507929901389)"
      ]
     },
     "execution_count": 314,
     "metadata": {},
     "output_type": "execute_result"
    }
   ],
   "source": [
    "#왼쪽은 추정값, 오른쪽은 실제값\n",
    "lin_reg.predict(x_test[0, np.newaxis]), y_test[0]"
   ]
  },
  {
   "cell_type": "code",
   "execution_count": 315,
   "id": "e2ee2615-13c1-4be5-9739-360c5f374f2f",
   "metadata": {},
   "outputs": [
    {
     "data": {
      "text/plain": [
       "(array([177.74649234]), 174.30497464534056)"
      ]
     },
     "execution_count": 315,
     "metadata": {},
     "output_type": "execute_result"
    }
   ],
   "source": [
    "lin_reg.predict(x_test[1, np.newaxis]), y_test[1]"
   ]
  },
  {
   "cell_type": "code",
   "execution_count": 316,
   "id": "3354aff0-0f09-460c-886c-6ae0f1d84882",
   "metadata": {},
   "outputs": [
    {
     "data": {
      "text/plain": [
       "(array([123.71758794]), 130.7107225044158)"
      ]
     },
     "execution_count": 316,
     "metadata": {},
     "output_type": "execute_result"
    }
   ],
   "source": [
    "lin_reg.predict(x_test[2, np.newaxis]), y_test[2]"
   ]
  },
  {
   "cell_type": "code",
   "execution_count": null,
   "id": "bb837d91-91bb-4a62-a379-d62a2d028d9b",
   "metadata": {},
   "outputs": [],
   "source": []
  }
 ],
 "metadata": {
  "kernelspec": {
   "display_name": "Python 3 (ipykernel)",
   "language": "python",
   "name": "python3"
  },
  "language_info": {
   "codemirror_mode": {
    "name": "ipython",
    "version": 3
   },
   "file_extension": ".py",
   "mimetype": "text/x-python",
   "name": "python",
   "nbconvert_exporter": "python",
   "pygments_lexer": "ipython3",
   "version": "3.8.12"
  }
 },
 "nbformat": 4,
 "nbformat_minor": 5
}
