{
 "cells": [
  {
   "cell_type": "code",
   "execution_count": null,
   "id": "6196ec48-f239-4270-bb67-3ecbfe078b44",
   "metadata": {},
   "outputs": [],
   "source": []
  },
  {
   "cell_type": "markdown",
   "id": "138314c6-42d9-4d71-bc73-98d59ac45643",
   "metadata": {},
   "source": [
    "# Thread \n",
    "* 한 프로세스 안에서 동시에 실해되는 코드(로직, 함수)\n",
    "* 가상의 CPU (VCPU)\n",
    "* 시분할 (time slicing)"
   ]
  },
  {
   "cell_type": "code",
   "execution_count": null,
   "id": "412a5401-64d5-4e92-92e2-6fdca2ab8d57",
   "metadata": {},
   "outputs": [],
   "source": [
    "import threading\n",
    "from datetime import datetime\n",
    "import time"
   ]
  },
  {
   "cell_type": "code",
   "execution_count": null,
   "id": "3dd33863-23a8-45ea-880b-45197aae7191",
   "metadata": {},
   "outputs": [],
   "source": [
    "def timer(name):\n",
    "      cnt = 0\n",
    "      while True:\n",
    "            print(name)\n",
    "            time.sleep(1)\n",
    "            cnt += 1\n",
    "            if cnt==100:\n",
    "                  break\n",
    "\n",
    "def number(name):\n",
    "      num = 0\n",
    "      while True:\n",
    "            num += 1\n",
    "            print(f'{name}-{num}')\n",
    "            time.sleep(1)\n",
    "            if num==10:\n",
    "                  break\n"
   ]
  },
  {
   "cell_type": "code",
   "execution_count": null,
   "id": "b614472b-7c68-4425-a39b-616fffd449bf",
   "metadata": {},
   "outputs": [],
   "source": [
    "t1 = threading.Thread(target = number, args=('num_t',))\n",
    "t2 = threading.Thread(target = timer, args=('time_t',))\n",
    "\n",
    "#cpu에 전력을 공급한다.\n",
    "t1.start()\n",
    "t2.start()"
   ]
  },
  {
   "cell_type": "code",
   "execution_count": null,
   "id": "f296c7d6-8573-4c12-8f18-4127f1eab442",
   "metadata": {},
   "outputs": [],
   "source": [
    "threading.current_thread()"
   ]
  },
  {
   "cell_type": "code",
   "execution_count": null,
   "id": "8fd9adf9-8fad-4f64-9f32-211e9755e1a3",
   "metadata": {},
   "outputs": [],
   "source": [
    "mt = threading.current_thread()\n",
    "mt.name   #mainthread\n",
    "mt.getName()  #mainthread"
   ]
  },
  {
   "cell_type": "code",
   "execution_count": null,
   "id": "42452dcd-5f3f-4dfa-b948-630706fca9d2",
   "metadata": {},
   "outputs": [],
   "source": [
    "t1 = threading.Thread(target = number, args=('첫번째',))\n",
    "t2 = threading.Thread(target = timer, args=('두번째',))"
   ]
  },
  {
   "cell_type": "code",
   "execution_count": null,
   "id": "4648b90b-e243-4389-bb35-41522f37f5eb",
   "metadata": {},
   "outputs": [],
   "source": [
    "t2.daemon=True"
   ]
  },
  {
   "cell_type": "code",
   "execution_count": null,
   "id": "91eef03a-88d5-4e2d-9412-13204b8ba234",
   "metadata": {},
   "outputs": [],
   "source": []
  },
  {
   "cell_type": "code",
   "execution_count": null,
   "id": "3f5755ca-de2d-4966-bd49-e20ec4b50374",
   "metadata": {},
   "outputs": [],
   "source": [
    "help(threading.Thread)"
   ]
  },
  {
   "cell_type": "code",
   "execution_count": null,
   "id": "f9af8495-1d96-42e9-85aa-72c7874615ba",
   "metadata": {},
   "outputs": [],
   "source": [
    "t1.start()\n",
    "t2.start()"
   ]
  },
  {
   "cell_type": "code",
   "execution_count": null,
   "id": "50ea3a51-ab2d-4a99-b7f4-534729b7bfb3",
   "metadata": {},
   "outputs": [],
   "source": [
    "t1.is_alive()"
   ]
  },
  {
   "cell_type": "code",
   "execution_count": null,
   "id": "7a882e0f-c30a-44c9-956a-d4982c886fb0",
   "metadata": {},
   "outputs": [],
   "source": [
    "t2.is_alive()"
   ]
  },
  {
   "cell_type": "code",
   "execution_count": null,
   "id": "b112b1e7-629b-4868-9c05-ed740742cb5a",
   "metadata": {},
   "outputs": [],
   "source": [
    "event = threading.Event()"
   ]
  },
  {
   "cell_type": "code",
   "execution_count": null,
   "id": "58e8bb38-b130-45f6-a104-250973a24cea",
   "metadata": {},
   "outputs": [],
   "source": [
    "threading.main_thread()."
   ]
  },
  {
   "cell_type": "code",
   "execution_count": null,
   "id": "5a832f0c-712f-47bb-8fbe-b5b7564b339b",
   "metadata": {},
   "outputs": [],
   "source": [
    "threading.current_thread().is_alive()"
   ]
  },
  {
   "cell_type": "code",
   "execution_count": null,
   "id": "b1961ae2-f9f0-4fc7-854f-997e0f054b10",
   "metadata": {},
   "outputs": [],
   "source": [
    "dir(threading.current_thread())"
   ]
  },
  {
   "cell_type": "code",
   "execution_count": null,
   "id": "69027c69-1b91-4154-8e49-1473bae0be18",
   "metadata": {},
   "outputs": [],
   "source": [
    "threading.Event().isSet()"
   ]
  },
  {
   "cell_type": "code",
   "execution_count": null,
   "id": "95a93935-4aef-4ed2-98f4-b33c42bde41e",
   "metadata": {},
   "outputs": [],
   "source": [
    "threading.current_thread().is_alive()"
   ]
  },
  {
   "cell_type": "code",
   "execution_count": null,
   "id": "ed4880e7-d982-4983-b5c6-542b47a945a4",
   "metadata": {},
   "outputs": [],
   "source": [
    "    while True:\n",
    "        a = int(input(\"a = \"))\n",
    "        b = int(input(\"b = \"))\n",
    "        print(\"a + b = \" + str(a + b))"
   ]
  },
  {
   "cell_type": "markdown",
   "id": "61c6446a-63f6-463d-b1cd-3c9db0a6c117",
   "metadata": {},
   "source": [
    "## 다양한 Thread 하기\n",
    "* 클래스의 맴버가 아닌 함수를 Thread의 코드로 실행하기\n",
    "* 클래스의 맴버 함수(인스턴스 메소드 )를 Thread의 코들로 실행하기\n",
    "* 클래스의 작성시 Thread를 상속하여 쓰레드 생성하기"
   ]
  },
  {
   "cell_type": "code",
   "execution_count": null,
   "id": "a9d9283c-6d9a-41d4-806f-3745dc6b2276",
   "metadata": {},
   "outputs": [],
   "source": [
    "import threading\n",
    "import time\n",
    "from datetime import datetime"
   ]
  },
  {
   "cell_type": "code",
   "execution_count": null,
   "id": "2a2a20fb-4625-4fc0-8dc5-e3cb3b2d7a9c",
   "metadata": {},
   "outputs": [],
   "source": [
    "class MyGame(threading.Thread):\n",
    "      def __init__(self, name):\n",
    "            threading.Thread.__init__(self)\n",
    "            print(f'{name}쓰레드 생성됨')\n",
    "            self.setName(name)\n",
    "            self.daemon = True\n",
    "      def run(self):\n",
    "            num = 0\n",
    "            for _ in range(100):\n",
    "                  num += 1\n",
    "                  print(f'{self.name}-{num}')\n",
    "                  time.sleep(1)"
   ]
  },
  {
   "cell_type": "code",
   "execution_count": null,
   "id": "4f1442c2-713d-4a8c-bcf3-24f049adfd1d",
   "metadata": {},
   "outputs": [],
   "source": [
    "my_thread = MyGame('game')\n",
    "my_thread.start()\n",
    "\n",
    "a=0\n",
    "while True:\n",
    "      print('{}-{}'.format(threading.current_thread().name, datetime.now()))\n",
    "      a += 1\n",
    "      time.sleep(1)\n",
    "      if a==10:\n",
    "            break"
   ]
  },
  {
   "cell_type": "markdown",
   "id": "b5b73dd4-47c1-4867-8c23-6416fbee5881",
   "metadata": {},
   "source": [
    "# Socket"
   ]
  },
  {
   "cell_type": "code",
   "execution_count": null,
   "id": "57f5e98d-dcab-4b2f-99d3-b9d6a42e3c2d",
   "metadata": {},
   "outputs": [],
   "source": [
    "from socket import *\n",
    "import time\n",
    "import threading"
   ]
  },
  {
   "cell_type": "code",
   "execution_count": null,
   "id": "cd1ce2cd-1fc6-4e36-b696-2b6f4eb4116a",
   "metadata": {},
   "outputs": [],
   "source": [
    "serverSock = socket(AF_INET, SOCK_STREAM)\n",
    "serverSock.bind(('',1237))  #0~1024  ~65535 ip:컴퓨터, port:프로그램(프로세스)\n",
    "serverSock.listen(1)\n",
    "print('서버 소켓 실행 중...')\n",
    "\n",
    "\n",
    "\n"
   ]
  },
  {
   "cell_type": "code",
   "execution_count": null,
   "id": "68e1fa6d-26bf-4fb3-b456-be4ea6104089",
   "metadata": {},
   "outputs": [],
   "source": [
    "#대기\n",
    "soc, addr = serverSock.accept()   #accept()에서 소켓과 주소가 반환됨\n",
    "print('클라이언트 접속됨.')\n",
    "print(f'{addr}에서 접속함.')"
   ]
  },
  {
   "cell_type": "code",
   "execution_count": null,
   "id": "f0f2d73f-6be2-4cb7-bffb-ddbd68f219c5",
   "metadata": {},
   "outputs": [],
   "source": [
    "#서버에서 클라이언트에게 데이터 전달\n",
    "soc.send('접속 성공.'.encode('utf-8'))\n",
    "\n",
    "soc.send('로그인 성공'.encode('utf-8'))\n",
    "\n",
    "print(\"Socket Server 종료\")"
   ]
  },
  {
   "cell_type": "markdown",
   "id": "f3d9e411-c8f1-436b-b975-f304d4648076",
   "metadata": {},
   "source": [
    "# Socket Chat"
   ]
  },
  {
   "cell_type": "code",
   "execution_count": 5,
   "id": "80ffcf00-099d-45b5-b5a8-89754951d659",
   "metadata": {},
   "outputs": [],
   "source": [
    "from socket import *\n",
    "import time\n",
    "import threading\n",
    "import sys"
   ]
  },
  {
   "cell_type": "code",
   "execution_count": 6,
   "id": "d0a38265-34ae-4c74-b536-cdb608ca8a0a",
   "metadata": {},
   "outputs": [
    {
     "name": "stdout",
     "output_type": "stream",
     "text": [
      "채팅창 실행\n"
     ]
    },
    {
     "name": "stderr",
     "output_type": "stream",
     "text": [
      "Exception in thread Thread-8:\n",
      "Traceback (most recent call last):\n",
      "  File \"C:\\Users\\Admin\\anaconda3\\lib\\threading.py\", line 973, in _bootstrap_inner\n",
      "    self.run()\n",
      "  File \"C:\\Users\\Admin\\anaconda3\\lib\\threading.py\", line 910, in run\n",
      "    self._target(*self._args, **self._kwargs)\n",
      "  File \"C:\\Users\\Admin\\AppData\\Local\\Temp\\ipykernel_6344\\475037846.py\", line 19, in reciveMSG\n",
      "ConnectionResetError: [WinError 10054] 현재 연결은 원격 호스트에 의해 강제로 끊겼습니다\n"
     ]
    },
    {
     "name": "stdout",
     "output_type": "stream",
     "text": [
      "클라이언트 접속됨.\n",
      "('127.0.0.1', 54049)에서 접속함.\n"
     ]
    },
    {
     "name": "stdin",
     "output_type": "stream",
     "text": [
      "msg: df\n"
     ]
    },
    {
     "name": "stdout",
     "output_type": "stream",
     "text": [
      "msg:"
     ]
    },
    {
     "name": "stderr",
     "output_type": "stream",
     "text": [
      "Exception in thread Thread-9:\n",
      "Traceback (most recent call last):\n",
      "  File \"C:\\Users\\Admin\\anaconda3\\lib\\threading.py\", line 973, in _bootstrap_inner\n",
      "    self.run()\n",
      "  File \"C:\\Users\\Admin\\anaconda3\\lib\\threading.py\", line 910, in run\n",
      "    self._target(*self._args, **self._kwargs)\n",
      "  File \"C:\\Users\\Admin\\AppData\\Local\\Temp\\ipykernel_6344\\2445294430.py\", line 18, in sendMSG\n",
      "  File \"C:\\Users\\Admin\\AppData\\Local\\Temp\\ipykernel_6344\\2445294430.py\", line 13, in loop\n",
      "EOFError: EOF when reading a line\n"
     ]
    }
   ],
   "source": [
    "serverSock = socket(AF_INET, SOCK_STREAM)\n",
    "serverSock.bind(('localhost',1241))  #0~1024  ~65535 ip:컴퓨터, port:프로그램(프로세스)\n",
    "serverSock.listen(1)\n",
    "print('채팅창 실행')\n",
    "\n",
    "soc, addr = serverSock.accept()   #accept()에서 소켓과 주소가 반환됨\n",
    "print('클라이언트 접속됨.')\n",
    "print(f'{addr}에서 접속함.')\n",
    "\n",
    "semsg = \"\"\n",
    "\n",
    "def loop():\n",
    "      msg = input('msg:')\n",
    "      return msg\n",
    "\n",
    "def sendMSG():\n",
    "      while True:\n",
    "            semsg = loop()\n",
    "            if semsg != \"\" and semsg != None:\n",
    "                  soc.send(semsg.encode('utf-8'))\n",
    "def reciveMSG():\n",
    "      while True:\n",
    "            msg = soc.recv(1024)\n",
    "            print(f'{addr}= {msg.decode(\"utf-8\")}')\n",
    "\n",
    "t1 = threading.Thread(target = sendMSG)\n",
    "t2 = threading.Thread(target = reciveMSG)\n",
    "\n",
    "t1.start()\n",
    "t2.start()\n"
   ]
  },
  {
   "cell_type": "code",
   "execution_count": null,
   "id": "f4d777fe-7011-4b5f-ba72-194dedee863a",
   "metadata": {},
   "outputs": [],
   "source": [
    "t1.name"
   ]
  },
  {
   "cell_type": "code",
   "execution_count": null,
   "id": "f09c6af1-9e73-4522-98a4-078689702860",
   "metadata": {},
   "outputs": [],
   "source": [
    "t2.name"
   ]
  },
  {
   "cell_type": "code",
   "execution_count": null,
   "id": "52469433-0b65-4bb8-881e-361f68a42673",
   "metadata": {},
   "outputs": [
    {
     "name": "stdin",
     "output_type": "stream",
     "text": [
      "msg: dsf\n"
     ]
    },
    {
     "name": "stdout",
     "output_type": "stream",
     "text": [
      "dsf\n"
     ]
    },
    {
     "name": "stdin",
     "output_type": "stream",
     "text": [
      "msg: dfs\n"
     ]
    },
    {
     "name": "stdout",
     "output_type": "stream",
     "text": [
      "dfs\n"
     ]
    },
    {
     "name": "stdin",
     "output_type": "stream",
     "text": [
      "msg: sfd\n"
     ]
    },
    {
     "name": "stdout",
     "output_type": "stream",
     "text": [
      "sfd\n"
     ]
    },
    {
     "name": "stdin",
     "output_type": "stream",
     "text": [
      "msg: sdf\n"
     ]
    },
    {
     "name": "stdout",
     "output_type": "stream",
     "text": [
      "sdf\n"
     ]
    },
    {
     "name": "stdin",
     "output_type": "stream",
     "text": [
      "msg: sdf\n"
     ]
    },
    {
     "name": "stdout",
     "output_type": "stream",
     "text": [
      "sdf\n"
     ]
    }
   ],
   "source": [
    "while True:\n",
    "      msg = input('msg:')\n",
    "      print(msg)"
   ]
  },
  {
   "cell_type": "code",
   "execution_count": null,
   "id": "012b81b4-2c45-453a-ab43-d3557c01b6b1",
   "metadata": {},
   "outputs": [],
   "source": []
  }
 ],
 "metadata": {
  "kernelspec": {
   "display_name": "Python 3 (ipykernel)",
   "language": "python",
   "name": "python3"
  },
  "language_info": {
   "codemirror_mode": {
    "name": "ipython",
    "version": 3
   },
   "file_extension": ".py",
   "mimetype": "text/x-python",
   "name": "python",
   "nbconvert_exporter": "python",
   "pygments_lexer": "ipython3",
   "version": "3.9.12"
  }
 },
 "nbformat": 4,
 "nbformat_minor": 5
}
