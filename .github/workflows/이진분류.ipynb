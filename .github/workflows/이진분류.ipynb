{
 "cells": [
  {
   "cell_type": "markdown",
   "id": "b4fc8d72",
   "metadata": {},
   "source": [
    "## 신경망을 사용한 이진분류(Binary Classification)"
   ]
  },
  {
   "cell_type": "code",
   "execution_count": 2,
   "id": "b3d61aa8",
   "metadata": {},
   "outputs": [],
   "source": [
    "import numpy as np\n",
    "import tensorflow as tf\n",
    "from tensorflow.keras.layers import Dense\n",
    "from tensorflow.keras.models import Sequential\n",
    "from sklearn.datasets import make_blobs\n",
    "from sklearn.model_selection import train_test_split\n",
    "import matplotlib.pyplot as plt"
   ]
  },
  {
   "cell_type": "code",
   "execution_count": 6,
   "id": "f11cd1d1",
   "metadata": {},
   "outputs": [],
   "source": [
    "X, y = make_blobs(n_samples=500, n_features=2, centers=2, random_state=1)"
   ]
  },
  {
   "cell_type": "code",
   "execution_count": 7,
   "id": "0e0006b7",
   "metadata": {
    "scrolled": true
   },
   "outputs": [
    {
     "data": {
      "text/plain": [
       "((500, 2), (500,))"
      ]
     },
     "execution_count": 7,
     "metadata": {},
     "output_type": "execute_result"
    }
   ],
   "source": [
    "X.shape, y.shape"
   ]
  },
  {
   "cell_type": "code",
   "execution_count": 9,
   "id": "d529b897",
   "metadata": {},
   "outputs": [
    {
     "data": {
      "image/png": "[encoded data removed]",
      "text/plain": [
       "<Figure size 432x288 with 1 Axes>"
      ]
     },
     "metadata": {
      "needs_background": "light"
     },
     "output_type": "display_data"
    }
   ],
   "source": [
    "plt.scatter(X[:,0], X[:,1], c=y, s=5)\n",
    "plt.show()"
   ]
  },
  {
   "cell_type": "code",
   "execution_count": 12,
   "id": "cad5cf89",
   "metadata": {},
   "outputs": [
    {
     "data": {
      "text/plain": [
       "((400, 2), (100, 2), (400,), (100,))"
      ]
     },
     "execution_count": 12,
     "metadata": {},
     "output_type": "execute_result"
    }
   ],
   "source": [
    "X_train, X_test, y_train, y_test = train_test_split(X, y, test_size=0.2, random_state=0)\n",
    "X_train.shape, X_test.shape, y_train.shape, y_test.shape"
   ]
  },
  {
   "cell_type": "code",
   "execution_count": 13,
   "id": "890924ee",
   "metadata": {},
   "outputs": [],
   "source": [
    "model = Sequential()"
   ]
  },
  {
   "cell_type": "code",
   "execution_count": 15,
   "id": "f4fe0035",
   "metadata": {},
   "outputs": [],
   "source": [
    "model.add( Dense(32, input_shape=(2,), activation='relu'))\n",
    "model.add( Dense(16, activation='relu'))\n",
    "model.add( Dense(8, activation='relu'))\n",
    "model.add( Dense(4, activation='relu'))\n",
    "model.add( Dense(2, activation='relu'))\n",
    "model.add( Dense(1, activation='sigmoid'))   # 이진분류: 숫자 하나(0이나 1)이 나와야 함\n",
    "#다중분류는 클래스 수마다 확률나옴=>분류 n개면 n으로 설정"
   ]
  },
  {
   "cell_type": "code",
   "execution_count": 17,
   "id": "70c18dcd",
   "metadata": {},
   "outputs": [],
   "source": [
    "model.compile(loss='binary_crossentropy', optimizer='adam')"
   ]
  },
  {
   "cell_type": "code",
   "execution_count": 19,
   "id": "7b939077",
   "metadata": {},
   "outputs": [
    {
     "name": "stdout",
     "output_type": "stream",
     "text": [
      "Model: \"sequential\"\n",
      "_________________________________________________________________\n",
      " Layer (type)                Output Shape              Param #   \n",
      "=================================================================\n",
      " dense (Dense)               (None, 32)                96        \n",
      "                                                                 \n",
      " dense_1 (Dense)             (None, 16)                528       \n",
      "                                                                 \n",
      " dense_2 (Dense)             (None, 8)                 136       \n",
      "                                                                 \n",
      " dense_3 (Dense)             (None, 4)                 36        \n",
      "                                                                 \n",
      " dense_4 (Dense)             (None, 2)                 10        \n",
      "                                                                 \n",
      " dense_5 (Dense)             (None, 1)                 3         \n",
      "                                                                 \n",
      "=================================================================\n",
      "Total params: 809\n",
      "Trainable params: 809\n",
      "Non-trainable params: 0\n",
      "_________________________________________________________________\n"
     ]
    }
   ],
   "source": [
    "model.summary()"
   ]
  },
  {
   "cell_type": "code",
   "execution_count": 20,
   "id": "ca1691b8",
   "metadata": {},
   "outputs": [
    {
     "name": "stdout",
     "output_type": "stream",
     "text": [
      "Epoch 1/200\n",
      "10/10 [==============================] - 1s 33ms/step - loss: 0.4191 - val_loss: 0.3388\n",
      "Epoch 2/200\n",
      "10/10 [==============================] - 0s 5ms/step - loss: 0.2726 - val_loss: 0.2222\n",
      "Epoch 3/200\n",
      "10/10 [==============================] - 0s 5ms/step - loss: 0.1695 - val_loss: 0.1348\n",
      "Epoch 4/200\n",
      "10/10 [==============================] - 0s 5ms/step - loss: 0.1010 - val_loss: 0.0809\n",
      "Epoch 5/200\n",
      "10/10 [==============================] - 0s 5ms/step - loss: 0.0601 - val_loss: 0.0488\n",
      "Epoch 6/200\n",
      "10/10 [==============================] - 0s 5ms/step - loss: 0.0370 - val_loss: 0.0312\n",
      "Epoch 7/200\n",
      "10/10 [==============================] - 0s 5ms/step - loss: 0.0243 - val_loss: 0.0219\n",
      "Epoch 8/200\n",
      "10/10 [==============================] - 0s 5ms/step - loss: 0.0171 - val_loss: 0.0165\n",
      "Epoch 9/200\n",
      "10/10 [==============================] - 0s 5ms/step - loss: 0.0127 - val_loss: 0.0130\n",
      "Epoch 10/200\n",
      "10/10 [==============================] - 0s 5ms/step - loss: 0.0099 - val_loss: 0.0104\n",
      "Epoch 11/200\n",
      "10/10 [==============================] - 0s 4ms/step - loss: 0.0080 - val_loss: 0.0086\n",
      "Epoch 12/200\n",
      "10/10 [==============================] - 0s 5ms/step - loss: 0.0066 - val_loss: 0.0073\n",
      "Epoch 13/200\n",
      "10/10 [==============================] - 0s 5ms/step - loss: 0.0055 - val_loss: 0.0063\n",
      "Epoch 14/200\n",
      "10/10 [==============================] - 0s 4ms/step - loss: 0.0048 - val_loss: 0.0055\n",
      "Epoch 15/200\n",
      "10/10 [==============================] - 0s 5ms/step - loss: 0.0041 - val_loss: 0.0049\n",
      "Epoch 16/200\n",
      "10/10 [==============================] - 0s 5ms/step - loss: 0.0036 - val_loss: 0.0045\n",
      "Epoch 17/200\n",
      "10/10 [==============================] - 0s 5ms/step - loss: 0.0032 - val_loss: 0.0040\n",
      "Epoch 18/200\n",
      "10/10 [==============================] - 0s 5ms/step - loss: 0.0029 - val_loss: 0.0037\n",
      "Epoch 19/200\n",
      "10/10 [==============================] - 0s 5ms/step - loss: 0.0026 - val_loss: 0.0034\n",
      "Epoch 20/200\n",
      "10/10 [==============================] - 0s 5ms/step - loss: 0.0023 - val_loss: 0.0032\n",
      "Epoch 21/200\n",
      "10/10 [==============================] - 0s 5ms/step - loss: 0.0021 - val_loss: 0.0029\n",
      "Epoch 22/200\n",
      "10/10 [==============================] - 0s 5ms/step - loss: 0.0019 - val_loss: 0.0028\n",
      "Epoch 23/200\n",
      "10/10 [==============================] - 0s 5ms/step - loss: 0.0018 - val_loss: 0.0026\n",
      "Epoch 24/200\n",
      "10/10 [==============================] - 0s 5ms/step - loss: 0.0016 - val_loss: 0.0025\n",
      "Epoch 25/200\n",
      "10/10 [==============================] - 0s 5ms/step - loss: 0.0015 - val_loss: 0.0023\n",
      "Epoch 26/200\n",
      "10/10 [==============================] - 0s 4ms/step - loss: 0.0014 - val_loss: 0.0022\n",
      "Epoch 27/200\n",
      "10/10 [==============================] - 0s 5ms/step - loss: 0.0013 - val_loss: 0.0021\n",
      "Epoch 28/200\n",
      "10/10 [==============================] - 0s 5ms/step - loss: 0.0012 - val_loss: 0.0020\n",
      "Epoch 29/200\n",
      "10/10 [==============================] - 0s 5ms/step - loss: 0.0011 - val_loss: 0.0019\n",
      "Epoch 30/200\n",
      "10/10 [==============================] - 0s 5ms/step - loss: 0.0010 - val_loss: 0.0018\n",
      "Epoch 31/200\n",
      "10/10 [==============================] - 0s 5ms/step - loss: 9.5688e-04 - val_loss: 0.0017\n",
      "Epoch 32/200\n",
      "10/10 [==============================] - 0s 5ms/step - loss: 8.9883e-04 - val_loss: 0.0016\n",
      "Epoch 33/200\n",
      "10/10 [==============================] - 0s 5ms/step - loss: 8.4226e-04 - val_loss: 0.0015\n",
      "Epoch 34/200\n",
      "10/10 [==============================] - 0s 5ms/step - loss: 7.9387e-04 - val_loss: 0.0015\n",
      "Epoch 35/200\n",
      "10/10 [==============================] - 0s 5ms/step - loss: 7.4811e-04 - val_loss: 0.0014\n",
      "Epoch 36/200\n",
      "10/10 [==============================] - 0s 5ms/step - loss: 7.0777e-04 - val_loss: 0.0014\n",
      "Epoch 37/200\n",
      "10/10 [==============================] - 0s 5ms/step - loss: 6.6903e-04 - val_loss: 0.0013\n",
      "Epoch 38/200\n",
      "10/10 [==============================] - 0s 5ms/step - loss: 6.3455e-04 - val_loss: 0.0013\n",
      "Epoch 39/200\n",
      "10/10 [==============================] - 0s 5ms/step - loss: 6.0148e-04 - val_loss: 0.0012\n",
      "Epoch 40/200\n",
      "10/10 [==============================] - 0s 4ms/step - loss: 5.7199e-04 - val_loss: 0.0012\n",
      "Epoch 41/200\n",
      "10/10 [==============================] - 0s 5ms/step - loss: 5.4245e-04 - val_loss: 0.0011\n",
      "Epoch 42/200\n",
      "10/10 [==============================] - 0s 5ms/step - loss: 5.1745e-04 - val_loss: 0.0011\n",
      "Epoch 43/200\n",
      "10/10 [==============================] - 0s 5ms/step - loss: 4.9208e-04 - val_loss: 0.0011\n",
      "Epoch 44/200\n",
      "10/10 [==============================] - 0s 5ms/step - loss: 4.6991e-04 - val_loss: 0.0010\n",
      "Epoch 45/200\n",
      "10/10 [==============================] - 0s 4ms/step - loss: 4.5025e-04 - val_loss: 9.9815e-04\n",
      "Epoch 46/200\n",
      "10/10 [==============================] - 0s 5ms/step - loss: 4.2880e-04 - val_loss: 9.6323e-04\n",
      "Epoch 47/200\n",
      "10/10 [==============================] - 0s 5ms/step - loss: 4.1113e-04 - val_loss: 9.3771e-04\n",
      "Epoch 48/200\n",
      "10/10 [==============================] - 0s 4ms/step - loss: 3.9413e-04 - val_loss: 9.1171e-04\n",
      "Epoch 49/200\n",
      "10/10 [==============================] - 0s 5ms/step - loss: 3.7715e-04 - val_loss: 8.8731e-04\n",
      "Epoch 50/200\n",
      "10/10 [==============================] - 0s 5ms/step - loss: 3.6183e-04 - val_loss: 8.6236e-04\n",
      "Epoch 51/200\n",
      "10/10 [==============================] - 0s 5ms/step - loss: 3.4784e-04 - val_loss: 8.3695e-04\n",
      "Epoch 52/200\n",
      "10/10 [==============================] - 0s 4ms/step - loss: 3.3418e-04 - val_loss: 8.1874e-04\n",
      "Epoch 53/200\n",
      "10/10 [==============================] - 0s 5ms/step - loss: 3.2113e-04 - val_loss: 7.9178e-04\n",
      "Epoch 54/200\n",
      "10/10 [==============================] - 0s 5ms/step - loss: 3.0924e-04 - val_loss: 7.7782e-04\n",
      "Epoch 55/200\n",
      "10/10 [==============================] - 0s 5ms/step - loss: 2.9743e-04 - val_loss: 7.5903e-04\n",
      "Epoch 56/200\n",
      "10/10 [==============================] - 0s 5ms/step - loss: 2.8752e-04 - val_loss: 7.4050e-04\n",
      "Epoch 57/200\n",
      "10/10 [==============================] - 0s 5ms/step - loss: 2.7662e-04 - val_loss: 7.1356e-04\n",
      "Epoch 58/200\n",
      "10/10 [==============================] - 0s 5ms/step - loss: 2.6705e-04 - val_loss: 7.0010e-04\n",
      "Epoch 59/200\n",
      "10/10 [==============================] - 0s 4ms/step - loss: 2.5779e-04 - val_loss: 6.8704e-04\n",
      "Epoch 60/200\n",
      "10/10 [==============================] - 0s 5ms/step - loss: 2.4884e-04 - val_loss: 6.7061e-04\n",
      "Epoch 61/200\n",
      "10/10 [==============================] - 0s 4ms/step - loss: 2.4020e-04 - val_loss: 6.5046e-04\n",
      "Epoch 62/200\n",
      "10/10 [==============================] - 0s 5ms/step - loss: 2.3264e-04 - val_loss: 6.3305e-04\n",
      "Epoch 63/200\n",
      "10/10 [==============================] - 0s 5ms/step - loss: 2.2554e-04 - val_loss: 6.2209e-04\n",
      "Epoch 64/200\n",
      "10/10 [==============================] - 0s 5ms/step - loss: 2.1777e-04 - val_loss: 6.0544e-04\n",
      "Epoch 65/200\n",
      "10/10 [==============================] - 0s 5ms/step - loss: 2.1069e-04 - val_loss: 5.9204e-04\n",
      "Epoch 66/200\n",
      "10/10 [==============================] - 0s 5ms/step - loss: 2.0481e-04 - val_loss: 5.7999e-04\n",
      "Epoch 67/200\n",
      "10/10 [==============================] - 0s 5ms/step - loss: 1.9777e-04 - val_loss: 5.6895e-04\n",
      "Epoch 68/200\n",
      "10/10 [==============================] - 0s 4ms/step - loss: 1.9213e-04 - val_loss: 5.5508e-04\n",
      "Epoch 69/200\n",
      "10/10 [==============================] - 0s 4ms/step - loss: 1.8657e-04 - val_loss: 5.4562e-04\n",
      "Epoch 70/200\n",
      "10/10 [==============================] - 0s 5ms/step - loss: 1.8096e-04 - val_loss: 5.3222e-04\n",
      "Epoch 71/200\n",
      "10/10 [==============================] - 0s 4ms/step - loss: 1.7573e-04 - val_loss: 5.2299e-04\n",
      "Epoch 72/200\n",
      "10/10 [==============================] - 0s 4ms/step - loss: 1.7042e-04 - val_loss: 5.1015e-04\n",
      "Epoch 73/200\n",
      "10/10 [==============================] - 0s 5ms/step - loss: 1.6576e-04 - val_loss: 5.0509e-04\n",
      "Epoch 74/200\n",
      "10/10 [==============================] - 0s 5ms/step - loss: 1.6119e-04 - val_loss: 4.9682e-04\n",
      "Epoch 75/200\n",
      "10/10 [==============================] - 0s 4ms/step - loss: 1.5668e-04 - val_loss: 4.8421e-04\n",
      "Epoch 76/200\n",
      "10/10 [==============================] - 0s 5ms/step - loss: 1.5232e-04 - val_loss: 4.7340e-04\n",
      "Epoch 77/200\n",
      "10/10 [==============================] - 0s 5ms/step - loss: 1.4851e-04 - val_loss: 4.6567e-04\n",
      "Epoch 78/200\n",
      "10/10 [==============================] - 0s 5ms/step - loss: 1.4443e-04 - val_loss: 4.5816e-04\n",
      "Epoch 79/200\n"
     ]
    },
    {
     "name": "stdout",
     "output_type": "stream",
     "text": [
      "10/10 [==============================] - 0s 5ms/step - loss: 1.4059e-04 - val_loss: 4.5042e-04\n",
      "Epoch 80/200\n",
      "10/10 [==============================] - 0s 5ms/step - loss: 1.3688e-04 - val_loss: 4.4048e-04\n",
      "Epoch 81/200\n",
      "10/10 [==============================] - 0s 5ms/step - loss: 1.3333e-04 - val_loss: 4.3365e-04\n",
      "Epoch 82/200\n",
      "10/10 [==============================] - 0s 5ms/step - loss: 1.3015e-04 - val_loss: 4.2873e-04\n",
      "Epoch 83/200\n",
      "10/10 [==============================] - 0s 5ms/step - loss: 1.2681e-04 - val_loss: 4.1713e-04\n",
      "Epoch 84/200\n",
      "10/10 [==============================] - 0s 5ms/step - loss: 1.2363e-04 - val_loss: 4.0979e-04\n",
      "Epoch 85/200\n",
      "10/10 [==============================] - 0s 5ms/step - loss: 1.2048e-04 - val_loss: 4.0375e-04\n",
      "Epoch 86/200\n",
      "10/10 [==============================] - 0s 5ms/step - loss: 1.1769e-04 - val_loss: 3.9603e-04\n",
      "Epoch 87/200\n",
      "10/10 [==============================] - 0s 5ms/step - loss: 1.1471e-04 - val_loss: 3.8931e-04\n",
      "Epoch 88/200\n",
      "10/10 [==============================] - 0s 5ms/step - loss: 1.1208e-04 - val_loss: 3.8380e-04\n",
      "Epoch 89/200\n",
      "10/10 [==============================] - 0s 5ms/step - loss: 1.0943e-04 - val_loss: 3.7823e-04\n",
      "Epoch 90/200\n",
      "10/10 [==============================] - 0s 5ms/step - loss: 1.0692e-04 - val_loss: 3.7228e-04\n",
      "Epoch 91/200\n",
      "10/10 [==============================] - 0s 4ms/step - loss: 1.0433e-04 - val_loss: 3.6576e-04\n",
      "Epoch 92/200\n",
      "10/10 [==============================] - 0s 5ms/step - loss: 1.0203e-04 - val_loss: 3.5872e-04\n",
      "Epoch 93/200\n",
      "10/10 [==============================] - 0s 5ms/step - loss: 9.9720e-05 - val_loss: 3.5469e-04\n",
      "Epoch 94/200\n",
      "10/10 [==============================] - 0s 4ms/step - loss: 9.7590e-05 - val_loss: 3.5130e-04\n",
      "Epoch 95/200\n",
      "10/10 [==============================] - 0s 4ms/step - loss: 9.5227e-05 - val_loss: 3.4438e-04\n",
      "Epoch 96/200\n",
      "10/10 [==============================] - 0s 5ms/step - loss: 9.3156e-05 - val_loss: 3.3733e-04\n",
      "Epoch 97/200\n",
      "10/10 [==============================] - 0s 4ms/step - loss: 9.1158e-05 - val_loss: 3.3143e-04\n",
      "Epoch 98/200\n",
      "10/10 [==============================] - 0s 5ms/step - loss: 8.9308e-05 - val_loss: 3.2743e-04\n",
      "Epoch 99/200\n",
      "10/10 [==============================] - 0s 5ms/step - loss: 8.7355e-05 - val_loss: 3.2463e-04\n",
      "Epoch 100/200\n",
      "10/10 [==============================] - 0s 4ms/step - loss: 8.5578e-05 - val_loss: 3.2079e-04\n",
      "Epoch 101/200\n",
      "10/10 [==============================] - 0s 5ms/step - loss: 8.3576e-05 - val_loss: 3.1489e-04\n",
      "Epoch 102/200\n",
      "10/10 [==============================] - 0s 4ms/step - loss: 8.1852e-05 - val_loss: 3.1036e-04\n",
      "Epoch 103/200\n",
      "10/10 [==============================] - 0s 5ms/step - loss: 8.0335e-05 - val_loss: 3.0788e-04\n",
      "Epoch 104/200\n",
      "10/10 [==============================] - 0s 4ms/step - loss: 7.8589e-05 - val_loss: 3.0186e-04\n",
      "Epoch 105/200\n",
      "10/10 [==============================] - 0s 5ms/step - loss: 7.6883e-05 - val_loss: 2.9655e-04\n",
      "Epoch 106/200\n",
      "10/10 [==============================] - 0s 5ms/step - loss: 7.5473e-05 - val_loss: 2.9300e-04\n",
      "Epoch 107/200\n",
      "10/10 [==============================] - 0s 6ms/step - loss: 7.3944e-05 - val_loss: 2.8911e-04\n",
      "Epoch 108/200\n",
      "10/10 [==============================] - 0s 5ms/step - loss: 7.2451e-05 - val_loss: 2.8587e-04\n",
      "Epoch 109/200\n",
      "10/10 [==============================] - 0s 4ms/step - loss: 7.1006e-05 - val_loss: 2.8194e-04\n",
      "Epoch 110/200\n",
      "10/10 [==============================] - 0s 5ms/step - loss: 6.9693e-05 - val_loss: 2.7918e-04\n",
      "Epoch 111/200\n",
      "10/10 [==============================] - 0s 4ms/step - loss: 6.8399e-05 - val_loss: 2.7583e-04\n",
      "Epoch 112/200\n",
      "10/10 [==============================] - 0s 5ms/step - loss: 6.6953e-05 - val_loss: 2.7244e-04\n",
      "Epoch 113/200\n",
      "10/10 [==============================] - 0s 5ms/step - loss: 6.5658e-05 - val_loss: 2.6767e-04\n",
      "Epoch 114/200\n",
      "10/10 [==============================] - 0s 5ms/step - loss: 6.4488e-05 - val_loss: 2.6448e-04\n",
      "Epoch 115/200\n",
      "10/10 [==============================] - 0s 5ms/step - loss: 6.3305e-05 - val_loss: 2.6105e-04\n",
      "Epoch 116/200\n",
      "10/10 [==============================] - 0s 5ms/step - loss: 6.2104e-05 - val_loss: 2.5771e-04\n",
      "Epoch 117/200\n",
      "10/10 [==============================] - 0s 5ms/step - loss: 6.1005e-05 - val_loss: 2.5522e-04\n",
      "Epoch 118/200\n",
      "10/10 [==============================] - 0s 5ms/step - loss: 5.9778e-05 - val_loss: 2.5147e-04\n",
      "Epoch 119/200\n",
      "10/10 [==============================] - 0s 5ms/step - loss: 5.8755e-05 - val_loss: 2.4850e-04\n",
      "Epoch 120/200\n",
      "10/10 [==============================] - 0s 5ms/step - loss: 5.7767e-05 - val_loss: 2.4573e-04\n",
      "Epoch 121/200\n",
      "10/10 [==============================] - 0s 5ms/step - loss: 5.6610e-05 - val_loss: 2.4312e-04\n",
      "Epoch 122/200\n",
      "10/10 [==============================] - 0s 4ms/step - loss: 5.5642e-05 - val_loss: 2.4085e-04\n",
      "Epoch 123/200\n",
      "10/10 [==============================] - 0s 4ms/step - loss: 5.4666e-05 - val_loss: 2.3731e-04\n",
      "Epoch 124/200\n",
      "10/10 [==============================] - 0s 5ms/step - loss: 5.3703e-05 - val_loss: 2.3630e-04\n",
      "Epoch 125/200\n",
      "10/10 [==============================] - 0s 5ms/step - loss: 5.2830e-05 - val_loss: 2.3200e-04\n",
      "Epoch 126/200\n",
      "10/10 [==============================] - 0s 4ms/step - loss: 5.1875e-05 - val_loss: 2.2907e-04\n",
      "Epoch 127/200\n",
      "10/10 [==============================] - 0s 4ms/step - loss: 5.0945e-05 - val_loss: 2.2654e-04\n",
      "Epoch 128/200\n",
      "10/10 [==============================] - 0s 5ms/step - loss: 5.0098e-05 - val_loss: 2.2415e-04\n",
      "Epoch 129/200\n",
      "10/10 [==============================] - 0s 5ms/step - loss: 4.9243e-05 - val_loss: 2.2107e-04\n",
      "Epoch 130/200\n",
      "10/10 [==============================] - 0s 5ms/step - loss: 4.8493e-05 - val_loss: 2.1811e-04\n",
      "Epoch 131/200\n",
      "10/10 [==============================] - 0s 5ms/step - loss: 4.7619e-05 - val_loss: 2.1617e-04\n",
      "Epoch 132/200\n",
      "10/10 [==============================] - 0s 5ms/step - loss: 4.6835e-05 - val_loss: 2.1330e-04\n",
      "Epoch 133/200\n",
      "10/10 [==============================] - 0s 5ms/step - loss: 4.6019e-05 - val_loss: 2.1142e-04\n",
      "Epoch 134/200\n",
      "10/10 [==============================] - 0s 5ms/step - loss: 4.5304e-05 - val_loss: 2.0951e-04\n",
      "Epoch 135/200\n",
      "10/10 [==============================] - 0s 5ms/step - loss: 4.4559e-05 - val_loss: 2.0696e-04\n",
      "Epoch 136/200\n",
      "10/10 [==============================] - 0s 5ms/step - loss: 4.3880e-05 - val_loss: 2.0417e-04\n",
      "Epoch 137/200\n",
      "10/10 [==============================] - 0s 5ms/step - loss: 4.3106e-05 - val_loss: 2.0185e-04\n",
      "Epoch 138/200\n",
      "10/10 [==============================] - 0s 5ms/step - loss: 4.2467e-05 - val_loss: 2.0017e-04\n",
      "Epoch 139/200\n",
      "10/10 [==============================] - 0s 5ms/step - loss: 4.1791e-05 - val_loss: 1.9886e-04\n",
      "Epoch 140/200\n",
      "10/10 [==============================] - 0s 5ms/step - loss: 4.1092e-05 - val_loss: 1.9680e-04\n",
      "Epoch 141/200\n",
      "10/10 [==============================] - 0s 4ms/step - loss: 4.0435e-05 - val_loss: 1.9466e-04\n",
      "Epoch 142/200\n",
      "10/10 [==============================] - 0s 5ms/step - loss: 3.9855e-05 - val_loss: 1.9294e-04\n",
      "Epoch 143/200\n",
      "10/10 [==============================] - 0s 4ms/step - loss: 3.9202e-05 - val_loss: 1.9161e-04\n",
      "Epoch 144/200\n",
      "10/10 [==============================] - 0s 4ms/step - loss: 3.8623e-05 - val_loss: 1.8992e-04\n",
      "Epoch 145/200\n",
      "10/10 [==============================] - 0s 5ms/step - loss: 3.8036e-05 - val_loss: 1.8827e-04\n",
      "Epoch 146/200\n",
      "10/10 [==============================] - 0s 4ms/step - loss: 3.7454e-05 - val_loss: 1.8572e-04\n",
      "Epoch 147/200\n",
      "10/10 [==============================] - 0s 5ms/step - loss: 3.6885e-05 - val_loss: 1.8434e-04\n",
      "Epoch 148/200\n",
      "10/10 [==============================] - 0s 5ms/step - loss: 3.6316e-05 - val_loss: 1.8257e-04\n",
      "Epoch 149/200\n",
      "10/10 [==============================] - 0s 5ms/step - loss: 3.5814e-05 - val_loss: 1.8170e-04\n",
      "Epoch 150/200\n",
      "10/10 [==============================] - 0s 5ms/step - loss: 3.5230e-05 - val_loss: 1.8008e-04\n",
      "Epoch 151/200\n",
      "10/10 [==============================] - 0s 4ms/step - loss: 3.4726e-05 - val_loss: 1.7781e-04\n",
      "Epoch 152/200\n",
      "10/10 [==============================] - 0s 5ms/step - loss: 3.4189e-05 - val_loss: 1.7611e-04\n",
      "Epoch 153/200\n",
      "10/10 [==============================] - 0s 4ms/step - loss: 3.3719e-05 - val_loss: 1.7414e-04\n",
      "Epoch 154/200\n"
     ]
    },
    {
     "name": "stdout",
     "output_type": "stream",
     "text": [
      "10/10 [==============================] - 0s 5ms/step - loss: 3.3221e-05 - val_loss: 1.7272e-04\n",
      "Epoch 155/200\n",
      "10/10 [==============================] - 0s 5ms/step - loss: 3.2722e-05 - val_loss: 1.7091e-04\n",
      "Epoch 156/200\n",
      "10/10 [==============================] - 0s 5ms/step - loss: 3.2271e-05 - val_loss: 1.6977e-04\n",
      "Epoch 157/200\n",
      "10/10 [==============================] - 0s 5ms/step - loss: 3.1815e-05 - val_loss: 1.6849e-04\n",
      "Epoch 158/200\n",
      "10/10 [==============================] - 0s 5ms/step - loss: 3.1360e-05 - val_loss: 1.6737e-04\n",
      "Epoch 159/200\n",
      "10/10 [==============================] - 0s 4ms/step - loss: 3.0892e-05 - val_loss: 1.6585e-04\n",
      "Epoch 160/200\n",
      "10/10 [==============================] - 0s 5ms/step - loss: 3.0455e-05 - val_loss: 1.6394e-04\n",
      "Epoch 161/200\n",
      "10/10 [==============================] - 0s 5ms/step - loss: 3.0076e-05 - val_loss: 1.6363e-04\n",
      "Epoch 162/200\n",
      "10/10 [==============================] - 0s 5ms/step - loss: 2.9612e-05 - val_loss: 1.6253e-04\n",
      "Epoch 163/200\n",
      "10/10 [==============================] - 0s 5ms/step - loss: 2.9218e-05 - val_loss: 1.6122e-04\n",
      "Epoch 164/200\n",
      "10/10 [==============================] - 0s 5ms/step - loss: 2.8812e-05 - val_loss: 1.6020e-04\n",
      "Epoch 165/200\n",
      "10/10 [==============================] - 0s 5ms/step - loss: 2.8451e-05 - val_loss: 1.5923e-04\n",
      "Epoch 166/200\n",
      "10/10 [==============================] - 0s 4ms/step - loss: 2.7997e-05 - val_loss: 1.5708e-04\n",
      "Epoch 167/200\n",
      "10/10 [==============================] - 0s 5ms/step - loss: 2.7643e-05 - val_loss: 1.5508e-04\n",
      "Epoch 168/200\n",
      "10/10 [==============================] - 0s 4ms/step - loss: 2.7294e-05 - val_loss: 1.5387e-04\n",
      "Epoch 169/200\n",
      "10/10 [==============================] - 0s 5ms/step - loss: 2.6888e-05 - val_loss: 1.5304e-04\n",
      "Epoch 170/200\n",
      "10/10 [==============================] - 0s 5ms/step - loss: 2.6539e-05 - val_loss: 1.5136e-04\n",
      "Epoch 171/200\n",
      "10/10 [==============================] - 0s 5ms/step - loss: 2.6173e-05 - val_loss: 1.5036e-04\n",
      "Epoch 172/200\n",
      "10/10 [==============================] - 0s 4ms/step - loss: 2.5849e-05 - val_loss: 1.4911e-04\n",
      "Epoch 173/200\n",
      "10/10 [==============================] - 0s 5ms/step - loss: 2.5473e-05 - val_loss: 1.4781e-04\n",
      "Epoch 174/200\n",
      "10/10 [==============================] - 0s 4ms/step - loss: 2.5194e-05 - val_loss: 1.4775e-04\n",
      "Epoch 175/200\n",
      "10/10 [==============================] - 0s 5ms/step - loss: 2.4818e-05 - val_loss: 1.4592e-04\n",
      "Epoch 176/200\n",
      "10/10 [==============================] - 0s 5ms/step - loss: 2.4503e-05 - val_loss: 1.4447e-04\n",
      "Epoch 177/200\n",
      "10/10 [==============================] - 0s 4ms/step - loss: 2.4172e-05 - val_loss: 1.4354e-04\n",
      "Epoch 178/200\n",
      "10/10 [==============================] - 0s 4ms/step - loss: 2.3891e-05 - val_loss: 1.4327e-04\n",
      "Epoch 179/200\n",
      "10/10 [==============================] - 0s 5ms/step - loss: 2.3560e-05 - val_loss: 1.4220e-04\n",
      "Epoch 180/200\n",
      "10/10 [==============================] - 0s 5ms/step - loss: 2.3288e-05 - val_loss: 1.4076e-04\n",
      "Epoch 181/200\n",
      "10/10 [==============================] - 0s 5ms/step - loss: 2.2943e-05 - val_loss: 1.3948e-04\n",
      "Epoch 182/200\n",
      "10/10 [==============================] - 0s 5ms/step - loss: 2.2674e-05 - val_loss: 1.3880e-04\n",
      "Epoch 183/200\n",
      "10/10 [==============================] - 0s 5ms/step - loss: 2.2383e-05 - val_loss: 1.3761e-04\n",
      "Epoch 184/200\n",
      "10/10 [==============================] - 0s 5ms/step - loss: 2.2121e-05 - val_loss: 1.3664e-04\n",
      "Epoch 185/200\n",
      "10/10 [==============================] - 0s 4ms/step - loss: 2.1809e-05 - val_loss: 1.3555e-04\n",
      "Epoch 186/200\n",
      "10/10 [==============================] - 0s 5ms/step - loss: 2.1544e-05 - val_loss: 1.3506e-04\n",
      "Epoch 187/200\n",
      "10/10 [==============================] - 0s 5ms/step - loss: 2.1283e-05 - val_loss: 1.3366e-04\n",
      "Epoch 188/200\n",
      "10/10 [==============================] - 0s 4ms/step - loss: 2.1031e-05 - val_loss: 1.3241e-04\n",
      "Epoch 189/200\n",
      "10/10 [==============================] - 0s 4ms/step - loss: 2.0768e-05 - val_loss: 1.3109e-04\n",
      "Epoch 190/200\n",
      "10/10 [==============================] - 0s 5ms/step - loss: 2.0493e-05 - val_loss: 1.3007e-04\n",
      "Epoch 191/200\n",
      "10/10 [==============================] - 0s 5ms/step - loss: 2.0252e-05 - val_loss: 1.2938e-04\n",
      "Epoch 192/200\n",
      "10/10 [==============================] - 0s 5ms/step - loss: 2.0015e-05 - val_loss: 1.2899e-04\n",
      "Epoch 193/200\n",
      "10/10 [==============================] - 0s 5ms/step - loss: 1.9769e-05 - val_loss: 1.2812e-04\n",
      "Epoch 194/200\n",
      "10/10 [==============================] - 0s 5ms/step - loss: 1.9529e-05 - val_loss: 1.2727e-04\n",
      "Epoch 195/200\n",
      "10/10 [==============================] - 0s 5ms/step - loss: 1.9277e-05 - val_loss: 1.2623e-04\n",
      "Epoch 196/200\n",
      "10/10 [==============================] - 0s 5ms/step - loss: 1.9060e-05 - val_loss: 1.2522e-04\n",
      "Epoch 197/200\n",
      "10/10 [==============================] - 0s 5ms/step - loss: 1.8831e-05 - val_loss: 1.2436e-04\n",
      "Epoch 198/200\n",
      "10/10 [==============================] - 0s 4ms/step - loss: 1.8604e-05 - val_loss: 1.2352e-04\n",
      "Epoch 199/200\n",
      "10/10 [==============================] - 0s 5ms/step - loss: 1.8384e-05 - val_loss: 1.2292e-04\n",
      "Epoch 200/200\n",
      "10/10 [==============================] - 0s 4ms/step - loss: 1.8182e-05 - val_loss: 1.2223e-04\n"
     ]
    }
   ],
   "source": [
    "hist = model.fit(X_train, y_train, epochs=200, validation_split=0.2)"
   ]
  },
  {
   "cell_type": "code",
   "execution_count": 24,
   "id": "3d63f2bf",
   "metadata": {},
   "outputs": [
    {
     "data": {
      "image/png": "[encoded data removed]",
      "text/plain": [
       "<Figure size 432x288 with 1 Axes>"
      ]
     },
     "metadata": {
      "needs_background": "light"
     },
     "output_type": "display_data"
    }
   ],
   "source": [
    "plt.plot(hist.history['loss'], label='loss')\n",
    "plt.plot(hist.history['val_loss'], label='val_loss')\n",
    "plt.legend()\n",
    "plt.show()"
   ]
  },
  {
   "cell_type": "code",
   "execution_count": 25,
   "id": "c75074f6",
   "metadata": {},
   "outputs": [
    {
     "name": "stdout",
     "output_type": "stream",
     "text": [
      "16/16 [==============================] - 0s 1ms/step\n"
     ]
    }
   ],
   "source": [
    "y_pred = model.predict(X)"
   ]
  },
  {
   "cell_type": "code",
   "execution_count": 29,
   "id": "d950e2e3",
   "metadata": {
    "scrolled": true
   },
   "outputs": [
    {
     "data": {
      "image/png": "[encoded data removed]",
      "text/plain": [
       "<Figure size 432x288 with 1 Axes>"
      ]
     },
     "metadata": {
      "needs_background": "light"
     },
     "output_type": "display_data"
    }
   ],
   "source": [
    "plt.scatter(X[:,0], X[:,1], s=5, c=y_pred)\n",
    "plt.show()"
   ]
  },
  {
   "cell_type": "code",
   "execution_count": 33,
   "id": "a1feca4c",
   "metadata": {},
   "outputs": [
    {
     "name": "stdout",
     "output_type": "stream",
     "text": [
      "1/1 [==============================] - 0s 24ms/step\n"
     ]
    },
    {
     "data": {
      "text/plain": [
       "array([[8.8701779e-01],\n",
       "       [9.5824820e-01],\n",
       "       [9.8343045e-01],\n",
       "       [1.4549350e-06]], dtype=float32)"
      ]
     },
     "execution_count": 33,
     "metadata": {},
     "output_type": "execute_result"
    }
   ],
   "source": [
    "model.predict([[-6, 0],[-8, 0], [-10, 0], [-2, 4]])   # 좌표들의 그룹 예측"
   ]
  },
  {
   "cell_type": "code",
   "execution_count": 34,
   "id": "4f00fb45",
   "metadata": {},
   "outputs": [
    {
     "name": "stdout",
     "output_type": "stream",
     "text": [
      "INFO:tensorflow:Assets written to: tf_bin_class\\assets\n",
      "학습된 모델을 파일에 저장함\n"
     ]
    }
   ],
   "source": [
    "model.save('tf_bin_class')\n",
    "print('학습된 모델을 파일에 저장함')"
   ]
  },
  {
   "cell_type": "code",
   "execution_count": 35,
   "id": "81217fed",
   "metadata": {},
   "outputs": [],
   "source": [
    "loaded_model = tf.keras.models.load_model('tf_bin_class')"
   ]
  },
  {
   "cell_type": "code",
   "execution_count": 38,
   "id": "938611c4",
   "metadata": {},
   "outputs": [
    {
     "name": "stdout",
     "output_type": "stream",
     "text": [
      "1/1 [==============================] - 0s 23ms/step\n"
     ]
    },
    {
     "data": {
      "text/plain": [
       "array([[8.8701779e-01],\n",
       "       [9.5824820e-01],\n",
       "       [9.8343045e-01],\n",
       "       [1.4549350e-06]], dtype=float32)"
      ]
     },
     "execution_count": 38,
     "metadata": {},
     "output_type": "execute_result"
    }
   ],
   "source": [
    "loaded_model.predict([[-6, 0],[-8, 0], [-10, 0], [-2, 4]])   # load한 모델로 실행 => 결과 동일"
   ]
  }
 ],
 "metadata": {
  "kernelspec": {
   "display_name": "Python 3 (ipykernel)",
   "language": "python",
   "name": "python3"
  },
  "language_info": {
   "codemirror_mode": {
    "name": "ipython",
    "version": 3
   },
   "file_extension": ".py",
   "mimetype": "text/x-python",
   "name": "python",
   "nbconvert_exporter": "python",
   "pygments_lexer": "ipython3",
   "version": "3.9.12"
  }
 },
 "nbformat": 4,
 "nbformat_minor": 5
}
