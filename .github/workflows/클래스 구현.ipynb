{
 "cells": [
  {
   "cell_type": "code",
   "execution_count": null,
   "id": "b1e191d0",
   "metadata": {},
   "outputs": [],
   "source": [
    "class Sample:\n",
    "    \n",
    "    def __init__(self,x,y):  #초기자,이스턴스 변수 초기화\n",
    "        self.x = x\n",
    "        self.y = y\n",
    "        print('sample object initialized')\n",
    "        \n",
    "    def __hash__(self):\n",
    "        print('__hash__()')\n",
    "        return self.hash(self.x,self.y)\n",
    "    \n",
    "    def __eq__(self, other):\n",
    "        print('eq')\n",
    "        return self.x==other.x and self.y==other.y\n",
    "    \n",
    "    def __str__(self):\n",
    "        return 'x:{}, y:{}'.format(self.x, self.y)"
   ]
  },
  {
   "cell_type": "code",
   "execution_count": null,
   "id": "ebb3fe7d",
   "metadata": {},
   "outputs": [],
   "source": [
    "s1 = Sample(3,4)   #객체생성 인스턴스(메모리에 생성)\n",
    "s2 = Sample(1,2)"
   ]
  },
  {
   "cell_type": "code",
   "execution_count": null,
   "id": "6927ed3a",
   "metadata": {},
   "outputs": [],
   "source": [
    "s1 == s2"
   ]
  },
  {
   "cell_type": "code",
   "execution_count": null,
   "id": "2a63b732",
   "metadata": {},
   "outputs": [],
   "source": [
    "s1.__eq__(s2)"
   ]
  },
  {
   "cell_type": "code",
   "execution_count": null,
   "id": "1bd9288e",
   "metadata": {},
   "outputs": [],
   "source": [
    "print(s1)\n",
    "print(s2)"
   ]
  },
  {
   "cell_type": "code",
   "execution_count": null,
   "id": "2355e36b",
   "metadata": {},
   "outputs": [],
   "source": [
    "class Product():\n",
    "    def __init__(self,num,name,price,year):\n",
    "        self.num = num\n",
    "        self.name = name\n",
    "        self.price = price\n",
    "        self.year = year\n",
    "        \n",
    "    def __str__(self):\n",
    "        return '번호:{}, 이름:{}, 가격:{}, 년도:{}'.format(self.num, self.name, self.price, self.year)\n",
    "    def printthis(self):\n",
    "        print(self)"
   ]
  },
  {
   "cell_type": "code",
   "execution_count": null,
   "id": "c86bb0eb",
   "metadata": {},
   "outputs": [],
   "source": [
    "p1 = Product(1, 'glod', 20000, 96031)\n",
    "p2 = Product(2, 'tiem', 99999, 12313)\n",
    "p3 = Product(2, 'tiem', 99999, 12313)\n",
    "p4 = Product(2, 'tiem', 99999, 12313)\n",
    "p5 = Product(2, 'tiem', 99999, 12313)\n",
    "\n",
    "alist = []\n",
    "alist.append(p1)\n",
    "alist.append(p2)\n",
    "alist.append(p3)\n",
    "alist.append(p4)\n",
    "alist.append(p5)\n",
    "\n"
   ]
  },
  {
   "cell_type": "code",
   "execution_count": null,
   "id": "225c02ac",
   "metadata": {},
   "outputs": [],
   "source": [
    "print(p1)\n",
    "print(p2)"
   ]
  },
  {
   "cell_type": "code",
   "execution_count": null,
   "id": "561eaa96",
   "metadata": {},
   "outputs": [],
   "source": [
    "for i in range(5):\n",
    "    print(alist[i])"
   ]
  },
  {
   "cell_type": "code",
   "execution_count": null,
   "id": "1fa72866",
   "metadata": {},
   "outputs": [],
   "source": [
    "alist[0].printthis()\n",
    "alist[1].printthis()"
   ]
  },
  {
   "cell_type": "code",
   "execution_count": null,
   "id": "b5aacaa5",
   "metadata": {},
   "outputs": [],
   "source": [
    "num=[1, 2, 3, 4]"
   ]
  },
  {
   "cell_type": "code",
   "execution_count": null,
   "id": "429bec4c",
   "metadata": {},
   "outputs": [],
   "source": [
    "num[0]"
   ]
  },
  {
   "cell_type": "code",
   "execution_count": null,
   "id": "14d5177e",
   "metadata": {},
   "outputs": [],
   "source": [
    "num[-1]"
   ]
  },
  {
   "cell_type": "code",
   "execution_count": null,
   "id": "d581d9d3",
   "metadata": {},
   "outputs": [],
   "source": [
    "import random"
   ]
  },
  {
   "cell_type": "code",
   "execution_count": null,
   "id": "dd602f5e",
   "metadata": {},
   "outputs": [],
   "source": [
    "num_list = []\n",
    "for i in range(10):\n",
    "    num_list.append(random.randint(1,45))\n",
    "print(num_list)"
   ]
  },
  {
   "cell_type": "code",
   "execution_count": null,
   "id": "8812c87a",
   "metadata": {},
   "outputs": [],
   "source": [
    "num_list[-10]"
   ]
  },
  {
   "cell_type": "code",
   "execution_count": null,
   "id": "9a42800f",
   "metadata": {},
   "outputs": [],
   "source": [
    "new_list = []\n",
    "for i in range(1,11):\n",
    "    new_list.append(num_list[(-1)*i])\n",
    "print(new_list)"
   ]
  },
  {
   "cell_type": "code",
   "execution_count": null,
   "id": "030f6769",
   "metadata": {},
   "outputs": [],
   "source": [
    "nums = [i for i in range(10)]\n",
    "nums"
   ]
  },
  {
   "cell_type": "code",
   "execution_count": null,
   "id": "253f0a91",
   "metadata": {},
   "outputs": [],
   "source": [
    "nums[2:5]"
   ]
  },
  {
   "cell_type": "code",
   "execution_count": null,
   "id": "4751324e",
   "metadata": {},
   "outputs": [],
   "source": [
    "nums[2:3]"
   ]
  },
  {
   "cell_type": "code",
   "execution_count": null,
   "id": "d5663997",
   "metadata": {},
   "outputs": [],
   "source": [
    "nums[1:9:2]"
   ]
  },
  {
   "cell_type": "code",
   "execution_count": null,
   "id": "4d6e6fc0",
   "metadata": {},
   "outputs": [],
   "source": [
    "a = [1,'a', 3.14, [0,2]]\n",
    "a"
   ]
  },
  {
   "cell_type": "code",
   "execution_count": null,
   "id": "05bebdf9",
   "metadata": {},
   "outputs": [],
   "source": [
    "[2,3] + [4,5]"
   ]
  },
  {
   "cell_type": "code",
   "execution_count": null,
   "id": "c747c6b2",
   "metadata": {},
   "outputs": [],
   "source": [
    "str = \"ab\" + \"c\""
   ]
  },
  {
   "cell_type": "code",
   "execution_count": null,
   "id": "68b95a51",
   "metadata": {},
   "outputs": [],
   "source": [
    "str"
   ]
  },
  {
   "cell_type": "code",
   "execution_count": null,
   "id": "bb4a8e34",
   "metadata": {},
   "outputs": [],
   "source": [
    "\"ab\"*3"
   ]
  },
  {
   "cell_type": "code",
   "execution_count": null,
   "id": "49cb249f",
   "metadata": {},
   "outputs": [],
   "source": [
    "num=[1, 2, 3, 4, 5]\n",
    "num[2]"
   ]
  },
  {
   "cell_type": "code",
   "execution_count": null,
   "id": "fd1ea946",
   "metadata": {},
   "outputs": [],
   "source": [
    "str = 'abdefghijk'\n",
    "str[4]"
   ]
  },
  {
   "cell_type": "code",
   "execution_count": null,
   "id": "e7406c86",
   "metadata": {},
   "outputs": [],
   "source": [
    "str[6:]"
   ]
  },
  {
   "cell_type": "code",
   "execution_count": null,
   "id": "4b81d551",
   "metadata": {},
   "outputs": [],
   "source": [
    "#리스트 원소를 문자열로 변환하기\n",
    "num = ['a', '4', '5', '6', '7']\n",
    "' '.join(num)"
   ]
  },
  {
   "cell_type": "code",
   "execution_count": null,
   "id": "f37044dd",
   "metadata": {},
   "outputs": [],
   "source": [
    "''.join(num)"
   ]
  },
  {
   "cell_type": "code",
   "execution_count": null,
   "id": "1858b6a5",
   "metadata": {},
   "outputs": [],
   "source": [
    "alpha = chr(97)\n",
    "alpha"
   ]
  },
  {
   "cell_type": "code",
   "execution_count": null,
   "id": "c6845d40",
   "metadata": {},
   "outputs": [],
   "source": [
    "import string"
   ]
  },
  {
   "cell_type": "code",
   "execution_count": null,
   "id": "25b33900",
   "metadata": {},
   "outputs": [],
   "source": [
    "rand_str = \"\""
   ]
  },
  {
   "cell_type": "code",
   "execution_count": null,
   "id": "eaf091fc",
   "metadata": {},
   "outputs": [],
   "source": [
    "for i in range(32):\n",
    "    rand_str += random.choice(string.ascii_uppercase)\n",
    "rand_str"
   ]
  },
  {
   "cell_type": "code",
   "execution_count": null,
   "id": "f5550477",
   "metadata": {},
   "outputs": [],
   "source": [
    "chr_list = [chr(97+i) for i in range(26)]\n",
    "num_list = ['{}'.format(i) for i in range(10)]\n",
    "chrs = chr_list + num_list\n",
    "len(chrs) #36"
   ]
  },
  {
   "cell_type": "code",
   "execution_count": null,
   "id": "7444dda6",
   "metadata": {},
   "outputs": [],
   "source": [
    "''.join([chrs[random.randint(0, 36)] for _ in range(32)])"
   ]
  },
  {
   "cell_type": "code",
   "execution_count": null,
   "id": "5d81a344",
   "metadata": {},
   "outputs": [],
   "source": [
    "len(\"hello\")\n",
    "len([3,4,5,6])"
   ]
  },
  {
   "cell_type": "code",
   "execution_count": null,
   "id": "9dbce020",
   "metadata": {},
   "outputs": [],
   "source": [
    "num_list = []\n",
    "for i in range(32):\n",
    "    num_list.append(random.randint(1,45))\n",
    "print(num_list)"
   ]
  },
  {
   "cell_type": "code",
   "execution_count": null,
   "id": "dba4851a-34ab-4787-af3a-2209a683abd8",
   "metadata": {},
   "outputs": [],
   "source": [
    "import random"
   ]
  },
  {
   "cell_type": "code",
   "execution_count": null,
   "id": "e2d59fb8",
   "metadata": {},
   "outputs": [],
   "source": [
    "def get_list(a,b,c):\n",
    "    \n",
    "    list_num = []\n",
    "    for i in range(a):\n",
    "        list_num.append(random.randint(b,c))\n",
    "    \n",
    "    return print(list_num)"
   ]
  },
  {
   "cell_type": "code",
   "execution_count": null,
   "id": "df98e399",
   "metadata": {},
   "outputs": [],
   "source": [
    "new_list = get_list(10,2,13)"
   ]
  },
  {
   "cell_type": "code",
   "execution_count": null,
   "id": "4f4a98a5",
   "metadata": {},
   "outputs": [],
   "source": [
    "print(new_list)"
   ]
  },
  {
   "cell_type": "code",
   "execution_count": null,
   "id": "d3a0a263",
   "metadata": {},
   "outputs": [],
   "source": [
    "get_list(23,1,5)"
   ]
  },
  {
   "cell_type": "code",
   "execution_count": null,
   "id": "2460d150",
   "metadata": {},
   "outputs": [],
   "source": [
    "list1 = [1,2,3,4,5]\n",
    "list1[4] =10"
   ]
  },
  {
   "cell_type": "code",
   "execution_count": null,
   "id": "04e2667f",
   "metadata": {},
   "outputs": [],
   "source": [
    "list1"
   ]
  },
  {
   "cell_type": "code",
   "execution_count": null,
   "id": "081655a5",
   "metadata": {},
   "outputs": [],
   "source": [
    "list1.remove(10)"
   ]
  },
  {
   "cell_type": "code",
   "execution_count": null,
   "id": "2d2f1068",
   "metadata": {},
   "outputs": [],
   "source": [
    "list1"
   ]
  },
  {
   "cell_type": "code",
   "execution_count": null,
   "id": "bf0d6d32",
   "metadata": {},
   "outputs": [],
   "source": [
    "max(list1)\n",
    "min(list1)"
   ]
  },
  {
   "cell_type": "code",
   "execution_count": null,
   "id": "6f3e933e-108e-45a8-a761-d8bb980f8a15",
   "metadata": {},
   "outputs": [],
   "source": [
    "list1=[]\n",
    "list1.append('a')\n",
    "list1.append(1)\n",
    "list1"
   ]
  },
  {
   "cell_type": "code",
   "execution_count": null,
   "id": "bbaa7097-13e2-4c6d-a8ca-acc2402fba38",
   "metadata": {},
   "outputs": [],
   "source": [
    "list1.extend(['c', 7])\n",
    "list1"
   ]
  },
  {
   "cell_type": "code",
   "execution_count": null,
   "id": "fe01db4e-f1ee-4df1-89b9-e2e580d5e60d",
   "metadata": {},
   "outputs": [],
   "source": [
    "list1.clear()\n",
    "list1"
   ]
  },
  {
   "cell_type": "code",
   "execution_count": null,
   "id": "38b2995e-619c-4f09-977c-c2c0e8efa5c4",
   "metadata": {},
   "outputs": [],
   "source": [
    "list1 = [3,4,5,6,7]\n",
    "list1.insert(2,100)\n",
    "list1"
   ]
  },
  {
   "cell_type": "code",
   "execution_count": null,
   "id": "22b4c4fd-f06c-42f2-93d0-fc6f7b11a642",
   "metadata": {},
   "outputs": [],
   "source": [
    "list1\n",
    "deleted = list1.pop(2)\n",
    "print('{}'.format(deleted))"
   ]
  },
  {
   "cell_type": "code",
   "execution_count": null,
   "id": "f8eb808e",
   "metadata": {},
   "outputs": [],
   "source": [
    "len(list1)\n",
    "list1.count(5)"
   ]
  },
  {
   "cell_type": "code",
   "execution_count": null,
   "id": "3e6bf4ce-b20b-4734-b47b-e2ac3c202f55",
   "metadata": {},
   "outputs": [],
   "source": [
    "list1.count(5)"
   ]
  },
  {
   "cell_type": "code",
   "execution_count": 1,
   "id": "fd521ece-1dda-4477-8caf-765699e0444f",
   "metadata": {},
   "outputs": [],
   "source": [
    "class Member:\n",
    "    def __init__(self, num, name, phone):\n",
    "        self.num = num\n",
    "        self.name = name\n",
    "        self.phone = phone\n",
    "    def __str__(self):\n",
    "        return '{}  {}  {}'.format(self.num,self.name,self.phone)"
   ]
  },
  {
   "cell_type": "code",
   "execution_count": 2,
   "id": "f3914a58-54bc-4d3c-aeda-08c890618bac",
   "metadata": {},
   "outputs": [],
   "source": [
    "member1 = Member(1,'영철', '010-7227-0707')"
   ]
  },
  {
   "cell_type": "code",
   "execution_count": 3,
   "id": "d3eae59b-7d79-49ec-a510-e80b96a27f60",
   "metadata": {},
   "outputs": [
    {
     "name": "stdout",
     "output_type": "stream",
     "text": [
      "1  영철  010-7227-0707\n"
     ]
    }
   ],
   "source": [
    "print(member1)"
   ]
  },
  {
   "cell_type": "code",
   "execution_count": 4,
   "id": "fa72e1dd-bce8-4505-8e59-e67f3bc92850",
   "metadata": {},
   "outputs": [],
   "source": [
    "total_member=[]\n",
    "total_member.append(member1)"
   ]
  },
  {
   "cell_type": "code",
   "execution_count": 5,
   "id": "71baaa22-78ff-4395-b6de-c94a179b7d80",
   "metadata": {},
   "outputs": [
    {
     "name": "stdout",
     "output_type": "stream",
     "text": [
      "1  영철  010-7227-0707\n"
     ]
    }
   ],
   "source": [
    "print(total_member[0])"
   ]
  },
  {
   "cell_type": "code",
   "execution_count": 6,
   "id": "519b02f9-51bb-4e88-8b65-fe57dcf5b3fb",
   "metadata": {},
   "outputs": [
    {
     "data": {
      "text/plain": [
       "1"
      ]
     },
     "execution_count": 6,
     "metadata": {},
     "output_type": "execute_result"
    }
   ],
   "source": [
    "len(total_member)"
   ]
  },
  {
   "cell_type": "code",
   "execution_count": 88,
   "id": "bad576b4-70c0-4d20-9ae9-ce88107d9d87",
   "metadata": {},
   "outputs": [],
   "source": [
    "class List:\n",
    "    def getlist():\n",
    "        for i in range(len(total_member)):\n",
    "            print(total_member[i])\n",
    "            \n",
    "    def creat_member():\n",
    "        str_member = input('정보를 입력하세요')\n",
    "        member_data = str_member.split()\n",
    "        total_member.append(Member(member_data[0], member_data[1], member_data[2]))\n",
    "        print('추가완료')\n",
    "        \n",
    "    def deleted(innum):\n",
    "        for i in range(len(total_member)):\n",
    "            if int(total_member[i].num) == innum:\n",
    "                total_member.pop(i)\n",
    "                print('삭제완료')\n",
    "                return\n",
    "\n",
    "        print('찾을 수 없습니다.')\n",
    "                \n",
    "    def updated(innum):\n",
    "        for i in range(len(total_member)):\n",
    "            if int(total_member[i].num) == innum:\n",
    "                total_member.pop(i)\n",
    "                str_member = input('수정된 정보를 입력하세요')\n",
    "                member2_data = str_member.split()\n",
    "                edit_member = Member(member2_data[0], member2_data[1], member2_data[2])\n",
    "                total_member.insert(i,edit_member)\n",
    "                print('수정완료')\n",
    "                return\n",
    "\n",
    "        print('찾을 수 없습니다.')\n",
    "\n",
    "    def serch(innum):\n",
    "        for i in range(len(total_member)):\n",
    "            if int(total_member[i].num) == innum:\n",
    "                print(total_member[i])\n",
    "                return\n",
    "    \n",
    "    def allend():\n",
    "        total_member.clear()\n",
    "        print('초기화')\n",
    "    \n",
    "test = List"
   ]
  },
  {
   "cell_type": "code",
   "execution_count": null,
   "id": "323ca3b8-8990-4ecb-969b-cca826c4a4cf",
   "metadata": {},
   "outputs": [],
   "source": [
    "#test = List"
   ]
  },
  {
   "cell_type": "code",
   "execution_count": 95,
   "id": "9b3921e4-ad1f-4432-86f0-a3f882952f7d",
   "metadata": {},
   "outputs": [
    {
     "name": "stdin",
     "output_type": "stream",
     "text": [
      "정보를 입력하세요 1 sdfa 123123\n"
     ]
    },
    {
     "name": "stdout",
     "output_type": "stream",
     "text": [
      "추가완료\n"
     ]
    }
   ],
   "source": [
    "test.creat_member()"
   ]
  },
  {
   "cell_type": "code",
   "execution_count": 100,
   "id": "780940d6-0b2c-4e48-a7bb-769ee5b0e239",
   "metadata": {},
   "outputs": [
    {
     "name": "stdout",
     "output_type": "stream",
     "text": [
      "2  asdf  123123\n"
     ]
    }
   ],
   "source": [
    "test.getlist()"
   ]
  },
  {
   "cell_type": "code",
   "execution_count": 93,
   "id": "2776b1b7-1cfa-4544-8b19-b8d51dc59207",
   "metadata": {},
   "outputs": [
    {
     "name": "stdout",
     "output_type": "stream",
     "text": [
      "삭제완료\n"
     ]
    }
   ],
   "source": [
    "test.deleted(1)"
   ]
  },
  {
   "cell_type": "code",
   "execution_count": 97,
   "id": "28961ce5-eca1-408b-b897-cff152191323",
   "metadata": {},
   "outputs": [
    {
     "name": "stdout",
     "output_type": "stream",
     "text": [
      "1  sdfa  123123\n"
     ]
    }
   ],
   "source": [
    "test.serch(1)"
   ]
  },
  {
   "cell_type": "code",
   "execution_count": 99,
   "id": "1e6635ed-87e3-43cc-bbc5-197322b8c404",
   "metadata": {},
   "outputs": [
    {
     "name": "stdin",
     "output_type": "stream",
     "text": [
      "수정된 정보를 입력하세요 2 asdf 123123\n"
     ]
    },
    {
     "name": "stdout",
     "output_type": "stream",
     "text": [
      "수정완료\n"
     ]
    }
   ],
   "source": [
    "test.updated(1)"
   ]
  },
  {
   "cell_type": "code",
   "execution_count": 83,
   "id": "80a61484-0ec5-44b8-8725-28ce99b1963c",
   "metadata": {},
   "outputs": [
    {
     "name": "stdout",
     "output_type": "stream",
     "text": [
      "초기화\n"
     ]
    }
   ],
   "source": [
    "test.allend()"
   ]
  },
  {
   "cell_type": "code",
   "execution_count": null,
   "id": "3e601f36-41dc-4161-b5fb-ca492d31bc4e",
   "metadata": {},
   "outputs": [],
   "source": []
  }
 ],
 "metadata": {
  "kernelspec": {
   "display_name": "Python 3 (ipykernel)",
   "language": "python",
   "name": "python3"
  },
  "language_info": {
   "codemirror_mode": {
    "name": "ipython",
    "version": 3
   },
   "file_extension": ".py",
   "mimetype": "text/x-python",
   "name": "python",
   "nbconvert_exporter": "python",
   "pygments_lexer": "ipython3",
   "version": "3.9.12"
  }
 },
 "nbformat": 4,
 "nbformat_minor": 5
}
