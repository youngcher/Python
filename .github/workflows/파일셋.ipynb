{
 "cells": [
  {
   "cell_type": "code",
   "execution_count": null,
   "id": "75c9e0ab-b5e5-4f58-8d8d-15960359d4d4",
   "metadata": {},
   "outputs": [],
   "source": [
    "r = range(0,10)"
   ]
  },
  {
   "cell_type": "code",
   "execution_count": null,
   "id": "5cfddcd3-3ac5-42c6-97a7-b48c33fea3ea",
   "metadata": {},
   "outputs": [],
   "source": [
    "type(r)"
   ]
  },
  {
   "cell_type": "code",
   "execution_count": null,
   "id": "78715d5a-e170-42fc-baa5-f897d192bfee",
   "metadata": {},
   "outputs": [],
   "source": [
    "list(r)"
   ]
  },
  {
   "cell_type": "code",
   "execution_count": null,
   "id": "c72e47aa-567f-4b5c-84ab-002067a18170",
   "metadata": {},
   "outputs": [],
   "source": [
    "list(range(1,5))\n",
    "list(range(1,5,1))\n",
    "list(range(1,5,2))\n",
    "list(range(5,0,-1))"
   ]
  },
  {
   "cell_type": "code",
   "execution_count": null,
   "id": "9ef822ed-ce5b-4695-812e-a9e7eed60146",
   "metadata": {},
   "outputs": [],
   "source": [
    "# 함수 작성\n",
    "def list_sum(nums):\n",
    "      return sum(nums)\n",
    "\n",
    "list_sum([1,2,3,4,5]) #실인자"
   ]
  },
  {
   "cell_type": "code",
   "execution_count": null,
   "id": "0aa1455d-a768-4105-a9e6-6230096342ea",
   "metadata": {},
   "outputs": [],
   "source": [
    "def add_num(a, b=0):  #b는 defuali 값을 가진다. 뒤로 뺀다\n",
    "      c = a+b\n",
    "      print(f\"{a} + {b} = {c}\")"
   ]
  },
  {
   "cell_type": "code",
   "execution_count": null,
   "id": "4b218abe-2bae-40fc-813a-6ac6eaf6e8ff",
   "metadata": {},
   "outputs": [],
   "source": [
    "add_num(3,5)  #Positional Arguments"
   ]
  },
  {
   "cell_type": "code",
   "execution_count": null,
   "id": "7869e931-83c2-46fe-84dd-32052f2a42d5",
   "metadata": {},
   "outputs": [],
   "source": [
    "add_num(b=3,a=5) #Keyword Arguments"
   ]
  },
  {
   "cell_type": "code",
   "execution_count": null,
   "id": "e959f1c7-aa06-44fc-9ecf-3d3a8adfb620",
   "metadata": {},
   "outputs": [],
   "source": [
    "add_num(3)"
   ]
  },
  {
   "cell_type": "markdown",
   "id": "2b446a60-05a9-4b60-a627-ab517c68c551",
   "metadata": {},
   "source": [
    "## Variable length arguments 가변인자\n",
    " * positional arguments\n",
    " * keyword arguments"
   ]
  },
  {
   "cell_type": "code",
   "execution_count": null,
   "id": "f991ee28-5c55-414b-b857-cfa89a4082e5",
   "metadata": {},
   "outputs": [],
   "source": [
    "def young_add(nums):\n",
    "      print(sum(nums))"
   ]
  },
  {
   "cell_type": "code",
   "execution_count": null,
   "id": "d7cb720a-a170-46f1-8198-58aeaacfec1f",
   "metadata": {},
   "outputs": [],
   "source": [
    "young_add([1,2,3,4,5])"
   ]
  },
  {
   "cell_type": "code",
   "execution_count": null,
   "id": "beada109-48d9-46f0-9612-0f94688903bd",
   "metadata": {},
   "outputs": [],
   "source": [
    "young_add((1,2,3))"
   ]
  },
  {
   "cell_type": "code",
   "execution_count": null,
   "id": "90865bfb-b743-43f2-9874-9f51eea7b811",
   "metadata": {},
   "outputs": [],
   "source": [
    "def young_add2(*arg):  #Valiable Length Positional Arguments\n",
    "      print(sum(arg))"
   ]
  },
  {
   "cell_type": "code",
   "execution_count": null,
   "id": "0a086a21-de59-432a-8b6c-22a60d304d27",
   "metadata": {},
   "outputs": [],
   "source": [
    "young_add2(1,2,4)\n",
    "young_add2(1,2,3,46,7,8,9)"
   ]
  },
  {
   "cell_type": "code",
   "execution_count": null,
   "id": "d628637e-81fe-466a-8856-782023c74c49",
   "metadata": {},
   "outputs": [],
   "source": [
    "def test(**keyargs):\n",
    "      # print(type(keyargs))\n",
    "      print(keyargs.get('sal'))\n",
    "      "
   ]
  },
  {
   "cell_type": "code",
   "execution_count": null,
   "id": "d27540af-ab18-4e0c-a136-e35ec25eedfd",
   "metadata": {},
   "outputs": [],
   "source": [
    "#Keyword argument 다수개의 파라미터를 전달할 때\n",
    "test(num=11, name=\"smith\", dept=10)\n",
    "test(num=12, name=\"young\", sal=1000, dept=100)"
   ]
  },
  {
   "cell_type": "markdown",
   "id": "780b2687-dac4-407d-abe5-f7efa8b9b259",
   "metadata": {},
   "source": [
    "# 파일 다루기"
   ]
  },
  {
   "cell_type": "code",
   "execution_count": null,
   "id": "552b24e0-1ac4-449e-b89f-95892dc0b099",
   "metadata": {},
   "outputs": [],
   "source": [
    "# 파일 : 메모리가 아니라 디스크에 저장된 데이터의 집합\n",
    "# 텍스트 파일 : 저장된 데이터를 읽어서 텍스트로 디코딩해야 볼 수 있다.\n",
    "# 이진 파일 : 텍스트 파일이 아닌 그 이외의 데이터를 저장한 파일\n",
    "# mode : r(읽기), w(쓰기), a(추가), x(생성), b(이진 데이터), t(텍스트), +\n",
    "# mode 설정의 예 : r(rt), wb, r+"
   ]
  },
  {
   "cell_type": "code",
   "execution_count": null,
   "id": "ddb9950d-17de-46be-9560-83f94642ac69",
   "metadata": {},
   "outputs": [],
   "source": [
    "# 파일 생성(w)\n",
    "fstream = open(\"my_semple.txt\", 'w', encoding='utf-8')"
   ]
  },
  {
   "cell_type": "code",
   "execution_count": null,
   "id": "54334965-5b19-4d13-b879-ac33d68f47ab",
   "metadata": {},
   "outputs": [],
   "source": [
    "fstream.write('내가 만든 파일')"
   ]
  },
  {
   "cell_type": "code",
   "execution_count": null,
   "id": "c9412bed-1b05-4958-a41a-6d741dfa1071",
   "metadata": {},
   "outputs": [],
   "source": [
    "fstream.close()\n",
    "print('파일 생성 성공!')"
   ]
  },
  {
   "cell_type": "code",
   "execution_count": null,
   "id": "1416a753-671b-410d-bbea-334e395b8aa7",
   "metadata": {},
   "outputs": [],
   "source": [
    "#파일 읽어오기\n",
    "fstream = open(\"my_semple.txt\", encoding='utf-8')\n",
    "data = fstream.read()\n",
    "print(data)\n",
    "fstream.close()"
   ]
  },
  {
   "cell_type": "code",
   "execution_count": null,
   "id": "e687e27d-01ef-4c02-84e2-0ecb0bda74a6",
   "metadata": {},
   "outputs": [],
   "source": [
    "#절대경로를 이용한 파일 생성\n",
    "fstream = open('D:/test/my_sample.txt', 'w', encoding='utf-8')\n",
    "fstream.write('내가 만든 파일w')\n",
    "fstream.close()"
   ]
  },
  {
   "cell_type": "code",
   "execution_count": null,
   "id": "99cf2888-6316-43d0-8662-6f68fde49764",
   "metadata": {},
   "outputs": [],
   "source": [
    "# 문자열 안의 \\기능을 해제하려면 \\\\두번 사용하거나 문자열 앞에 'r'을 추가하면 된다.\n",
    "fstream = open('D:/test/my_sample.txt', encoding='utf-8')\n",
    "data = fstream.read()\n",
    "print(data)\n",
    "fstream.close()"
   ]
  },
  {
   "cell_type": "code",
   "execution_count": null,
   "id": "4a3ebb8d-efb6-4c0b-ab89-11823c9f5cd9",
   "metadata": {},
   "outputs": [],
   "source": [
    "# 파일을 열 때 with 블럭을 사용하면 블럭이 모두 실행된 후에 자동으로 close()된다.\n",
    "with open('D:/test/my_sample.txt', encoding='utf-8') as fstream:\n",
    "      data = fstream.read()\n",
    "      print(data)\n",
    "      fstream.close()"
   ]
  },
  {
   "cell_type": "code",
   "execution_count": null,
   "id": "8499ae34-5d38-4667-81c0-b3f6a044c4f8",
   "metadata": {},
   "outputs": [],
   "source": [
    "# 현재 작업 다렉토리에 포함된 내용 목록 보기\n",
    "import os\n",
    "os.listdir()"
   ]
  },
  {
   "cell_type": "code",
   "execution_count": null,
   "id": "1d85d68b-50f3-456d-9934-9a4abd70fb5e",
   "metadata": {},
   "outputs": [],
   "source": [
    "os.path.isfile('first.py')"
   ]
  },
  {
   "cell_type": "code",
   "execution_count": null,
   "id": "4f1deaf8-88e9-4cba-bcf6-3ea7d927e300",
   "metadata": {},
   "outputs": [],
   "source": [
    "# 디렉토리와 파일을 나눠서 경로를 생성\n",
    "abspath = os.path.join('D:/test', \"testfile.txt\")\n",
    "abspath"
   ]
  },
  {
   "cell_type": "code",
   "execution_count": null,
   "id": "dca44924-b590-461a-bbd5-5010e5ef2e1e",
   "metadata": {},
   "outputs": [],
   "source": [
    "import datetime\n",
    "a=datetime.datetime.now()\n",
    "a.hour"
   ]
  },
  {
   "cell_type": "code",
   "execution_count": null,
   "id": "f9f667bf-c65a-40ae-b31a-e6b1a5636332",
   "metadata": {},
   "outputs": [],
   "source": [
    "#현재 시간을 구해서 시간 문자열을 생성하고 그 문자열을 파일명으로 하여 파일 생성\n",
    "# 파일 내용에는 연, 월, 일, 시, 분, 초를 내렬쓰기 해라."
   ]
  },
  {
   "cell_type": "code",
   "execution_count": null,
   "id": "38a15488-3b24-486b-914e-7b3b8c4344b8",
   "metadata": {},
   "outputs": [],
   "source": [
    "try:\n",
    "      with open('sample.txt', 'x', encoding='utf-8') as fstream:\n",
    "            print('new file create')\n",
    "except:\n",
    "      print('could not find file')\n",
    "finally:\n",
    "      print('finish work')\n",
    "      fstream.close()"
   ]
  },
  {
   "cell_type": "code",
   "execution_count": null,
   "id": "39871e21-e592-40c3-a81a-57d000590f48",
   "metadata": {},
   "outputs": [],
   "source": [
    "import datetime\n",
    "try:\n",
    "      abc = open('time.txt', 'w', encoding='utf-8')\n",
    "      a=datetime.datetime.now()\n",
    "      abc.write('년: '+str(a.year) + '\\n')\n",
    "      abc.write('월: '+str(a.month)+ '\\n')\n",
    "      abc.write('일: '+str(a.day)+ '\\n')\n",
    "      abc.write('시: '+str(a.hour)+ '\\n')\n",
    "      abc.write('분: '+str(a.minute)+ '\\n')\n",
    "      abc.write('초: '+str(a.second)+ '\\n')\n",
    "except:\n",
    "      print('This is error')\n",
    "finally:\n",
    "      abc.close()"
   ]
  },
  {
   "cell_type": "code",
   "execution_count": null,
   "id": "e5459a04-3c34-4a17-863a-09a9f4745bec",
   "metadata": {},
   "outputs": [],
   "source": [
    "# 파일 복사\n",
    "import shutil\n",
    "shutil.copy('time.txt','time_copy.txt')"
   ]
  },
  {
   "cell_type": "code",
   "execution_count": null,
   "id": "253b28e5-9ad8-4c10-8113-bd352fe5e16b",
   "metadata": {},
   "outputs": [],
   "source": [
    "# 파일 이름 수정\n",
    "import os\n",
    "os.rename('','')"
   ]
  },
  {
   "cell_type": "code",
   "execution_count": null,
   "id": "0ed69c10-047c-4c4b-a216-4dded60474b3",
   "metadata": {},
   "outputs": [],
   "source": [
    "# 파일 삭제\n",
    "import os\n",
    "os.remove('file_nmae')"
   ]
  },
  {
   "cell_type": "code",
   "execution_count": null,
   "id": "0edde0bf-dd07-4952-a0c1-2dadad633cda",
   "metadata": {},
   "outputs": [],
   "source": [
    "#이미지 파일을 읽어오기\n",
    "fstream = open('sample.jpg', 'rb')\n",
    "data = fstream.read()\n",
    "fstream.close()\n",
    "\n",
    "fstream = open('sample_copy.jpg', 'wb')\n",
    "fstream.write(data)\n",
    "fstream.close()\n",
    "\n",
    "print('이미지 파일 복사 완료')"
   ]
  },
  {
   "cell_type": "code",
   "execution_count": null,
   "id": "ba8db184-48da-4574-8f0f-72833ace2f78",
   "metadata": {},
   "outputs": [],
   "source": [
    "fstream = open('D:/test/my_sample.txt', encoding='utf-8')"
   ]
  },
  {
   "cell_type": "code",
   "execution_count": null,
   "id": "c8312e39-b263-454e-9311-54fc97a5847f",
   "metadata": {},
   "outputs": [],
   "source": [
    "fstream = open('D:/test/my_sample.txt', encoding='utf-8')\n",
    "data = fstream.readline()\n",
    "data2 = fstream.readline()\n",
    "print(data)\n",
    "print(data2)\n",
    "fstream.close()"
   ]
  },
  {
   "cell_type": "code",
   "execution_count": null,
   "id": "5fdc220e-4d35-4522-b51b-7823d57d29d9",
   "metadata": {},
   "outputs": [],
   "source": [
    "#특정 이름이 포함된 행을 검색하여 화면에 표시해보세요\n",
    "with open('D:/test/my_sample.txt', encoding='utf-8') as fin:\n",
    "      for line in fin:\n",
    "            _, name, _, _ = line.split()\n",
    "            if name == 'young':\n",
    "                  print(line.strip())\n",
    "fin.close()"
   ]
  },
  {
   "cell_type": "markdown",
   "id": "4f6a6fbb-b541-48ab-908f-4e54f502e25b",
   "metadata": {},
   "source": [
    "# 텍스트 파일 특정 행 데이터 변경\n",
    "* 항행씩 읽어온다(디스크에 메모리에 로드한다.)\n",
    "* 변경 대상 행이라면 그 행 안의 전화번호만 변경하여 메모리에 로드한다.\n",
    "* 텍스트 파일의 내용이 전체 로드되면 다시 디스크에 덮어 쓰기가 된다."
   ]
  },
  {
   "cell_type": "code",
   "execution_count": 19,
   "id": "533bd8ab-c768-49c0-9408-d0c30d60ec51",
   "metadata": {},
   "outputs": [],
   "source": [
    "emp_list = []\n",
    "\n",
    "with open('D:/test/my_sample.txt', encoding='utf-8') as fin:\n",
    "      for line in fin:\n",
    "            num, name, dept, tel = line.split()\n",
    "            if name == 'young':\n",
    "                  tel = '010-000-0000'\n",
    "                  newline = '{} {} {} {} \\n'.format(num,name,dept,tel)\n",
    "                  emp_list.append(newline)\n",
    "            else:\n",
    "                  newline = '{} {} {} {} \\n'.format(num,name,dept,tel)\n",
    "                  emp_list.append(newline)\n",
    "fin.close()\n",
    "\n",
    "with open('D:/test/my_sample.txt', 'w', encoding='utf-8') as fin:\n",
    "      fin.writelines(emp_list)\n",
    "fin.close()"
   ]
  },
  {
   "cell_type": "code",
   "execution_count": null,
   "id": "6997d7f8-ac58-4569-b641-0b0f45127bd0",
   "metadata": {},
   "outputs": [],
   "source": [
    "\n",
    "\n"
   ]
  }
 ],
 "metadata": {
  "kernelspec": {
   "display_name": "Python 3 (ipykernel)",
   "language": "python",
   "name": "python3"
  },
  "language_info": {
   "codemirror_mode": {
    "name": "ipython",
    "version": 3
   },
   "file_extension": ".py",
   "mimetype": "text/x-python",
   "name": "python",
   "nbconvert_exporter": "python",
   "pygments_lexer": "ipython3",
   "version": "3.9.12"
  }
 },
 "nbformat": 4,
 "nbformat_minor": 5
}
